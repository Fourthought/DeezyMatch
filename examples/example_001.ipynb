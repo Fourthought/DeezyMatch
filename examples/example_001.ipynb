{
 "cells": [
  {
   "cell_type": "markdown",
   "metadata": {},
   "source": [
    "# DeezyMatch, example_001"
   ]
  },
  {
   "cell_type": "markdown",
   "metadata": {},
   "source": [
    "## Train a new model"
   ]
  },
  {
   "cell_type": "code",
   "execution_count": 1,
   "metadata": {
    "scrolled": true
   },
   "outputs": [
    {
     "name": "stdout",
     "output_type": "stream",
     "text": [
      "\u001b[92m2020-08-11 12:21:36\u001b[0m \u001b[95mMAC-ATI0414\u001b[0m \u001b[1m\u001b[90m[INFO]\u001b[0m \u001b[2;32mread input file: ../inputs/input_dfm_notebook_001.yaml\u001b[0m\n",
      "\u001b[92m2020-08-11 12:21:36\u001b[0m \u001b[95mMAC-ATI0414\u001b[0m \u001b[1m\u001b[90m[INFO]\u001b[0m \u001b[1;31mGPU was requested but not available.\u001b[0m\n",
      "\u001b[92m2020-08-11 12:21:36\u001b[0m \u001b[95mMAC-ATI0414\u001b[0m \u001b[1m\u001b[90m[INFO]\u001b[0m \u001b[1;32mpytorch will use: cpu\u001b[0m\n",
      "\u001b[92m2020-08-11 12:21:36\u001b[0m \u001b[95mMAC-ATI0414\u001b[0m \u001b[1m\u001b[90m[INFO]\u001b[0m \u001b[2;32mread CSV file: ../dataset/dataset-string-similarity_test.txt\u001b[0m\n",
      "\u001b[92m2020-08-11 12:21:36\u001b[0m \u001b[95mMAC-ATI0414\u001b[0m \u001b[1m\u001b[90m[INFO]\u001b[0m \u001b[1;32mnumber of labels, True: 4998 and False: 4997\u001b[0m\n",
      "\u001b[92m2020-08-11 12:21:36\u001b[0m \u001b[95mMAC-ATI0414\u001b[0m \u001b[1m\u001b[90m[INFO]\u001b[0m \u001b[2;32mSplitting the Dataset\u001b[0m\n",
      "\u001b[92m2020-08-11 12:21:36\u001b[0m \u001b[95mMAC-ATI0414\u001b[0m \u001b[1m\u001b[90m[INFO]\u001b[0m \u001b[2;32mfinish splitting the Dataset. User time: 0.02075791358947754\u001b[0m\n",
      "\u001b[92m2020-08-11 12:21:36\u001b[0m \u001b[95mMAC-ATI0414\u001b[0m \u001b[1m\u001b[90m[INFO]\u001b[0m \u001b[1;32msplits are as follow:\n",
      "train    6997\n",
      "test     1500\n",
      "val      1498\n",
      "Name: split, dtype: int64\u001b[0m\n",
      "\u001b[92m2020-08-11 12:21:36\u001b[0m \u001b[95mMAC-ATI0414\u001b[0m \u001b[1m\u001b[90m[INFO]\u001b[0m \u001b[2;32mstart creating a lookup table and convert characters to indices\u001b[0m\n",
      "\u001b[92m2020-08-11 12:21:37\u001b[0m \u001b[95mMAC-ATI0414\u001b[0m \u001b[1m\u001b[90m[INFO]\u001b[0m \u001b[2;32m-- create vocabulary\u001b[0m\n"
     ]
    },
    {
     "name": "stderr",
     "output_type": "stream",
     "text": [
      "s2 padding:   0%|          | 0/6997 [00:00<?, ?it/s]"
     ]
    },
    {
     "name": "stdout",
     "output_type": "stream",
     "text": [
      "\u001b[92m2020-08-11 12:21:37\u001b[0m \u001b[95mMAC-ATI0414\u001b[0m \u001b[1m\u001b[90m[INFO]\u001b[0m \u001b[2;32m-- convert tokens to indices\u001b[0m\n",
      "\u001b[92m2020-08-11 12:21:37\u001b[0m \u001b[95mMAC-ATI0414\u001b[0m \u001b[1m\u001b[90m[INFO]\u001b[0m \u001b[2;32m-- create a lookup table for tokens\u001b[0m\n",
      "\u001b[92m2020-08-11 12:21:37\u001b[0m \u001b[95mMAC-ATI0414\u001b[0m \u001b[1m\u001b[90m[INFO]\u001b[0m \u001b[2;32m-- read list of characters from ../dataset/characters_v001.vocab\u001b[0m\n",
      "\u001b[92m2020-08-11 12:21:37\u001b[0m \u001b[95mMAC-ATI0414\u001b[0m \u001b[1m\u001b[90m[INFO]\u001b[0m \u001b[2;32m-- Length of vocabulary: 7542\u001b[0m\n"
     ]
    },
    {
     "name": "stderr",
     "output_type": "stream",
     "text": [
      "                                                    \r"
     ]
    },
    {
     "name": "stdout",
     "output_type": "stream",
     "text": [
      "\n",
      "\n",
      "\n",
      "\u001b[92m2020-08-11 12:21:37\u001b[0m \u001b[95mMAC-ATI0414\u001b[0m \u001b[1m\u001b[90m[INFO]\u001b[0m \u001b[95m******************************\u001b[0m\n",
      "\u001b[92m2020-08-11 12:21:37\u001b[0m \u001b[95mMAC-ATI0414\u001b[0m \u001b[1m\u001b[90m[INFO]\u001b[0m \u001b[95m**** (Bi-directional) GRU ****\u001b[0m\n",
      "\u001b[92m2020-08-11 12:21:37\u001b[0m \u001b[95mMAC-ATI0414\u001b[0m \u001b[1m\u001b[90m[INFO]\u001b[0m \u001b[95m******************************\u001b[0m\n",
      "\u001b[92m2020-08-11 12:21:37\u001b[0m \u001b[95mMAC-ATI0414\u001b[0m \u001b[1m\u001b[90m[INFO]\u001b[0m \u001b[2;32mread inputs\u001b[0m\n",
      "\u001b[92m2020-08-11 12:21:37\u001b[0m \u001b[95mMAC-ATI0414\u001b[0m \u001b[1m\u001b[90m[INFO]\u001b[0m \u001b[2;32mcreate a two_parallel_rnns model\u001b[0m\n",
      "\u001b[92m2020-08-11 12:21:37\u001b[0m \u001b[95mMAC-ATI0414\u001b[0m \u001b[1m\u001b[90m[INFO]\u001b[0m \u001b[1;32mstart fitting parameters\u001b[0m\n",
      "\u001b[92m2020-08-11 12:21:37\u001b[0m \u001b[95mMAC-ATI0414\u001b[0m \u001b[1m\u001b[90m[INFO]\u001b[0m \u001b[2;32mNumber of batches: 28\u001b[0m\n",
      "\u001b[92m2020-08-11 12:21:37\u001b[0m \u001b[95mMAC-ATI0414\u001b[0m \u001b[1m\u001b[90m[INFO]\u001b[0m \u001b[2;32mNumber of epochs: 5\u001b[0m\n"
     ]
    },
    {
     "data": {
      "application/vnd.jupyter.widget-view+json": {
       "model_id": "e2212f96960d4c9c9c21534f4efe6a21",
       "version_major": 2,
       "version_minor": 0
      },
      "text/plain": [
       "HBox(children=(FloatProgress(value=0.0, max=5.0), HTML(value='')))"
      ]
     },
     "metadata": {},
     "output_type": "display_data"
    },
    {
     "data": {
      "application/vnd.jupyter.widget-view+json": {
       "model_id": "",
       "version_major": 2,
       "version_minor": 0
      },
      "text/plain": [
       "HBox(children=(FloatProgress(value=0.0, max=28.0), HTML(value='')))"
      ]
     },
     "metadata": {},
     "output_type": "display_data"
    },
    {
     "name": "stdout",
     "output_type": "stream",
     "text": [
      "\n",
      "\n",
      "\n",
      "====================\n",
      "Total number of params: 627243\n",
      "\n",
      "two_parallel_rnns (\n",
      "  (emb): Embedding(7542, 60), weights=((7542, 60),), parameters=452520\n",
      "  (rnn_1): GRU(60, 60, num_layers=2, dropout=0.01, bidirectional=True), weights=((180, 60), (180, 60), (180,), (180,), (180, 60), (180, 60), (180,), (180,), (180, 120), (180, 60), (180,), (180,), (180, 120), (180, 60), (180,), (180,)), parameters=109440\n",
      "  (attn_step1): Linear(in_features=120, out_features=60, bias=True), weights=((60, 120), (60,)), parameters=7260\n",
      "  (attn_step2): Linear(in_features=60, out_features=1, bias=True), weights=((1, 60), (1,)), parameters=61\n",
      "  (fc1): Linear(in_features=480, out_features=120, bias=True), weights=((120, 480), (120,)), parameters=57720\n",
      "  (fc2): Linear(in_features=120, out_features=2, bias=True), weights=((2, 120), (2,)), parameters=242\n",
      ")\n",
      "====================\n",
      "\n",
      "\n",
      "\u001b[92m2020-08-11 12:21:56\u001b[0m \u001b[95mMAC-ATI0414\u001b[0m \u001b[1m\u001b[90m[INFO]\u001b[0m \u001b[0;33m08/11/2020_12:21:56 -- Epoch: 1/5; Train; loss: 0.694; acc: 0.503; precision: 0.503, recall: 0.486, macrof1: 0.503, weightedf1: 0.503\u001b[0m\n"
     ]
    },
    {
     "data": {
      "application/vnd.jupyter.widget-view+json": {
       "model_id": "",
       "version_major": 2,
       "version_minor": 0
      },
      "text/plain": [
       "HBox(children=(FloatProgress(value=0.0, max=6.0), HTML(value='')))"
      ]
     },
     "metadata": {},
     "output_type": "display_data"
    },
    {
     "name": "stdout",
     "output_type": "stream",
     "text": [
      "\u001b[92m2020-08-11 12:21:57\u001b[0m \u001b[95mMAC-ATI0414\u001b[0m \u001b[1m\u001b[90m[INFO]\u001b[0m \u001b[1;31m08/11/2020_12:21:57 -- Epoch: 1/5; Valid; loss: 0.693; acc: 0.497; precision: 0.481, recall: 0.067, macrof1: 0.383, weightedf1: 0.383\u001b[0m\n",
      "\u001b[92m2020-08-11 12:21:57\u001b[0m \u001b[95mMAC-ATI0414\u001b[0m \u001b[1m\u001b[90m[INFO]\u001b[0m \u001b[1;32msaving the model\u001b[0m\n"
     ]
    },
    {
     "data": {
      "application/vnd.jupyter.widget-view+json": {
       "model_id": "",
       "version_major": 2,
       "version_minor": 0
      },
      "text/plain": [
       "HBox(children=(FloatProgress(value=0.0, max=28.0), HTML(value='')))"
      ]
     },
     "metadata": {},
     "output_type": "display_data"
    },
    {
     "name": "stdout",
     "output_type": "stream",
     "text": [
      "\u001b[92m2020-08-11 12:22:15\u001b[0m \u001b[95mMAC-ATI0414\u001b[0m \u001b[1m\u001b[90m[INFO]\u001b[0m \u001b[0;33m08/11/2020_12:22:15 -- Epoch: 2/5; Train; loss: 0.687; acc: 0.547; precision: 0.543, recall: 0.596, macrof1: 0.546, weightedf1: 0.546\u001b[0m\n"
     ]
    },
    {
     "data": {
      "application/vnd.jupyter.widget-view+json": {
       "model_id": "",
       "version_major": 2,
       "version_minor": 0
      },
      "text/plain": [
       "HBox(children=(FloatProgress(value=0.0, max=6.0), HTML(value='')))"
      ]
     },
     "metadata": {},
     "output_type": "display_data"
    },
    {
     "name": "stdout",
     "output_type": "stream",
     "text": [
      "\u001b[92m2020-08-11 12:22:16\u001b[0m \u001b[95mMAC-ATI0414\u001b[0m \u001b[1m\u001b[90m[INFO]\u001b[0m \u001b[1;31m08/11/2020_12:22:16 -- Epoch: 2/5; Valid; loss: 0.684; acc: 0.541; precision: 0.538, recall: 0.571, macrof1: 0.540, weightedf1: 0.540\u001b[0m\n",
      "\u001b[92m2020-08-11 12:22:16\u001b[0m \u001b[95mMAC-ATI0414\u001b[0m \u001b[1m\u001b[90m[INFO]\u001b[0m \u001b[1;32msaving the model\u001b[0m\n"
     ]
    },
    {
     "data": {
      "application/vnd.jupyter.widget-view+json": {
       "model_id": "",
       "version_major": 2,
       "version_minor": 0
      },
      "text/plain": [
       "HBox(children=(FloatProgress(value=0.0, max=28.0), HTML(value='')))"
      ]
     },
     "metadata": {},
     "output_type": "display_data"
    },
    {
     "name": "stdout",
     "output_type": "stream",
     "text": [
      "\u001b[92m2020-08-11 12:22:40\u001b[0m \u001b[95mMAC-ATI0414\u001b[0m \u001b[1m\u001b[90m[INFO]\u001b[0m \u001b[0;33m08/11/2020_12:22:40 -- Epoch: 3/5; Train; loss: 0.660; acc: 0.617; precision: 0.621, recall: 0.604, macrof1: 0.617, weightedf1: 0.617\u001b[0m\n"
     ]
    },
    {
     "data": {
      "application/vnd.jupyter.widget-view+json": {
       "model_id": "",
       "version_major": 2,
       "version_minor": 0
      },
      "text/plain": [
       "HBox(children=(FloatProgress(value=0.0, max=6.0), HTML(value='')))"
      ]
     },
     "metadata": {},
     "output_type": "display_data"
    },
    {
     "name": "stdout",
     "output_type": "stream",
     "text": [
      "\u001b[92m2020-08-11 12:22:41\u001b[0m \u001b[95mMAC-ATI0414\u001b[0m \u001b[1m\u001b[90m[INFO]\u001b[0m \u001b[1;31m08/11/2020_12:22:41 -- Epoch: 3/5; Valid; loss: 0.640; acc: 0.646; precision: 0.619, recall: 0.757, macrof1: 0.641, weightedf1: 0.641\u001b[0m\n",
      "\u001b[92m2020-08-11 12:22:41\u001b[0m \u001b[95mMAC-ATI0414\u001b[0m \u001b[1m\u001b[90m[INFO]\u001b[0m \u001b[1;32msaving the model\u001b[0m\n"
     ]
    },
    {
     "data": {
      "application/vnd.jupyter.widget-view+json": {
       "model_id": "",
       "version_major": 2,
       "version_minor": 0
      },
      "text/plain": [
       "HBox(children=(FloatProgress(value=0.0, max=28.0), HTML(value='')))"
      ]
     },
     "metadata": {},
     "output_type": "display_data"
    },
    {
     "name": "stdout",
     "output_type": "stream",
     "text": [
      "\u001b[92m2020-08-11 12:23:00\u001b[0m \u001b[95mMAC-ATI0414\u001b[0m \u001b[1m\u001b[90m[INFO]\u001b[0m \u001b[0;33m08/11/2020_12:23:00 -- Epoch: 4/5; Train; loss: 0.595; acc: 0.694; precision: 0.673, recall: 0.753, macrof1: 0.693, weightedf1: 0.693\u001b[0m\n"
     ]
    },
    {
     "data": {
      "application/vnd.jupyter.widget-view+json": {
       "model_id": "",
       "version_major": 2,
       "version_minor": 0
      },
      "text/plain": [
       "HBox(children=(FloatProgress(value=0.0, max=6.0), HTML(value='')))"
      ]
     },
     "metadata": {},
     "output_type": "display_data"
    },
    {
     "name": "stdout",
     "output_type": "stream",
     "text": [
      "\u001b[92m2020-08-11 12:23:01\u001b[0m \u001b[95mMAC-ATI0414\u001b[0m \u001b[1m\u001b[90m[INFO]\u001b[0m \u001b[1;31m08/11/2020_12:23:01 -- Epoch: 4/5; Valid; loss: 0.602; acc: 0.685; precision: 0.677, recall: 0.708, macrof1: 0.685, weightedf1: 0.685\u001b[0m\n",
      "\u001b[92m2020-08-11 12:23:01\u001b[0m \u001b[95mMAC-ATI0414\u001b[0m \u001b[1m\u001b[90m[INFO]\u001b[0m \u001b[1;32msaving the model\u001b[0m\n"
     ]
    },
    {
     "data": {
      "application/vnd.jupyter.widget-view+json": {
       "model_id": "",
       "version_major": 2,
       "version_minor": 0
      },
      "text/plain": [
       "HBox(children=(FloatProgress(value=0.0, max=28.0), HTML(value='')))"
      ]
     },
     "metadata": {},
     "output_type": "display_data"
    },
    {
     "name": "stdout",
     "output_type": "stream",
     "text": [
      "\u001b[92m2020-08-11 12:23:23\u001b[0m \u001b[95mMAC-ATI0414\u001b[0m \u001b[1m\u001b[90m[INFO]\u001b[0m \u001b[0;33m08/11/2020_12:23:23 -- Epoch: 5/5; Train; loss: 0.546; acc: 0.731; precision: 0.713, recall: 0.771, macrof1: 0.730, weightedf1: 0.730\u001b[0m\n"
     ]
    },
    {
     "data": {
      "application/vnd.jupyter.widget-view+json": {
       "model_id": "",
       "version_major": 2,
       "version_minor": 0
      },
      "text/plain": [
       "HBox(children=(FloatProgress(value=0.0, max=6.0), HTML(value='')))"
      ]
     },
     "metadata": {},
     "output_type": "display_data"
    },
    {
     "name": "stdout",
     "output_type": "stream",
     "text": [
      "\u001b[92m2020-08-11 12:23:24\u001b[0m \u001b[95mMAC-ATI0414\u001b[0m \u001b[1m\u001b[90m[INFO]\u001b[0m \u001b[1;31m08/11/2020_12:23:24 -- Epoch: 5/5; Valid; loss: 0.586; acc: 0.706; precision: 0.699, recall: 0.722, macrof1: 0.706, weightedf1: 0.706\u001b[0m\n",
      "\u001b[92m2020-08-11 12:23:24\u001b[0m \u001b[95mMAC-ATI0414\u001b[0m \u001b[1m\u001b[90m[INFO]\u001b[0m \u001b[1;32msaving the model\u001b[0m\n",
      "\n",
      "\u001b[92m2020-08-11 12:23:24\u001b[0m \u001b[95mMAC-ATI0414\u001b[0m \u001b[1m\u001b[90m[INFO]\u001b[0m \u001b[1;32msaving the model\u001b[0m\n",
      "\n",
      "\n",
      "\n",
      "====================\n",
      "User time: 107.2872\n",
      "====================\n"
     ]
    }
   ],
   "source": [
    "from DeezyMatch import train as dm_train\n",
    "\n",
    "# train a new model\n",
    "dm_train(input_file_path=\"../inputs/input_dfm_notebook_001.yaml\", \n",
    "         dataset_path=\"../dataset/dataset-string-similarity_test.txt\", \n",
    "         model_name=\"test001\")"
   ]
  },
  {
   "cell_type": "code",
   "execution_count": 2,
   "metadata": {},
   "outputs": [
    {
     "name": "stdout",
     "output_type": "stream",
     "text": [
      "output_name: t001\n",
      "Time: 87s\n",
      "output_name: t001\n",
      "Time / epoch: 21.750s\n",
      "=============\n",
      "Epoch: 5, Loss: 0.586\n",
      "Epoch: 5, macro F1: 0.706\n",
      "Epoch: 5, Acc: 0.706\n",
      "Epoch: 5, Prec/Recall: 0.699/0.722\n"
     ]
    },
    {
     "data": {
      "image/png": "[encoded data removed]",
      "text/plain": [
       "<Figure size 1080x864 with 4 Axes>"
      ]
     },
     "metadata": {
      "needs_background": "light"
     },
     "output_type": "display_data"
    }
   ],
   "source": [
    "from DeezyMatch import plot_log\n",
    "\n",
    "# plot log file\n",
    "plot_log(path2log=\"./models/test001/log.txt\", \n",
    "         output_name=\"t001\")"
   ]
  },
  {
   "cell_type": "markdown",
   "metadata": {},
   "source": [
    "## Finetune a pretrained model"
   ]
  },
  {
   "cell_type": "code",
   "execution_count": 3,
   "metadata": {
    "scrolled": true
   },
   "outputs": [
    {
     "name": "stdout",
     "output_type": "stream",
     "text": [
      "\u001b[92m2020-08-11 12:23:29\u001b[0m \u001b[95mMAC-ATI0414\u001b[0m \u001b[1m\u001b[90m[INFO]\u001b[0m \u001b[2;32mread input file: ../inputs/input_dfm_notebook_001.yaml\u001b[0m\n",
      "\u001b[92m2020-08-11 12:23:29\u001b[0m \u001b[95mMAC-ATI0414\u001b[0m \u001b[1m\u001b[90m[INFO]\u001b[0m \u001b[1;31mGPU was requested but not available.\u001b[0m\n",
      "\u001b[92m2020-08-11 12:23:29\u001b[0m \u001b[95mMAC-ATI0414\u001b[0m \u001b[1m\u001b[90m[INFO]\u001b[0m \u001b[1;32mpytorch will use: cpu\u001b[0m\n",
      "\u001b[92m2020-08-11 12:23:29\u001b[0m \u001b[95mMAC-ATI0414\u001b[0m \u001b[1m\u001b[90m[INFO]\u001b[0m \u001b[2;32mread CSV file: ../dataset/dataset-string-similarity_test.txt\u001b[0m\n",
      "\u001b[92m2020-08-11 12:23:29\u001b[0m \u001b[95mMAC-ATI0414\u001b[0m \u001b[1m\u001b[90m[INFO]\u001b[0m \u001b[1;32mnumber of labels, True: 4998 and False: 4997\u001b[0m\n",
      "\u001b[92m2020-08-11 12:23:29\u001b[0m \u001b[95mMAC-ATI0414\u001b[0m \u001b[1m\u001b[90m[INFO]\u001b[0m \u001b[2;32mSplitting the Dataset\u001b[0m\n",
      "\u001b[92m2020-08-11 12:23:29\u001b[0m \u001b[95mMAC-ATI0414\u001b[0m \u001b[1m\u001b[90m[INFO]\u001b[0m \u001b[2;32mfinish splitting the Dataset. User time: 0.02255988121032715\u001b[0m\n",
      "\u001b[92m2020-08-11 12:23:29\u001b[0m \u001b[95mMAC-ATI0414\u001b[0m \u001b[1m\u001b[90m[INFO]\u001b[0m \u001b[1;32msplits are as follow:\n",
      "train    6997\n",
      "test     1500\n",
      "val      1498\n",
      "Name: split, dtype: int64\u001b[0m\n",
      "\u001b[92m2020-08-11 12:23:29\u001b[0m \u001b[95mMAC-ATI0414\u001b[0m \u001b[1m\u001b[90m[INFO]\u001b[0m \u001b[2;32mstart creating a lookup table and convert characters to indices\u001b[0m\n",
      "\u001b[92m2020-08-11 12:23:29\u001b[0m \u001b[95mMAC-ATI0414\u001b[0m \u001b[1m\u001b[90m[INFO]\u001b[0m \u001b[2;32m-- create vocabulary\u001b[0m\n"
     ]
    },
    {
     "name": "stderr",
     "output_type": "stream",
     "text": [
      "s2 padding:   0%|          | 0/6997 [00:00<?, ?it/s]"
     ]
    },
    {
     "name": "stdout",
     "output_type": "stream",
     "text": [
      "\u001b[92m2020-08-11 12:23:29\u001b[0m \u001b[95mMAC-ATI0414\u001b[0m \u001b[1m\u001b[90m[INFO]\u001b[0m \u001b[2;32m-- convert tokens to indices\u001b[0m\n",
      "\u001b[92m2020-08-11 12:23:29\u001b[0m \u001b[95mMAC-ATI0414\u001b[0m \u001b[1m\u001b[90m[INFO]\u001b[0m \u001b[2;32mskipping 0 lines\u001b[0m\n"
     ]
    },
    {
     "name": "stderr",
     "output_type": "stream",
     "text": [
      "                                                    \r"
     ]
    },
    {
     "name": "stdout",
     "output_type": "stream",
     "text": [
      "\n",
      "\n",
      "============================================================\n",
      "List all parameters in the model\n",
      "============================================================\n",
      "emb.weight False\n",
      "rnn_1.weight_ih_l0 False\n",
      "rnn_1.weight_hh_l0 False\n",
      "rnn_1.bias_ih_l0 False\n",
      "rnn_1.bias_hh_l0 False\n",
      "rnn_1.weight_ih_l0_reverse False\n",
      "rnn_1.weight_hh_l0_reverse False\n",
      "rnn_1.bias_ih_l0_reverse False\n",
      "rnn_1.bias_hh_l0_reverse False\n",
      "rnn_1.weight_ih_l1 False\n",
      "rnn_1.weight_hh_l1 False\n",
      "rnn_1.bias_ih_l1 False\n",
      "rnn_1.bias_hh_l1 False\n",
      "rnn_1.weight_ih_l1_reverse False\n",
      "rnn_1.weight_hh_l1_reverse False\n",
      "rnn_1.bias_ih_l1_reverse False\n",
      "rnn_1.bias_hh_l1_reverse False\n",
      "attn_step1.weight False\n",
      "attn_step1.bias False\n",
      "attn_step2.weight False\n",
      "attn_step2.bias False\n",
      "fc1.weight True\n",
      "fc1.bias True\n",
      "fc2.weight True\n",
      "fc2.bias True\n",
      "============================================================\n",
      "\n",
      "\n",
      "\n",
      "\u001b[92m2020-08-11 12:23:30\u001b[0m \u001b[95mMAC-ATI0414\u001b[0m \u001b[1m\u001b[90m[INFO]\u001b[0m \u001b[95m******************************\u001b[0m\n",
      "\u001b[92m2020-08-11 12:23:30\u001b[0m \u001b[95mMAC-ATI0414\u001b[0m \u001b[1m\u001b[90m[INFO]\u001b[0m \u001b[95m**** (Bi-directional) GRU ****\u001b[0m\n",
      "\u001b[92m2020-08-11 12:23:30\u001b[0m \u001b[95mMAC-ATI0414\u001b[0m \u001b[1m\u001b[90m[INFO]\u001b[0m \u001b[95m******************************\u001b[0m\n",
      "\u001b[92m2020-08-11 12:23:30\u001b[0m \u001b[95mMAC-ATI0414\u001b[0m \u001b[1m\u001b[90m[INFO]\u001b[0m \u001b[2;32mNumber of batches: 28\u001b[0m\n",
      "\u001b[92m2020-08-11 12:23:30\u001b[0m \u001b[95mMAC-ATI0414\u001b[0m \u001b[1m\u001b[90m[INFO]\u001b[0m \u001b[2;32mNumber of epochs: 5\u001b[0m\n"
     ]
    },
    {
     "data": {
      "application/vnd.jupyter.widget-view+json": {
       "model_id": "f925ad13874e4bb48b02a234e8daa4f1",
       "version_major": 2,
       "version_minor": 0
      },
      "text/plain": [
       "HBox(children=(FloatProgress(value=0.0, max=5.0), HTML(value='')))"
      ]
     },
     "metadata": {},
     "output_type": "display_data"
    },
    {
     "data": {
      "application/vnd.jupyter.widget-view+json": {
       "model_id": "",
       "version_major": 2,
       "version_minor": 0
      },
      "text/plain": [
       "HBox(children=(FloatProgress(value=0.0, max=28.0), HTML(value='')))"
      ]
     },
     "metadata": {},
     "output_type": "display_data"
    },
    {
     "name": "stdout",
     "output_type": "stream",
     "text": [
      "\n",
      "\n",
      "\n",
      "====================\n",
      "Total number of params: 627243\n",
      "\n",
      "two_parallel_rnns (\n",
      "  (emb): Embedding(7542, 60), weights=((7542, 60),), parameters=452520\n",
      "  (rnn_1): GRU(60, 60, num_layers=2, dropout=0.01, bidirectional=True), weights=((180, 60), (180, 60), (180,), (180,), (180, 60), (180, 60), (180,), (180,), (180, 120), (180, 60), (180,), (180,), (180, 120), (180, 60), (180,), (180,)), parameters=109440\n",
      "  (attn_step1): Linear(in_features=120, out_features=60, bias=True), weights=((60, 120), (60,)), parameters=7260\n",
      "  (attn_step2): Linear(in_features=60, out_features=1, bias=True), weights=((1, 60), (1,)), parameters=61\n",
      "  (fc1): Linear(in_features=480, out_features=120, bias=True), weights=((120, 480), (120,)), parameters=57720\n",
      "  (fc2): Linear(in_features=120, out_features=2, bias=True), weights=((2, 120), (2,)), parameters=242\n",
      ")\n",
      "====================\n",
      "\n",
      "\n",
      "\u001b[92m2020-08-11 12:23:35\u001b[0m \u001b[95mMAC-ATI0414\u001b[0m \u001b[1m\u001b[90m[INFO]\u001b[0m \u001b[0;33m08/11/2020_12:23:35 -- Epoch: 1/5; Train; loss: 0.506; acc: 0.765; precision: 0.754, recall: 0.787, macrof1: 0.765, weightedf1: 0.765\u001b[0m\n"
     ]
    },
    {
     "data": {
      "application/vnd.jupyter.widget-view+json": {
       "model_id": "",
       "version_major": 2,
       "version_minor": 0
      },
      "text/plain": [
       "HBox(children=(FloatProgress(value=0.0, max=6.0), HTML(value='')))"
      ]
     },
     "metadata": {},
     "output_type": "display_data"
    },
    {
     "name": "stdout",
     "output_type": "stream",
     "text": [
      "\u001b[92m2020-08-11 12:23:35\u001b[0m \u001b[95mMAC-ATI0414\u001b[0m \u001b[1m\u001b[90m[INFO]\u001b[0m \u001b[1;31m08/11/2020_12:23:35 -- Epoch: 1/5; Valid; loss: 0.589; acc: 0.708; precision: 0.698, recall: 0.733, macrof1: 0.707, weightedf1: 0.707\u001b[0m\n",
      "\u001b[92m2020-08-11 12:23:35\u001b[0m \u001b[95mMAC-ATI0414\u001b[0m \u001b[1m\u001b[90m[INFO]\u001b[0m \u001b[1;32msaving the model\u001b[0m\n"
     ]
    },
    {
     "data": {
      "application/vnd.jupyter.widget-view+json": {
       "model_id": "",
       "version_major": 2,
       "version_minor": 0
      },
      "text/plain": [
       "HBox(children=(FloatProgress(value=0.0, max=28.0), HTML(value='')))"
      ]
     },
     "metadata": {},
     "output_type": "display_data"
    },
    {
     "name": "stdout",
     "output_type": "stream",
     "text": [
      "\u001b[92m2020-08-11 12:23:40\u001b[0m \u001b[95mMAC-ATI0414\u001b[0m \u001b[1m\u001b[90m[INFO]\u001b[0m \u001b[0;33m08/11/2020_12:23:40 -- Epoch: 2/5; Train; loss: 0.485; acc: 0.776; precision: 0.761, recall: 0.805, macrof1: 0.776, weightedf1: 0.776\u001b[0m\n"
     ]
    },
    {
     "data": {
      "application/vnd.jupyter.widget-view+json": {
       "model_id": "",
       "version_major": 2,
       "version_minor": 0
      },
      "text/plain": [
       "HBox(children=(FloatProgress(value=0.0, max=6.0), HTML(value='')))"
      ]
     },
     "metadata": {},
     "output_type": "display_data"
    },
    {
     "name": "stdout",
     "output_type": "stream",
     "text": [
      "\u001b[92m2020-08-11 12:23:41\u001b[0m \u001b[95mMAC-ATI0414\u001b[0m \u001b[1m\u001b[90m[INFO]\u001b[0m \u001b[1;31m08/11/2020_12:23:41 -- Epoch: 2/5; Valid; loss: 0.599; acc: 0.700; precision: 0.680, recall: 0.757, macrof1: 0.699, weightedf1: 0.699\u001b[0m\n",
      "\u001b[92m2020-08-11 12:23:41\u001b[0m \u001b[95mMAC-ATI0414\u001b[0m \u001b[1m\u001b[90m[INFO]\u001b[0m \u001b[1;32msaving the model\u001b[0m\n"
     ]
    },
    {
     "data": {
      "application/vnd.jupyter.widget-view+json": {
       "model_id": "",
       "version_major": 2,
       "version_minor": 0
      },
      "text/plain": [
       "HBox(children=(FloatProgress(value=0.0, max=28.0), HTML(value='')))"
      ]
     },
     "metadata": {},
     "output_type": "display_data"
    },
    {
     "name": "stdout",
     "output_type": "stream",
     "text": [
      "\u001b[92m2020-08-11 12:23:47\u001b[0m \u001b[95mMAC-ATI0414\u001b[0m \u001b[1m\u001b[90m[INFO]\u001b[0m \u001b[0;33m08/11/2020_12:23:47 -- Epoch: 3/5; Train; loss: 0.475; acc: 0.781; precision: 0.767, recall: 0.809, macrof1: 0.781, weightedf1: 0.781\u001b[0m\n"
     ]
    },
    {
     "data": {
      "application/vnd.jupyter.widget-view+json": {
       "model_id": "",
       "version_major": 2,
       "version_minor": 0
      },
      "text/plain": [
       "HBox(children=(FloatProgress(value=0.0, max=6.0), HTML(value='')))"
      ]
     },
     "metadata": {},
     "output_type": "display_data"
    },
    {
     "name": "stdout",
     "output_type": "stream",
     "text": [
      "\u001b[92m2020-08-11 12:23:48\u001b[0m \u001b[95mMAC-ATI0414\u001b[0m \u001b[1m\u001b[90m[INFO]\u001b[0m \u001b[1;31m08/11/2020_12:23:48 -- Epoch: 3/5; Valid; loss: 0.602; acc: 0.709; precision: 0.694, recall: 0.746, macrof1: 0.709, weightedf1: 0.709\u001b[0m\n",
      "\u001b[92m2020-08-11 12:23:48\u001b[0m \u001b[95mMAC-ATI0414\u001b[0m \u001b[1m\u001b[90m[INFO]\u001b[0m \u001b[1;32msaving the model\u001b[0m\n"
     ]
    },
    {
     "data": {
      "application/vnd.jupyter.widget-view+json": {
       "model_id": "",
       "version_major": 2,
       "version_minor": 0
      },
      "text/plain": [
       "HBox(children=(FloatProgress(value=0.0, max=28.0), HTML(value='')))"
      ]
     },
     "metadata": {},
     "output_type": "display_data"
    },
    {
     "name": "stdout",
     "output_type": "stream",
     "text": [
      "\u001b[92m2020-08-11 12:23:53\u001b[0m \u001b[95mMAC-ATI0414\u001b[0m \u001b[1m\u001b[90m[INFO]\u001b[0m \u001b[0;33m08/11/2020_12:23:53 -- Epoch: 4/5; Train; loss: 0.465; acc: 0.786; precision: 0.776, recall: 0.805, macrof1: 0.786, weightedf1: 0.786\u001b[0m\n"
     ]
    },
    {
     "data": {
      "application/vnd.jupyter.widget-view+json": {
       "model_id": "",
       "version_major": 2,
       "version_minor": 0
      },
      "text/plain": [
       "HBox(children=(FloatProgress(value=0.0, max=6.0), HTML(value='')))"
      ]
     },
     "metadata": {},
     "output_type": "display_data"
    },
    {
     "name": "stdout",
     "output_type": "stream",
     "text": [
      "\u001b[92m2020-08-11 12:23:54\u001b[0m \u001b[95mMAC-ATI0414\u001b[0m \u001b[1m\u001b[90m[INFO]\u001b[0m \u001b[1;31m08/11/2020_12:23:54 -- Epoch: 4/5; Valid; loss: 0.602; acc: 0.701; precision: 0.686, recall: 0.740, macrof1: 0.700, weightedf1: 0.700\u001b[0m\n",
      "\u001b[92m2020-08-11 12:23:54\u001b[0m \u001b[95mMAC-ATI0414\u001b[0m \u001b[1m\u001b[90m[INFO]\u001b[0m \u001b[1;32msaving the model\u001b[0m\n"
     ]
    },
    {
     "data": {
      "application/vnd.jupyter.widget-view+json": {
       "model_id": "",
       "version_major": 2,
       "version_minor": 0
      },
      "text/plain": [
       "HBox(children=(FloatProgress(value=0.0, max=28.0), HTML(value='')))"
      ]
     },
     "metadata": {},
     "output_type": "display_data"
    },
    {
     "name": "stdout",
     "output_type": "stream",
     "text": [
      "\u001b[92m2020-08-11 12:24:00\u001b[0m \u001b[95mMAC-ATI0414\u001b[0m \u001b[1m\u001b[90m[INFO]\u001b[0m \u001b[0;33m08/11/2020_12:24:00 -- Epoch: 5/5; Train; loss: 0.458; acc: 0.790; precision: 0.778, recall: 0.812, macrof1: 0.790, weightedf1: 0.790\u001b[0m\n"
     ]
    },
    {
     "data": {
      "application/vnd.jupyter.widget-view+json": {
       "model_id": "",
       "version_major": 2,
       "version_minor": 0
      },
      "text/plain": [
       "HBox(children=(FloatProgress(value=0.0, max=6.0), HTML(value='')))"
      ]
     },
     "metadata": {},
     "output_type": "display_data"
    },
    {
     "name": "stdout",
     "output_type": "stream",
     "text": [
      "\u001b[92m2020-08-11 12:24:01\u001b[0m \u001b[95mMAC-ATI0414\u001b[0m \u001b[1m\u001b[90m[INFO]\u001b[0m \u001b[1;31m08/11/2020_12:24:01 -- Epoch: 5/5; Valid; loss: 0.606; acc: 0.697; precision: 0.695, recall: 0.702, macrof1: 0.697, weightedf1: 0.697\u001b[0m\n",
      "\u001b[92m2020-08-11 12:24:01\u001b[0m \u001b[95mMAC-ATI0414\u001b[0m \u001b[1m\u001b[90m[INFO]\u001b[0m \u001b[1;32msaving the model\u001b[0m\n",
      "\n",
      "\u001b[92m2020-08-11 12:24:01\u001b[0m \u001b[95mMAC-ATI0414\u001b[0m \u001b[1m\u001b[90m[INFO]\u001b[0m \u001b[1;32msaving the model\u001b[0m\n",
      "\n",
      "\n",
      "\n",
      "====================\n",
      "User time: 31.1528\n",
      "====================\n"
     ]
    }
   ],
   "source": [
    "from DeezyMatch import finetune as dm_finetune\n",
    "\n",
    "# fine-tune a pretrained model stored at pretrained_model_path and pretrained_vocab_path \n",
    "dm_finetune(input_file_path=\"../inputs/input_dfm_notebook_001.yaml\", \n",
    "            dataset_path=\"../dataset/dataset-string-similarity_test.txt\", \n",
    "            model_name=\"finetuned_test001\",\n",
    "            pretrained_model_path=\"./models/test001/test001.model\", \n",
    "            pretrained_vocab_path=\"./models/test001/test001.vocab\")"
   ]
  },
  {
   "cell_type": "markdown",
   "metadata": {},
   "source": [
    "## Model inference"
   ]
  },
  {
   "cell_type": "code",
   "execution_count": 4,
   "metadata": {
    "scrolled": true
   },
   "outputs": [
    {
     "name": "stdout",
     "output_type": "stream",
     "text": [
      "\u001b[92m2020-08-11 12:24:01\u001b[0m \u001b[95mMAC-ATI0414\u001b[0m \u001b[1m\u001b[90m[INFO]\u001b[0m \u001b[2;32mread input file: ../inputs/input_dfm_notebook_001.yaml\u001b[0m\n",
      "\u001b[92m2020-08-11 12:24:01\u001b[0m \u001b[95mMAC-ATI0414\u001b[0m \u001b[1m\u001b[90m[INFO]\u001b[0m \u001b[1;31mGPU was requested but not available.\u001b[0m\n",
      "\u001b[92m2020-08-11 12:24:01\u001b[0m \u001b[95mMAC-ATI0414\u001b[0m \u001b[1m\u001b[90m[INFO]\u001b[0m \u001b[1;32mpytorch will use: cpu\u001b[0m\n",
      "\u001b[92m2020-08-11 12:24:01\u001b[0m \u001b[95mMAC-ATI0414\u001b[0m \u001b[1m\u001b[90m[INFO]\u001b[0m \u001b[2;32mread CSV file: ../dataset/dataset-string-similarity_test.txt\u001b[0m\n",
      "\u001b[92m2020-08-11 12:24:01\u001b[0m \u001b[95mMAC-ATI0414\u001b[0m \u001b[1m\u001b[90m[INFO]\u001b[0m \u001b[1;32mnumber of labels, True: 4998 and False: 4997\u001b[0m\n"
     ]
    },
    {
     "name": "stderr",
     "output_type": "stream",
     "text": [
      "s1 padding:   0%|          | 0/9995 [00:00<?, ?it/s]"
     ]
    },
    {
     "name": "stdout",
     "output_type": "stream",
     "text": [
      "\u001b[92m2020-08-11 12:24:01\u001b[0m \u001b[95mMAC-ATI0414\u001b[0m \u001b[1m\u001b[90m[INFO]\u001b[0m \u001b[2;32mskipping 0 lines\u001b[0m\n"
     ]
    },
    {
     "name": "stderr",
     "output_type": "stream",
     "text": [
      "                                                    \r"
     ]
    },
    {
     "data": {
      "application/vnd.jupyter.widget-view+json": {
       "model_id": "",
       "version_major": 2,
       "version_minor": 0
      },
      "text/plain": [
       "HBox(children=(FloatProgress(value=0.0, max=40.0), HTML(value='')))"
      ]
     },
     "metadata": {},
     "output_type": "display_data"
    },
    {
     "name": "stdout",
     "output_type": "stream",
     "text": [
      "\u001b[92m2020-08-11 12:24:07\u001b[0m \u001b[95mMAC-ATI0414\u001b[0m \u001b[1m\u001b[90m[INFO]\u001b[0m \u001b[1;31m08/11/2020_12:24:07 -- Epoch: 0/0; Test; loss: 0.500; acc: 0.771; precision: 0.768, recall: 0.777, macrof1: 0.771, weightedf1: 0.771\u001b[0m\n",
      "--- 6.554147720336914 seconds ---\n"
     ]
    }
   ],
   "source": [
    "from DeezyMatch import inference as dm_inference\n",
    "\n",
    "# model inference using a model stored at pretrained_model_path and pretrained_vocab_path \n",
    "dm_inference(input_file_path=\"../inputs/input_dfm_notebook_001.yaml\",\n",
    "             dataset_path=\"../dataset/dataset-string-similarity_test.txt\", \n",
    "             pretrained_model_path=\"./models/finetuned_test001/finetuned_test001.model\", \n",
    "             pretrained_vocab_path=\"./models/finetuned_test001/finetuned_test001.vocab\")"
   ]
  },
  {
   "cell_type": "markdown",
   "metadata": {},
   "source": [
    "## Generate query vectors"
   ]
  },
  {
   "cell_type": "code",
   "execution_count": 5,
   "metadata": {},
   "outputs": [
    {
     "name": "stdout",
     "output_type": "stream",
     "text": [
      "\u001b[92m2020-08-11 12:24:07\u001b[0m \u001b[95mMAC-ATI0414\u001b[0m \u001b[1m\u001b[90m[INFO]\u001b[0m \u001b[2;32mread input file: ../inputs/input_dfm.yaml\u001b[0m\n",
      "\u001b[92m2020-08-11 12:24:07\u001b[0m \u001b[95mMAC-ATI0414\u001b[0m \u001b[1m\u001b[90m[INFO]\u001b[0m \u001b[1;31mGPU was requested but not available.\u001b[0m\n",
      "\u001b[92m2020-08-11 12:24:07\u001b[0m \u001b[95mMAC-ATI0414\u001b[0m \u001b[1m\u001b[90m[INFO]\u001b[0m \u001b[1;32mpytorch will use: cpu\u001b[0m\n",
      "\u001b[92m2020-08-11 12:24:08\u001b[0m \u001b[95mMAC-ATI0414\u001b[0m \u001b[1m\u001b[90m[INFO]\u001b[0m \u001b[2;32mread CSV file: ../dataset/dataset-string-similarity_test.txt\u001b[0m\n",
      "\u001b[92m2020-08-11 12:24:08\u001b[0m \u001b[95mMAC-ATI0414\u001b[0m \u001b[1m\u001b[90m[INFO]\u001b[0m \u001b[1;32mnumber of labels, True: 4998 and False: 4997\u001b[0m\n",
      "\u001b[92m2020-08-11 12:24:08\u001b[0m \u001b[95mMAC-ATI0414\u001b[0m \u001b[1m\u001b[90m[INFO]\u001b[0m \u001b[2;32mskipping 0 lines\u001b[0m\n"
     ]
    },
    {
     "name": "stderr",
     "output_type": "stream",
     "text": [
      "                                                    \r"
     ]
    },
    {
     "name": "stdout",
     "output_type": "stream",
     "text": [
      "\u001b[92m2020-08-11 12:24:08\u001b[0m \u001b[95mMAC-ATI0414\u001b[0m \u001b[1m\u001b[90m[INFO]\u001b[0m \u001b[2;32msave test-data-class: /Users/khosseini/myJobs/ATI/Projects/2019/DeezyMatch/examples/queries/test/dataframe.df\u001b[0m\n"
     ]
    },
    {
     "data": {
      "application/vnd.jupyter.widget-view+json": {
       "model_id": "",
       "version_major": 2,
       "version_minor": 0
      },
      "text/plain": [
       "HBox(children=(FloatProgress(value=0.0, max=40.0), HTML(value='')))"
      ]
     },
     "metadata": {},
     "output_type": "display_data"
    },
    {
     "name": "stdout",
     "output_type": "stream",
     "text": [
      "--- 4.726541996002197 seconds ---\n"
     ]
    }
   ],
   "source": [
    "from DeezyMatch import inference as dm_inference\n",
    "\n",
    "# generate vectors for queries (specified in dataset_path) \n",
    "# using a model stored at pretrained_model_path and pretrained_vocab_path \n",
    "dm_inference(input_file_path=\"../inputs/input_dfm.yaml\",\n",
    "            dataset_path=\"../dataset/dataset-string-similarity_test.txt\", \n",
    "            pretrained_model_path=\"./models/finetuned_test001/finetuned_test001.model\", \n",
    "            pretrained_vocab_path=\"./models/finetuned_test001/finetuned_test001.vocab\",\n",
    "            inference_mode=\"vect\",\n",
    "            scenario=\"queries/test\")"
   ]
  },
  {
   "cell_type": "markdown",
   "metadata": {},
   "source": [
    "## Generate candidate vectors"
   ]
  },
  {
   "cell_type": "code",
   "execution_count": 6,
   "metadata": {},
   "outputs": [
    {
     "name": "stdout",
     "output_type": "stream",
     "text": [
      "\u001b[92m2020-08-11 12:24:12\u001b[0m \u001b[95mMAC-ATI0414\u001b[0m \u001b[1m\u001b[90m[INFO]\u001b[0m \u001b[2;32mread input file: ../inputs/input_dfm.yaml\u001b[0m\n",
      "\u001b[92m2020-08-11 12:24:12\u001b[0m \u001b[95mMAC-ATI0414\u001b[0m \u001b[1m\u001b[90m[INFO]\u001b[0m \u001b[1;31mGPU was requested but not available.\u001b[0m\n",
      "\u001b[92m2020-08-11 12:24:12\u001b[0m \u001b[95mMAC-ATI0414\u001b[0m \u001b[1m\u001b[90m[INFO]\u001b[0m \u001b[1;32mpytorch will use: cpu\u001b[0m\n",
      "\u001b[92m2020-08-11 12:24:12\u001b[0m \u001b[95mMAC-ATI0414\u001b[0m \u001b[1m\u001b[90m[INFO]\u001b[0m \u001b[2;32mread CSV file: ../dataset/dataset-string-similarity_test.txt\u001b[0m\n",
      "\u001b[92m2020-08-11 12:24:12\u001b[0m \u001b[95mMAC-ATI0414\u001b[0m \u001b[1m\u001b[90m[INFO]\u001b[0m \u001b[1;32mnumber of labels, True: 4998 and False: 4997\u001b[0m\n"
     ]
    },
    {
     "name": "stderr",
     "output_type": "stream",
     "text": [
      "                                                    "
     ]
    },
    {
     "name": "stdout",
     "output_type": "stream",
     "text": [
      "\u001b[92m2020-08-11 12:24:12\u001b[0m \u001b[95mMAC-ATI0414\u001b[0m \u001b[1m\u001b[90m[INFO]\u001b[0m \u001b[2;32mskipping 0 lines\u001b[0m\n",
      "\u001b[92m2020-08-11 12:24:13\u001b[0m \u001b[95mMAC-ATI0414\u001b[0m \u001b[1m\u001b[90m[INFO]\u001b[0m \u001b[2;32msave test-data-class: /Users/khosseini/myJobs/ATI/Projects/2019/DeezyMatch/examples/candidates/test/dataframe.df\u001b[0m\n"
     ]
    },
    {
     "name": "stderr",
     "output_type": "stream",
     "text": [
      "\r"
     ]
    },
    {
     "data": {
      "application/vnd.jupyter.widget-view+json": {
       "model_id": "",
       "version_major": 2,
       "version_minor": 0
      },
      "text/plain": [
       "HBox(children=(FloatProgress(value=0.0, max=40.0), HTML(value='')))"
      ]
     },
     "metadata": {},
     "output_type": "display_data"
    },
    {
     "name": "stdout",
     "output_type": "stream",
     "text": [
      "--- 4.279234886169434 seconds ---\n"
     ]
    }
   ],
   "source": [
    "from DeezyMatch import inference as dm_inference\n",
    "\n",
    "# generate vectors for candidates (specified in dataset_path) \n",
    "# using a model stored at pretrained_model_path and pretrained_vocab_path \n",
    "dm_inference(input_file_path=\"../inputs/input_dfm.yaml\",\n",
    "             dataset_path=\"../dataset/dataset-string-similarity_test.txt\", \n",
    "             pretrained_model_path=\"./models/finetuned_test001/finetuned_test001.model\", \n",
    "             pretrained_vocab_path=\"./models/finetuned_test001/finetuned_test001.vocab\",\n",
    "             inference_mode=\"vect\",\n",
    "             scenario=\"candidates/test\")"
   ]
  },
  {
   "cell_type": "markdown",
   "metadata": {},
   "source": [
    "## Assembling queries vector representations"
   ]
  },
  {
   "cell_type": "code",
   "execution_count": 7,
   "metadata": {
    "scrolled": true
   },
   "outputs": [
    {
     "name": "stdout",
     "output_type": "stream",
     "text": [
      "\u001b[92m2020-08-11 12:24:17\u001b[0m \u001b[95mMAC-ATI0414\u001b[0m \u001b[1m\u001b[90m[INFO]\u001b[0m \u001b[2;32mread input file: queries/test/input_dfm.yaml\u001b[0m\n",
      "\u001b[92m2020-08-11 12:24:17\u001b[0m \u001b[95mMAC-ATI0414\u001b[0m \u001b[1m\u001b[90m[INFO]\u001b[0m \u001b[1;31mGPU was requested but not available.\u001b[0m\n",
      "\u001b[92m2020-08-11 12:24:17\u001b[0m \u001b[95mMAC-ATI0414\u001b[0m \u001b[1m\u001b[90m[INFO]\u001b[0m \u001b[1;32mpytorch will use: cpu\u001b[0m\n",
      "\n",
      "\n",
      "-- Combine vectors\n",
      "Reading vectors from queries/test/embeddings/rnn_fwd*\n",
      "0000000 queries/test/embeddings/rnn_fwd_0\n",
      "0000010 queries/test/embeddings/rnn_fwd_10\n",
      "0000020 queries/test/embeddings/rnn_fwd_20\n",
      "0000030 queries/test/embeddings/rnn_fwd_30\n",
      "\n",
      "\n",
      "-- Combine IDs\n",
      "0000000 queries/test/embeddings/rnn_indxs_0\n",
      "0000010 queries/test/embeddings/rnn_indxs_10\n",
      "0000020 queries/test/embeddings/rnn_indxs_20\n",
      "0000030 queries/test/embeddings/rnn_indxs_30\n",
      "\n",
      "\n",
      "\n",
      "-- Combine vectors\n",
      "Reading vectors from queries/test/embeddings/rnn_bwd*\n",
      "0000000 queries/test/embeddings/rnn_bwd_0\n",
      "0000010 queries/test/embeddings/rnn_bwd_10\n",
      "0000020 queries/test/embeddings/rnn_bwd_20\n",
      "0000030 queries/test/embeddings/rnn_bwd_30\n",
      "\n",
      "\n",
      "-- Combine IDs\n",
      "0000000 queries/test/embeddings/rnn_indxs_0\n",
      "0000010 queries/test/embeddings/rnn_indxs_10\n",
      "0000020 queries/test/embeddings/rnn_indxs_20\n",
      "0000030 queries/test/embeddings/rnn_indxs_30\n",
      "\n",
      "--- 160.68995094299316 seconds ---\n"
     ]
    }
   ],
   "source": [
    "from DeezyMatch import combine_vecs\n",
    "\n",
    "# combine vectors stored in queries/test and save them in combined/queries_test\n",
    "combine_vecs(rnn_passes=['fwd', 'bwd'], \n",
    "             input_scenario='queries/test', \n",
    "             output_scenario='combined/queries_test', \n",
    "             print_every=10)"
   ]
  },
  {
   "cell_type": "markdown",
   "metadata": {},
   "source": [
    "## Assembling candidates vector representations"
   ]
  },
  {
   "cell_type": "code",
   "execution_count": 8,
   "metadata": {
    "scrolled": true
   },
   "outputs": [
    {
     "name": "stdout",
     "output_type": "stream",
     "text": [
      "\u001b[92m2020-08-11 12:24:17\u001b[0m \u001b[95mMAC-ATI0414\u001b[0m \u001b[1m\u001b[90m[INFO]\u001b[0m \u001b[2;32mread input file: candidates/test/input_dfm.yaml\u001b[0m\n",
      "\u001b[92m2020-08-11 12:24:17\u001b[0m \u001b[95mMAC-ATI0414\u001b[0m \u001b[1m\u001b[90m[INFO]\u001b[0m \u001b[1;31mGPU was requested but not available.\u001b[0m\n",
      "\u001b[92m2020-08-11 12:24:17\u001b[0m \u001b[95mMAC-ATI0414\u001b[0m \u001b[1m\u001b[90m[INFO]\u001b[0m \u001b[1;32mpytorch will use: cpu\u001b[0m\n",
      "\n",
      "\n",
      "-- Combine vectors\n",
      "Reading vectors from candidates/test/embeddings/rnn_fwd*\n",
      "0000000 candidates/test/embeddings/rnn_fwd_0\n",
      "0000010 candidates/test/embeddings/rnn_fwd_10\n",
      "0000020 candidates/test/embeddings/rnn_fwd_20\n",
      "0000030 candidates/test/embeddings/rnn_fwd_30\n",
      "\n",
      "\n",
      "-- Combine IDs\n",
      "0000000 candidates/test/embeddings/rnn_indxs_0\n",
      "0000010 candidates/test/embeddings/rnn_indxs_10\n",
      "0000020 candidates/test/embeddings/rnn_indxs_20\n",
      "0000030 candidates/test/embeddings/rnn_indxs_30\n",
      "\n",
      "\n",
      "\n",
      "-- Combine vectors\n",
      "Reading vectors from candidates/test/embeddings/rnn_bwd*\n",
      "0000000 candidates/test/embeddings/rnn_bwd_0\n",
      "0000010 candidates/test/embeddings/rnn_bwd_10\n",
      "0000020 candidates/test/embeddings/rnn_bwd_20\n",
      "0000030 candidates/test/embeddings/rnn_bwd_30\n",
      "\n",
      "\n",
      "-- Combine IDs\n",
      "0000000 candidates/test/embeddings/rnn_indxs_0\n",
      "0000010 candidates/test/embeddings/rnn_indxs_10\n",
      "0000020 candidates/test/embeddings/rnn_indxs_20\n",
      "0000030 candidates/test/embeddings/rnn_indxs_30\n",
      "\n",
      "--- 161.31212496757507 seconds ---\n"
     ]
    }
   ],
   "source": [
    "from DeezyMatch import combine_vecs\n",
    "\n",
    "# combine vectors stored in candidates/test and save them in combined/candidates_test\n",
    "combine_vecs(rnn_passes=['fwd', 'bwd'], \n",
    "             input_scenario='candidates/test', \n",
    "             output_scenario='combined/candidates_test', \n",
    "             print_every=10)"
   ]
  },
  {
   "cell_type": "markdown",
   "metadata": {},
   "source": [
    "## Candidate Ranker"
   ]
  },
  {
   "cell_type": "code",
   "execution_count": 9,
   "metadata": {
    "scrolled": true
   },
   "outputs": [
    {
     "name": "stderr",
     "output_type": "stream",
     "text": [
      "                                                 "
     ]
    },
    {
     "name": "stdout",
     "output_type": "stream",
     "text": [
      "\u001b[92m2020-08-11 12:24:18\u001b[0m \u001b[95mMAC-ATI0414\u001b[0m \u001b[1m\u001b[90m[INFO]\u001b[0m \u001b[2;32mread input file: ./combined/candidates_test/input_dfm.yaml\u001b[0m\n",
      "\u001b[92m2020-08-11 12:24:18\u001b[0m \u001b[95mMAC-ATI0414\u001b[0m \u001b[1m\u001b[90m[INFO]\u001b[0m \u001b[1;31mGPU was requested but not available.\u001b[0m\n",
      "\u001b[92m2020-08-11 12:24:18\u001b[0m \u001b[95mMAC-ATI0414\u001b[0m \u001b[1m\u001b[90m[INFO]\u001b[0m \u001b[1;32mpytorch will use: cpu\u001b[0m\n",
      "Is faiss_id_candis already trained? True\n",
      "=========== Start the search for 0 la dom nxy\n"
     ]
    },
    {
     "name": "stderr",
     "output_type": "stream",
     "text": [
      "\r"
     ]
    },
    {
     "data": {
      "application/vnd.jupyter.widget-view+json": {
       "model_id": "",
       "version_major": 2,
       "version_minor": 0
      },
      "text/plain": [
       "HBox(children=(FloatProgress(value=0.0, max=1.0), HTML(value='')))"
      ]
     },
     "metadata": {},
     "output_type": "display_data"
    },
    {
     "name": "stderr",
     "output_type": "stream",
     "text": [
      "                                                 "
     ]
    },
    {
     "name": "stdout",
     "output_type": "stream",
     "text": [
      "ID: 1/9995 -- Number of found candidates so far: 2, searched: 2\n",
      "=========== Start the search for 1 Krutoy\n"
     ]
    },
    {
     "name": "stderr",
     "output_type": "stream",
     "text": [
      "\r"
     ]
    },
    {
     "data": {
      "application/vnd.jupyter.widget-view+json": {
       "model_id": "",
       "version_major": 2,
       "version_minor": 0
      },
      "text/plain": [
       "HBox(children=(FloatProgress(value=0.0, max=1.0), HTML(value='')))"
      ]
     },
     "metadata": {},
     "output_type": "display_data"
    },
    {
     "name": "stderr",
     "output_type": "stream",
     "text": [
      "                                                 "
     ]
    },
    {
     "name": "stdout",
     "output_type": "stream",
     "text": [
      "ID: 2/9995 -- Number of found candidates so far: 2, searched: 2\n",
      "=========== Start the search for 2 Sharunyata\n"
     ]
    },
    {
     "name": "stderr",
     "output_type": "stream",
     "text": [
      "\r"
     ]
    },
    {
     "data": {
      "application/vnd.jupyter.widget-view+json": {
       "model_id": "",
       "version_major": 2,
       "version_minor": 0
      },
      "text/plain": [
       "HBox(children=(FloatProgress(value=0.0, max=1.0), HTML(value='')))"
      ]
     },
     "metadata": {},
     "output_type": "display_data"
    },
    {
     "name": "stderr",
     "output_type": "stream",
     "text": [
      "                                                 \r"
     ]
    },
    {
     "name": "stdout",
     "output_type": "stream",
     "text": [
      "ID: 3/9995 -- Number of found candidates so far: 2, searched: 2\n",
      "=========== Start the search for 3 Sutangcun\n"
     ]
    },
    {
     "data": {
      "application/vnd.jupyter.widget-view+json": {
       "model_id": "",
       "version_major": 2,
       "version_minor": 0
      },
      "text/plain": [
       "HBox(children=(FloatProgress(value=0.0, max=1.0), HTML(value='')))"
      ]
     },
     "metadata": {},
     "output_type": "display_data"
    },
    {
     "name": "stderr",
     "output_type": "stream",
     "text": [
      "                                                 "
     ]
    },
    {
     "name": "stdout",
     "output_type": "stream",
     "text": [
      "ID: 4/9995 -- Number of found candidates so far: 2, searched: 2\n",
      "=========== Start the search for 4 Jowkār-e Shafī‘\n"
     ]
    },
    {
     "name": "stderr",
     "output_type": "stream",
     "text": [
      "\r"
     ]
    },
    {
     "data": {
      "application/vnd.jupyter.widget-view+json": {
       "model_id": "",
       "version_major": 2,
       "version_minor": 0
      },
      "text/plain": [
       "HBox(children=(FloatProgress(value=0.0, max=1.0), HTML(value='')))"
      ]
     },
     "metadata": {},
     "output_type": "display_data"
    },
    {
     "name": "stdout",
     "output_type": "stream",
     "text": [
      "ID: 5/9995 -- Number of found candidates so far: 2, searched: 2\n",
      "=========== Start the search for 5 rongreiyn ban hwy h wk cxmthxng\n"
     ]
    },
    {
     "name": "stderr",
     "output_type": "stream",
     "text": [
      "                                                 \r"
     ]
    },
    {
     "data": {
      "application/vnd.jupyter.widget-view+json": {
       "model_id": "",
       "version_major": 2,
       "version_minor": 0
      },
      "text/plain": [
       "HBox(children=(FloatProgress(value=0.0, max=1.0), HTML(value='')))"
      ]
     },
     "metadata": {},
     "output_type": "display_data"
    },
    {
     "name": "stderr",
     "output_type": "stream",
     "text": [
      "s1 padding:   0%|          | 0/2 [00:00<?, ?it/s]"
     ]
    },
    {
     "name": "stdout",
     "output_type": "stream",
     "text": [
      "ID: 6/9995 -- Number of found candidates so far: 2, searched: 2\n",
      "=========== Start the search for 6 同心村\n"
     ]
    },
    {
     "name": "stderr",
     "output_type": "stream",
     "text": [
      "                                                 \r"
     ]
    },
    {
     "data": {
      "application/vnd.jupyter.widget-view+json": {
       "model_id": "",
       "version_major": 2,
       "version_minor": 0
      },
      "text/plain": [
       "HBox(children=(FloatProgress(value=0.0, max=1.0), HTML(value='')))"
      ]
     },
     "metadata": {},
     "output_type": "display_data"
    },
    {
     "name": "stdout",
     "output_type": "stream",
     "text": [
      "ID: 7/9995 -- Number of found candidates so far: 2, searched: 2\n",
      "=========== Start the search for 7 Engeskjæran\n"
     ]
    },
    {
     "name": "stderr",
     "output_type": "stream",
     "text": [
      "                                                 \r"
     ]
    },
    {
     "data": {
      "application/vnd.jupyter.widget-view+json": {
       "model_id": "",
       "version_major": 2,
       "version_minor": 0
      },
      "text/plain": [
       "HBox(children=(FloatProgress(value=0.0, max=1.0), HTML(value='')))"
      ]
     },
     "metadata": {},
     "output_type": "display_data"
    },
    {
     "name": "stderr",
     "output_type": "stream",
     "text": [
      "length s2:   0%|          | 0/2 [00:00<?, ?it/s]"
     ]
    },
    {
     "name": "stdout",
     "output_type": "stream",
     "text": [
      "ID: 8/9995 -- Number of found candidates so far: 2, searched: 2\n",
      "=========== Start the search for 8 Izumo-zaki\n"
     ]
    },
    {
     "name": "stderr",
     "output_type": "stream",
     "text": [
      "                                                 \r"
     ]
    },
    {
     "data": {
      "application/vnd.jupyter.widget-view+json": {
       "model_id": "",
       "version_major": 2,
       "version_minor": 0
      },
      "text/plain": [
       "HBox(children=(FloatProgress(value=0.0, max=1.0), HTML(value='')))"
      ]
     },
     "metadata": {},
     "output_type": "display_data"
    },
    {
     "name": "stderr",
     "output_type": "stream",
     "text": [
      "                                                 "
     ]
    },
    {
     "name": "stdout",
     "output_type": "stream",
     "text": [
      "ID: 9/9995 -- Number of found candidates so far: 2, searched: 2\n",
      "=========== Start the search for 9 داشت پنجشیر\n"
     ]
    },
    {
     "name": "stderr",
     "output_type": "stream",
     "text": [
      "\r"
     ]
    },
    {
     "data": {
      "application/vnd.jupyter.widget-view+json": {
       "model_id": "",
       "version_major": 2,
       "version_minor": 0
      },
      "text/plain": [
       "HBox(children=(FloatProgress(value=0.0, max=1.0), HTML(value='')))"
      ]
     },
     "metadata": {},
     "output_type": "display_data"
    },
    {
     "name": "stderr",
     "output_type": "stream",
     "text": [
      "                                                 "
     ]
    },
    {
     "name": "stdout",
     "output_type": "stream",
     "text": [
      "ID: 10/9995 -- Number of found candidates so far: 2, searched: 2\n",
      "=========== Start the search for 10 Qermez Khalifeh-ye `Olya\n"
     ]
    },
    {
     "name": "stderr",
     "output_type": "stream",
     "text": [
      "\r"
     ]
    },
    {
     "data": {
      "application/vnd.jupyter.widget-view+json": {
       "model_id": "",
       "version_major": 2,
       "version_minor": 0
      },
      "text/plain": [
       "HBox(children=(FloatProgress(value=0.0, max=1.0), HTML(value='')))"
      ]
     },
     "metadata": {},
     "output_type": "display_data"
    },
    {
     "name": "stderr",
     "output_type": "stream",
     "text": [
      "                                                 "
     ]
    },
    {
     "name": "stdout",
     "output_type": "stream",
     "text": [
      "ID: 11/9995 -- Number of found candidates so far: 2, searched: 2\n",
      "=========== Start the search for 11 კირენია\n"
     ]
    },
    {
     "name": "stderr",
     "output_type": "stream",
     "text": [
      "\r"
     ]
    },
    {
     "data": {
      "application/vnd.jupyter.widget-view+json": {
       "model_id": "",
       "version_major": 2,
       "version_minor": 0
      },
      "text/plain": [
       "HBox(children=(FloatProgress(value=0.0, max=1.0), HTML(value='')))"
      ]
     },
     "metadata": {},
     "output_type": "display_data"
    },
    {
     "name": "stderr",
     "output_type": "stream",
     "text": [
      "                                                 "
     ]
    },
    {
     "name": "stdout",
     "output_type": "stream",
     "text": [
      "ID: 12/9995 -- Number of found candidates so far: 2, searched: 2\n",
      "=========== Start the search for 12 Ozero Pogoreloe\n"
     ]
    },
    {
     "name": "stderr",
     "output_type": "stream",
     "text": [
      "\r"
     ]
    },
    {
     "data": {
      "application/vnd.jupyter.widget-view+json": {
       "model_id": "",
       "version_major": 2,
       "version_minor": 0
      },
      "text/plain": [
       "HBox(children=(FloatProgress(value=0.0, max=1.0), HTML(value='')))"
      ]
     },
     "metadata": {},
     "output_type": "display_data"
    },
    {
     "name": "stderr",
     "output_type": "stream",
     "text": [
      "                                                 "
     ]
    },
    {
     "name": "stdout",
     "output_type": "stream",
     "text": [
      "ID: 13/9995 -- Number of found candidates so far: 2, searched: 2\n",
      "=========== Start the search for 13 Anfijld\n"
     ]
    },
    {
     "name": "stderr",
     "output_type": "stream",
     "text": [
      "\r"
     ]
    },
    {
     "data": {
      "application/vnd.jupyter.widget-view+json": {
       "model_id": "",
       "version_major": 2,
       "version_minor": 0
      },
      "text/plain": [
       "HBox(children=(FloatProgress(value=0.0, max=1.0), HTML(value='')))"
      ]
     },
     "metadata": {},
     "output_type": "display_data"
    },
    {
     "name": "stderr",
     "output_type": "stream",
     "text": [
      "                                                 "
     ]
    },
    {
     "name": "stdout",
     "output_type": "stream",
     "text": [
      "ID: 14/9995 -- Number of found candidates so far: 2, searched: 2\n",
      "=========== Start the search for 14 Qanât el-Manzala\n"
     ]
    },
    {
     "name": "stderr",
     "output_type": "stream",
     "text": [
      "\r"
     ]
    },
    {
     "data": {
      "application/vnd.jupyter.widget-view+json": {
       "model_id": "",
       "version_major": 2,
       "version_minor": 0
      },
      "text/plain": [
       "HBox(children=(FloatProgress(value=0.0, max=1.0), HTML(value='')))"
      ]
     },
     "metadata": {},
     "output_type": "display_data"
    },
    {
     "name": "stderr",
     "output_type": "stream",
     "text": [
      "                                                 "
     ]
    },
    {
     "name": "stdout",
     "output_type": "stream",
     "text": [
      "ID: 15/9995 -- Number of found candidates so far: 2, searched: 2\n",
      "=========== Start the search for 15 Starnay\n"
     ]
    },
    {
     "name": "stderr",
     "output_type": "stream",
     "text": [
      "\r"
     ]
    },
    {
     "data": {
      "application/vnd.jupyter.widget-view+json": {
       "model_id": "",
       "version_major": 2,
       "version_minor": 0
      },
      "text/plain": [
       "HBox(children=(FloatProgress(value=0.0, max=1.0), HTML(value='')))"
      ]
     },
     "metadata": {},
     "output_type": "display_data"
    },
    {
     "name": "stderr",
     "output_type": "stream",
     "text": [
      "                                                 "
     ]
    },
    {
     "name": "stdout",
     "output_type": "stream",
     "text": [
      "ID: 16/9995 -- Number of found candidates so far: 2, searched: 2\n",
      "=========== Start the search for 16 Bandar-e Hūnī\n"
     ]
    },
    {
     "name": "stderr",
     "output_type": "stream",
     "text": [
      "\r"
     ]
    },
    {
     "data": {
      "application/vnd.jupyter.widget-view+json": {
       "model_id": "",
       "version_major": 2,
       "version_minor": 0
      },
      "text/plain": [
       "HBox(children=(FloatProgress(value=0.0, max=1.0), HTML(value='')))"
      ]
     },
     "metadata": {},
     "output_type": "display_data"
    },
    {
     "name": "stderr",
     "output_type": "stream",
     "text": [
      "                                                 "
     ]
    },
    {
     "name": "stdout",
     "output_type": "stream",
     "text": [
      "ID: 17/9995 -- Number of found candidates so far: 2, searched: 2\n",
      "=========== Start the search for 17 Sinbotin\n"
     ]
    },
    {
     "name": "stderr",
     "output_type": "stream",
     "text": [
      "\r"
     ]
    },
    {
     "data": {
      "application/vnd.jupyter.widget-view+json": {
       "model_id": "",
       "version_major": 2,
       "version_minor": 0
      },
      "text/plain": [
       "HBox(children=(FloatProgress(value=0.0, max=1.0), HTML(value='')))"
      ]
     },
     "metadata": {},
     "output_type": "display_data"
    },
    {
     "name": "stderr",
     "output_type": "stream",
     "text": [
      "                                                 "
     ]
    },
    {
     "name": "stdout",
     "output_type": "stream",
     "text": [
      "ID: 18/9995 -- Number of found candidates so far: 2, searched: 2\n",
      "=========== Start the search for 18 Yŏhangmyŏn-samuso\n"
     ]
    },
    {
     "name": "stderr",
     "output_type": "stream",
     "text": [
      "\r"
     ]
    },
    {
     "data": {
      "application/vnd.jupyter.widget-view+json": {
       "model_id": "",
       "version_major": 2,
       "version_minor": 0
      },
      "text/plain": [
       "HBox(children=(FloatProgress(value=0.0, max=1.0), HTML(value='')))"
      ]
     },
     "metadata": {},
     "output_type": "display_data"
    },
    {
     "name": "stderr",
     "output_type": "stream",
     "text": [
      "                                                 "
     ]
    },
    {
     "name": "stdout",
     "output_type": "stream",
     "text": [
      "ID: 19/9995 -- Number of found candidates so far: 2, searched: 2\n",
      "=========== Start the search for 19 Mājra\n"
     ]
    },
    {
     "name": "stderr",
     "output_type": "stream",
     "text": [
      "\r"
     ]
    },
    {
     "data": {
      "application/vnd.jupyter.widget-view+json": {
       "model_id": "",
       "version_major": 2,
       "version_minor": 0
      },
      "text/plain": [
       "HBox(children=(FloatProgress(value=0.0, max=1.0), HTML(value='')))"
      ]
     },
     "metadata": {},
     "output_type": "display_data"
    },
    {
     "name": "stdout",
     "output_type": "stream",
     "text": [
      "ID: 20/9995 -- Number of found candidates so far: 2, searched: 2\n",
      "TOTAL TIME: 3.0013930797576904\n"
     ]
    }
   ],
   "source": [
    "from DeezyMatch import candidate_ranker\n",
    "\n",
    "# Select candidates based on L2-norm distance (aka faiss distance):\n",
    "# find candidates from candidate_scenario \n",
    "# for queries specified in query_scenario\n",
    "candidates_pd = \\\n",
    "    candidate_ranker(query_scenario=\"./combined/queries_test\",\n",
    "                     candidate_scenario=\"./combined/candidates_test\", \n",
    "                     ranking_metric=\"faiss\", \n",
    "                     selection_threshold=5., \n",
    "                     num_candidates=2, \n",
    "                     search_size=2, \n",
    "                     output_path=\"ranker_results/test_candidates_deezymatch\", \n",
    "                     pretrained_model_path=\"./models/finetuned_test001/finetuned_test001.model\", \n",
    "                     pretrained_vocab_path=\"./models/finetuned_test001/finetuned_test001.vocab\", \n",
    "                     number_test_rows=20)"
   ]
  },
  {
   "cell_type": "code",
   "execution_count": 10,
   "metadata": {
    "scrolled": true
   },
   "outputs": [
    {
     "data": {
      "text/html": [
       "<div>\n",
       "<style scoped>\n",
       "    .dataframe tbody tr th:only-of-type {\n",
       "        vertical-align: middle;\n",
       "    }\n",
       "\n",
       "    .dataframe tbody tr th {\n",
       "        vertical-align: top;\n",
       "    }\n",
       "\n",
       "    .dataframe thead th {\n",
       "        text-align: right;\n",
       "    }\n",
       "</style>\n",
       "<table border=\"1\" class=\"dataframe\">\n",
       "  <thead>\n",
       "    <tr style=\"text-align: right;\">\n",
       "      <th></th>\n",
       "      <th>query</th>\n",
       "      <th>pred_score</th>\n",
       "      <th>faiss_distance</th>\n",
       "      <th>cosine_sim</th>\n",
       "      <th>candidate_original_ids</th>\n",
       "      <th>query_original_id</th>\n",
       "      <th>num_all_searches</th>\n",
       "    </tr>\n",
       "    <tr>\n",
       "      <th>id</th>\n",
       "      <th></th>\n",
       "      <th></th>\n",
       "      <th></th>\n",
       "      <th></th>\n",
       "      <th></th>\n",
       "      <th></th>\n",
       "      <th></th>\n",
       "    </tr>\n",
       "  </thead>\n",
       "  <tbody>\n",
       "    <tr>\n",
       "      <th>0</th>\n",
       "      <td>la dom nxy</td>\n",
       "      <td>{'la dom nxy': 0.7519, 'Laowuxia': 0.5833}</td>\n",
       "      <td>{'la dom nxy': 0.0, 'Laowuxia': 3.3053}</td>\n",
       "      <td>{'la dom nxy': 1.0, 'Laowuxia': 0.841}</td>\n",
       "      <td>{'la dom nxy': 0, 'Laowuxia': 9624}</td>\n",
       "      <td>0</td>\n",
       "      <td>2</td>\n",
       "    </tr>\n",
       "    <tr>\n",
       "      <th>1</th>\n",
       "      <td>Krutoy</td>\n",
       "      <td>{'Krutoy': 0.7878, 'wrkt': 0.8212}</td>\n",
       "      <td>{'Krutoy': 0.0, 'wrkt': 2.2673}</td>\n",
       "      <td>{'Krutoy': 1.0, 'wrkt': 0.9401}</td>\n",
       "      <td>{'Krutoy': 1, 'wrkt': 7955}</td>\n",
       "      <td>1</td>\n",
       "      <td>2</td>\n",
       "    </tr>\n",
       "    <tr>\n",
       "      <th>2</th>\n",
       "      <td>Sharunyata</td>\n",
       "      <td>{'Sharunyata': 0.7121, 'Shēlah-ye Nasar-e Jari...</td>\n",
       "      <td>{'Sharunyata': 0.0, 'Shēlah-ye Nasar-e Jaritā'...</td>\n",
       "      <td>{'Sharunyata': 1.0, 'Shēlah-ye Nasar-e Jaritā'...</td>\n",
       "      <td>{'Sharunyata': 2, 'Shēlah-ye Nasar-e Jaritā': ...</td>\n",
       "      <td>2</td>\n",
       "      <td>2</td>\n",
       "    </tr>\n",
       "    <tr>\n",
       "      <th>3</th>\n",
       "      <td>Sutangcun</td>\n",
       "      <td>{'Sutangcun': 0.7067, 'Seohongcheon': 0.759}</td>\n",
       "      <td>{'Sutangcun': 0.0, 'Seohongcheon': 2.7927}</td>\n",
       "      <td>{'Sutangcun': 1.0, 'Seohongcheon': 0.8455}</td>\n",
       "      <td>{'Sutangcun': 3, 'Seohongcheon': 2184}</td>\n",
       "      <td>3</td>\n",
       "      <td>2</td>\n",
       "    </tr>\n",
       "    <tr>\n",
       "      <th>4</th>\n",
       "      <td>Jowkār-e Shafī‘</td>\n",
       "      <td>{'Jowkār-e Shafī‘': 0.6045, 'wad thung kha phi...</td>\n",
       "      <td>{'Jowkār-e Shafī‘': 0.0, 'wad thung kha phi': ...</td>\n",
       "      <td>{'Jowkār-e Shafī‘': 1.0, 'wad thung kha phi': ...</td>\n",
       "      <td>{'Jowkār-e Shafī‘': 4, 'wad thung kha phi': 9489}</td>\n",
       "      <td>4</td>\n",
       "      <td>2</td>\n",
       "    </tr>\n",
       "    <tr>\n",
       "      <th>5</th>\n",
       "      <td>rongreiyn ban hwy h wk cxmthxng</td>\n",
       "      <td>{'rongreiyn ban hwy h wk cxmthxng': 0.7091, 'r...</td>\n",
       "      <td>{'rongreiyn ban hwy h wk cxmthxng': 0.0, 'rong...</td>\n",
       "      <td>{'rongreiyn ban hwy h wk cxmthxng': 1.0, 'rong...</td>\n",
       "      <td>{'rongreiyn ban hwy h wk cxmthxng': 5, 'rongre...</td>\n",
       "      <td>5</td>\n",
       "      <td>2</td>\n",
       "    </tr>\n",
       "    <tr>\n",
       "      <th>6</th>\n",
       "      <td>同心村</td>\n",
       "      <td>{'同心村': 0.0442, '河清村': 0.0356}</td>\n",
       "      <td>{'同心村': 0.0, '河清村': 2.9607}</td>\n",
       "      <td>{'同心村': 1.0, '河清村': 0.9148}</td>\n",
       "      <td>{'同心村': 6, '河清村': 7616}</td>\n",
       "      <td>6</td>\n",
       "      <td>2</td>\n",
       "    </tr>\n",
       "    <tr>\n",
       "      <th>7</th>\n",
       "      <td>Engeskjæran</td>\n",
       "      <td>{'Engeskjæran': 0.857, 'Engenheiro Olavo Barre...</td>\n",
       "      <td>{'Engeskjæran': 0.0, 'Engenheiro Olavo Barreto...</td>\n",
       "      <td>{'Engeskjæran': 1.0, 'Engenheiro Olavo Barreto...</td>\n",
       "      <td>{'Engeskjæran': 7, 'Engenheiro Olavo Barreto V...</td>\n",
       "      <td>7</td>\n",
       "      <td>2</td>\n",
       "    </tr>\n",
       "    <tr>\n",
       "      <th>8</th>\n",
       "      <td>Izumo-zaki</td>\n",
       "      <td>{'Izumo-zaki': 0.7968, 'Imyong-ni': 0.7853}</td>\n",
       "      <td>{'Izumo-zaki': 0.0, 'Imyong-ni': 2.3599}</td>\n",
       "      <td>{'Izumo-zaki': 1.0, 'Imyong-ni': 0.9561}</td>\n",
       "      <td>{'Izumo-zaki': 8, 'Imyong-ni': 6231}</td>\n",
       "      <td>8</td>\n",
       "      <td>2</td>\n",
       "    </tr>\n",
       "    <tr>\n",
       "      <th>9</th>\n",
       "      <td>داشت پنجشیر</td>\n",
       "      <td>{'داشت پنجشیر': 0.0457, 'البو شنندخ': 0.0148}</td>\n",
       "      <td>{'داشت پنجشیر': 0.0, 'البو شنندخ': 2.6586}</td>\n",
       "      <td>{'داشت پنجشیر': 1.0, 'البو شنندخ': 0.9505}</td>\n",
       "      <td>{'داشت پنجشیر': 9, 'البو شنندخ': 9760}</td>\n",
       "      <td>9</td>\n",
       "      <td>2</td>\n",
       "    </tr>\n",
       "    <tr>\n",
       "      <th>10</th>\n",
       "      <td>Qermez Khalifeh-ye `Olya</td>\n",
       "      <td>{'Qermez Khalifeh-ye `Olya': 0.7894, 'Veruda':...</td>\n",
       "      <td>{'Qermez Khalifeh-ye `Olya': 0.0, 'Veruda': 3....</td>\n",
       "      <td>{'Qermez Khalifeh-ye `Olya': 1.0, 'Veruda': 0....</td>\n",
       "      <td>{'Qermez Khalifeh-ye `Olya': 10, 'Veruda': 4221}</td>\n",
       "      <td>10</td>\n",
       "      <td>2</td>\n",
       "    </tr>\n",
       "    <tr>\n",
       "      <th>11</th>\n",
       "      <td>კირენია</td>\n",
       "      <td>{'კირენია': 0.0271, 'Ремежь': 0.0422}</td>\n",
       "      <td>{'კირენია': 0.0, 'Ремежь': 2.741}</td>\n",
       "      <td>{'კირენია': 1.0, 'Ремежь': 0.9033}</td>\n",
       "      <td>{'კირენია': 11, 'Ремежь': 5040}</td>\n",
       "      <td>11</td>\n",
       "      <td>2</td>\n",
       "    </tr>\n",
       "    <tr>\n",
       "      <th>12</th>\n",
       "      <td>Ozero Pogoreloe</td>\n",
       "      <td>{'Ozero Pogoreloe': 0.6972, 'Ozero Melkoe': 0....</td>\n",
       "      <td>{'Ozero Pogoreloe': 0.0, 'Ozero Melkoe': 1.5503}</td>\n",
       "      <td>{'Ozero Pogoreloe': 1.0, 'Ozero Melkoe': 0.945}</td>\n",
       "      <td>{'Ozero Pogoreloe': 12, 'Ozero Melkoe': 9716}</td>\n",
       "      <td>12</td>\n",
       "      <td>2</td>\n",
       "    </tr>\n",
       "    <tr>\n",
       "      <th>13</th>\n",
       "      <td>Anfijld</td>\n",
       "      <td>{'Anfijld': 0.6458, 'Yang-chiao-hsü': 0.6875}</td>\n",
       "      <td>{'Anfijld': 0.0, 'Yang-chiao-hsü': 2.745}</td>\n",
       "      <td>{'Anfijld': 1.0, 'Yang-chiao-hsü': 0.9127}</td>\n",
       "      <td>{'Anfijld': 13, 'Yang-chiao-hsü': 1721}</td>\n",
       "      <td>13</td>\n",
       "      <td>2</td>\n",
       "    </tr>\n",
       "    <tr>\n",
       "      <th>14</th>\n",
       "      <td>Qanât el-Manzala</td>\n",
       "      <td>{'Qanât el-Manzala': 0.8526, 'ban tha pea haw ...</td>\n",
       "      <td>{'Qanât el-Manzala': 0.0, 'ban tha pea haw na'...</td>\n",
       "      <td>{'Qanât el-Manzala': 1.0, 'ban tha pea haw na'...</td>\n",
       "      <td>{'Qanât el-Manzala': 14, 'ban tha pea haw na':...</td>\n",
       "      <td>14</td>\n",
       "      <td>2</td>\n",
       "    </tr>\n",
       "    <tr>\n",
       "      <th>15</th>\n",
       "      <td>Starnay</td>\n",
       "      <td>{'Starnay': 0.7547, 'Starojchka Krasta': 0.7788}</td>\n",
       "      <td>{'Starnay': 0.0, 'Starojchka Krasta': 1.115}</td>\n",
       "      <td>{'Starnay': 1.0, 'Starojchka Krasta': 0.974}</td>\n",
       "      <td>{'Starnay': 15, 'Starojchka Krasta': 6721}</td>\n",
       "      <td>15</td>\n",
       "      <td>2</td>\n",
       "    </tr>\n",
       "    <tr>\n",
       "      <th>16</th>\n",
       "      <td>Bandar-e Hūnī</td>\n",
       "      <td>{'Bandar-e Hūnī': 0.6884, 'Ban Hangdonlékfai':...</td>\n",
       "      <td>{'Bandar-e Hūnī': 0.0, 'Ban Hangdonlékfai': 1....</td>\n",
       "      <td>{'Bandar-e Hūnī': 1.0, 'Ban Hangdonlékfai': 0....</td>\n",
       "      <td>{'Bandar-e Hūnī': 16, 'Ban Hangdonlékfai': 4701}</td>\n",
       "      <td>16</td>\n",
       "      <td>2</td>\n",
       "    </tr>\n",
       "    <tr>\n",
       "      <th>17</th>\n",
       "      <td>Sinbotin</td>\n",
       "      <td>{'Sinbotin': 0.8071, 'Sinhŭng-ni': 0.7544}</td>\n",
       "      <td>{'Sinbotin': 0.0, 'Sinhŭng-ni': 1.7337}</td>\n",
       "      <td>{'Sinbotin': 1.0, 'Sinhŭng-ni': 0.9532}</td>\n",
       "      <td>{'Sinbotin': 17, 'Sinhŭng-ni': 1677}</td>\n",
       "      <td>17</td>\n",
       "      <td>2</td>\n",
       "    </tr>\n",
       "    <tr>\n",
       "      <th>18</th>\n",
       "      <td>Yŏhangmyŏn-samuso</td>\n",
       "      <td>{'Yŏhangmyŏn-samuso': 0.7847, 'yuan kou': 0.5358}</td>\n",
       "      <td>{'Yŏhangmyŏn-samuso': 0.0, 'yuan kou': 3.0474}</td>\n",
       "      <td>{'Yŏhangmyŏn-samuso': 1.0, 'yuan kou': 0.9025}</td>\n",
       "      <td>{'Yŏhangmyŏn-samuso': 18, 'yuan kou': 164}</td>\n",
       "      <td>18</td>\n",
       "      <td>2</td>\n",
       "    </tr>\n",
       "    <tr>\n",
       "      <th>19</th>\n",
       "      <td>Mājra</td>\n",
       "      <td>{'Mājra': 0.5517, 'Majiyara': 0.6023}</td>\n",
       "      <td>{'Mājra': 0.0, 'Majiyara': 1.6336}</td>\n",
       "      <td>{'Mājra': 1.0, 'Majiyara': 0.9611}</td>\n",
       "      <td>{'Mājra': 19, 'Majiyara': 8872}</td>\n",
       "      <td>19</td>\n",
       "      <td>2</td>\n",
       "    </tr>\n",
       "  </tbody>\n",
       "</table>\n",
       "</div>"
      ],
      "text/plain": [
       "                              query  \\\n",
       "id                                    \n",
       "0                        la dom nxy   \n",
       "1                            Krutoy   \n",
       "2                        Sharunyata   \n",
       "3                         Sutangcun   \n",
       "4                   Jowkār-e Shafī‘   \n",
       "5   rongreiyn ban hwy h wk cxmthxng   \n",
       "6                               同心村   \n",
       "7                       Engeskjæran   \n",
       "8                        Izumo-zaki   \n",
       "9                       داشت پنجشیر   \n",
       "10         Qermez Khalifeh-ye `Olya   \n",
       "11                          კირენია   \n",
       "12                  Ozero Pogoreloe   \n",
       "13                          Anfijld   \n",
       "14                 Qanât el-Manzala   \n",
       "15                          Starnay   \n",
       "16                    Bandar-e Hūnī   \n",
       "17                         Sinbotin   \n",
       "18                Yŏhangmyŏn-samuso   \n",
       "19                            Mājra   \n",
       "\n",
       "                                           pred_score  \\\n",
       "id                                                      \n",
       "0          {'la dom nxy': 0.7519, 'Laowuxia': 0.5833}   \n",
       "1                  {'Krutoy': 0.7878, 'wrkt': 0.8212}   \n",
       "2   {'Sharunyata': 0.7121, 'Shēlah-ye Nasar-e Jari...   \n",
       "3        {'Sutangcun': 0.7067, 'Seohongcheon': 0.759}   \n",
       "4   {'Jowkār-e Shafī‘': 0.6045, 'wad thung kha phi...   \n",
       "5   {'rongreiyn ban hwy h wk cxmthxng': 0.7091, 'r...   \n",
       "6                      {'同心村': 0.0442, '河清村': 0.0356}   \n",
       "7   {'Engeskjæran': 0.857, 'Engenheiro Olavo Barre...   \n",
       "8         {'Izumo-zaki': 0.7968, 'Imyong-ni': 0.7853}   \n",
       "9       {'داشت پنجشیر': 0.0457, 'البو شنندخ': 0.0148}   \n",
       "10  {'Qermez Khalifeh-ye `Olya': 0.7894, 'Veruda':...   \n",
       "11              {'კირენია': 0.0271, 'Ремежь': 0.0422}   \n",
       "12  {'Ozero Pogoreloe': 0.6972, 'Ozero Melkoe': 0....   \n",
       "13      {'Anfijld': 0.6458, 'Yang-chiao-hsü': 0.6875}   \n",
       "14  {'Qanât el-Manzala': 0.8526, 'ban tha pea haw ...   \n",
       "15   {'Starnay': 0.7547, 'Starojchka Krasta': 0.7788}   \n",
       "16  {'Bandar-e Hūnī': 0.6884, 'Ban Hangdonlékfai':...   \n",
       "17         {'Sinbotin': 0.8071, 'Sinhŭng-ni': 0.7544}   \n",
       "18  {'Yŏhangmyŏn-samuso': 0.7847, 'yuan kou': 0.5358}   \n",
       "19              {'Mājra': 0.5517, 'Majiyara': 0.6023}   \n",
       "\n",
       "                                       faiss_distance  \\\n",
       "id                                                      \n",
       "0             {'la dom nxy': 0.0, 'Laowuxia': 3.3053}   \n",
       "1                     {'Krutoy': 0.0, 'wrkt': 2.2673}   \n",
       "2   {'Sharunyata': 0.0, 'Shēlah-ye Nasar-e Jaritā'...   \n",
       "3          {'Sutangcun': 0.0, 'Seohongcheon': 2.7927}   \n",
       "4   {'Jowkār-e Shafī‘': 0.0, 'wad thung kha phi': ...   \n",
       "5   {'rongreiyn ban hwy h wk cxmthxng': 0.0, 'rong...   \n",
       "6                         {'同心村': 0.0, '河清村': 2.9607}   \n",
       "7   {'Engeskjæran': 0.0, 'Engenheiro Olavo Barreto...   \n",
       "8            {'Izumo-zaki': 0.0, 'Imyong-ni': 2.3599}   \n",
       "9          {'داشت پنجشیر': 0.0, 'البو شنندخ': 2.6586}   \n",
       "10  {'Qermez Khalifeh-ye `Olya': 0.0, 'Veruda': 3....   \n",
       "11                  {'კირენია': 0.0, 'Ремежь': 2.741}   \n",
       "12   {'Ozero Pogoreloe': 0.0, 'Ozero Melkoe': 1.5503}   \n",
       "13          {'Anfijld': 0.0, 'Yang-chiao-hsü': 2.745}   \n",
       "14  {'Qanât el-Manzala': 0.0, 'ban tha pea haw na'...   \n",
       "15       {'Starnay': 0.0, 'Starojchka Krasta': 1.115}   \n",
       "16  {'Bandar-e Hūnī': 0.0, 'Ban Hangdonlékfai': 1....   \n",
       "17            {'Sinbotin': 0.0, 'Sinhŭng-ni': 1.7337}   \n",
       "18     {'Yŏhangmyŏn-samuso': 0.0, 'yuan kou': 3.0474}   \n",
       "19                 {'Mājra': 0.0, 'Majiyara': 1.6336}   \n",
       "\n",
       "                                           cosine_sim  \\\n",
       "id                                                      \n",
       "0              {'la dom nxy': 1.0, 'Laowuxia': 0.841}   \n",
       "1                     {'Krutoy': 1.0, 'wrkt': 0.9401}   \n",
       "2   {'Sharunyata': 1.0, 'Shēlah-ye Nasar-e Jaritā'...   \n",
       "3          {'Sutangcun': 1.0, 'Seohongcheon': 0.8455}   \n",
       "4   {'Jowkār-e Shafī‘': 1.0, 'wad thung kha phi': ...   \n",
       "5   {'rongreiyn ban hwy h wk cxmthxng': 1.0, 'rong...   \n",
       "6                         {'同心村': 1.0, '河清村': 0.9148}   \n",
       "7   {'Engeskjæran': 1.0, 'Engenheiro Olavo Barreto...   \n",
       "8            {'Izumo-zaki': 1.0, 'Imyong-ni': 0.9561}   \n",
       "9          {'داشت پنجشیر': 1.0, 'البو شنندخ': 0.9505}   \n",
       "10  {'Qermez Khalifeh-ye `Olya': 1.0, 'Veruda': 0....   \n",
       "11                 {'კირენია': 1.0, 'Ремежь': 0.9033}   \n",
       "12    {'Ozero Pogoreloe': 1.0, 'Ozero Melkoe': 0.945}   \n",
       "13         {'Anfijld': 1.0, 'Yang-chiao-hsü': 0.9127}   \n",
       "14  {'Qanât el-Manzala': 1.0, 'ban tha pea haw na'...   \n",
       "15       {'Starnay': 1.0, 'Starojchka Krasta': 0.974}   \n",
       "16  {'Bandar-e Hūnī': 1.0, 'Ban Hangdonlékfai': 0....   \n",
       "17            {'Sinbotin': 1.0, 'Sinhŭng-ni': 0.9532}   \n",
       "18     {'Yŏhangmyŏn-samuso': 1.0, 'yuan kou': 0.9025}   \n",
       "19                 {'Mājra': 1.0, 'Majiyara': 0.9611}   \n",
       "\n",
       "                               candidate_original_ids  query_original_id  \\\n",
       "id                                                                         \n",
       "0                 {'la dom nxy': 0, 'Laowuxia': 9624}                  0   \n",
       "1                         {'Krutoy': 1, 'wrkt': 7955}                  1   \n",
       "2   {'Sharunyata': 2, 'Shēlah-ye Nasar-e Jaritā': ...                  2   \n",
       "3              {'Sutangcun': 3, 'Seohongcheon': 2184}                  3   \n",
       "4   {'Jowkār-e Shafī‘': 4, 'wad thung kha phi': 9489}                  4   \n",
       "5   {'rongreiyn ban hwy h wk cxmthxng': 5, 'rongre...                  5   \n",
       "6                             {'同心村': 6, '河清村': 7616}                  6   \n",
       "7   {'Engeskjæran': 7, 'Engenheiro Olavo Barreto V...                  7   \n",
       "8                {'Izumo-zaki': 8, 'Imyong-ni': 6231}                  8   \n",
       "9              {'داشت پنجشیر': 9, 'البو شنندخ': 9760}                  9   \n",
       "10   {'Qermez Khalifeh-ye `Olya': 10, 'Veruda': 4221}                 10   \n",
       "11                    {'კირენია': 11, 'Ремежь': 5040}                 11   \n",
       "12      {'Ozero Pogoreloe': 12, 'Ozero Melkoe': 9716}                 12   \n",
       "13            {'Anfijld': 13, 'Yang-chiao-hsü': 1721}                 13   \n",
       "14  {'Qanât el-Manzala': 14, 'ban tha pea haw na':...                 14   \n",
       "15         {'Starnay': 15, 'Starojchka Krasta': 6721}                 15   \n",
       "16   {'Bandar-e Hūnī': 16, 'Ban Hangdonlékfai': 4701}                 16   \n",
       "17               {'Sinbotin': 17, 'Sinhŭng-ni': 1677}                 17   \n",
       "18         {'Yŏhangmyŏn-samuso': 18, 'yuan kou': 164}                 18   \n",
       "19                    {'Mājra': 19, 'Majiyara': 8872}                 19   \n",
       "\n",
       "    num_all_searches  \n",
       "id                    \n",
       "0                  2  \n",
       "1                  2  \n",
       "2                  2  \n",
       "3                  2  \n",
       "4                  2  \n",
       "5                  2  \n",
       "6                  2  \n",
       "7                  2  \n",
       "8                  2  \n",
       "9                  2  \n",
       "10                 2  \n",
       "11                 2  \n",
       "12                 2  \n",
       "13                 2  \n",
       "14                 2  \n",
       "15                 2  \n",
       "16                 2  \n",
       "17                 2  \n",
       "18                 2  \n",
       "19                 2  "
      ]
     },
     "execution_count": 10,
     "metadata": {},
     "output_type": "execute_result"
    }
   ],
   "source": [
    "candidates_pd"
   ]
  },
  {
   "cell_type": "markdown",
   "metadata": {},
   "source": [
    "## Candidate ranking on-the-fly"
   ]
  },
  {
   "cell_type": "code",
   "execution_count": 11,
   "metadata": {
    "scrolled": true
   },
   "outputs": [
    {
     "name": "stderr",
     "output_type": "stream",
     "text": [
      "s2 padding:   0%|          | 0/4 [00:00<?, ?it/s]"
     ]
    },
    {
     "name": "stdout",
     "output_type": "stream",
     "text": [
      "\u001b[92m2020-08-11 12:24:21\u001b[0m \u001b[95mMAC-ATI0414\u001b[0m \u001b[1m\u001b[90m[INFO]\u001b[0m \u001b[2;32mread input file: ./combined/candidates_test/input_dfm.yaml\u001b[0m\n",
      "\u001b[92m2020-08-11 12:24:21\u001b[0m \u001b[95mMAC-ATI0414\u001b[0m \u001b[1m\u001b[90m[INFO]\u001b[0m \u001b[1;31mGPU was requested but not available.\u001b[0m\n",
      "\u001b[92m2020-08-11 12:24:21\u001b[0m \u001b[95mMAC-ATI0414\u001b[0m \u001b[1m\u001b[90m[INFO]\u001b[0m \u001b[1;32mpytorch will use: cpu\u001b[0m\n"
     ]
    },
    {
     "name": "stderr",
     "output_type": "stream",
     "text": [
      "\r",
      "                                                 "
     ]
    },
    {
     "name": "stdout",
     "output_type": "stream",
     "text": [
      "\u001b[92m2020-08-11 12:24:21\u001b[0m \u001b[95mMAC-ATI0414\u001b[0m \u001b[1m\u001b[90m[INFO]\u001b[0m \u001b[2;32msave test-data-class: tmp_e603d1cf-1ad8-4fd0-803a-4c859197d5bf/query/dataframe.df\u001b[0m\n"
     ]
    },
    {
     "name": "stderr",
     "output_type": "stream",
     "text": [
      "\r"
     ]
    },
    {
     "data": {
      "application/vnd.jupyter.widget-view+json": {
       "model_id": "",
       "version_major": 2,
       "version_minor": 0
      },
      "text/plain": [
       "HBox(children=(FloatProgress(value=0.0, max=1.0), HTML(value='')))"
      ]
     },
     "metadata": {},
     "output_type": "display_data"
    },
    {
     "name": "stdout",
     "output_type": "stream",
     "text": [
      "\n",
      "\n",
      "-- Combine vectors\n",
      "Reading vectors from tmp_e603d1cf-1ad8-4fd0-803a-4c859197d5bf/query/embeddings/rnn_fwd*\n",
      "0000000 tmp_e603d1cf-1ad8-4fd0-803a-4c859197d5bf/query/embeddings/rnn_fwd_0\n",
      "\n",
      "\n",
      "-- Combine IDs\n",
      "0000000 tmp_e603d1cf-1ad8-4fd0-803a-4c859197d5bf/query/embeddings/rnn_indxs_0\n",
      "\n",
      "\n",
      "\n",
      "-- Combine vectors\n",
      "Reading vectors from tmp_e603d1cf-1ad8-4fd0-803a-4c859197d5bf/query/embeddings/rnn_bwd*\n",
      "0000000 tmp_e603d1cf-1ad8-4fd0-803a-4c859197d5bf/query/embeddings/rnn_bwd_0\n",
      "\n",
      "\n",
      "-- Combine IDs\n",
      "0000000 tmp_e603d1cf-1ad8-4fd0-803a-4c859197d5bf/query/embeddings/rnn_indxs_0\n",
      "\n",
      "--- 164.63538718223572 seconds ---\n",
      "Is faiss_id_candis already trained? True\n"
     ]
    },
    {
     "name": "stderr",
     "output_type": "stream",
     "text": [
      "                                                   \r"
     ]
    },
    {
     "name": "stdout",
     "output_type": "stream",
     "text": [
      "=========== Start the search for 0 DeezyMatch\n"
     ]
    },
    {
     "data": {
      "application/vnd.jupyter.widget-view+json": {
       "model_id": "",
       "version_major": 2,
       "version_minor": 0
      },
      "text/plain": [
       "HBox(children=(FloatProgress(value=0.0, max=1.0), HTML(value='')))"
      ]
     },
     "metadata": {},
     "output_type": "display_data"
    },
    {
     "name": "stdout",
     "output_type": "stream",
     "text": [
      "ID: 1/4 -- Number of found candidates so far: 29, searched: 100\n",
      "=========== Start the search for 1 kasra\n"
     ]
    },
    {
     "name": "stderr",
     "output_type": "stream",
     "text": [
      "                                                   \r"
     ]
    },
    {
     "data": {
      "application/vnd.jupyter.widget-view+json": {
       "model_id": "",
       "version_major": 2,
       "version_minor": 0
      },
      "text/plain": [
       "HBox(children=(FloatProgress(value=0.0, max=1.0), HTML(value='')))"
      ]
     },
     "metadata": {},
     "output_type": "display_data"
    },
    {
     "name": "stderr",
     "output_type": "stream",
     "text": [
      "                                                  "
     ]
    },
    {
     "name": "stdout",
     "output_type": "stream",
     "text": [
      "ID: 2/4 -- Number of found candidates so far: 100, searched: 100\n",
      "=========== Start the search for 2 fede\n"
     ]
    },
    {
     "name": "stderr",
     "output_type": "stream",
     "text": [
      "                                                   \r"
     ]
    },
    {
     "data": {
      "application/vnd.jupyter.widget-view+json": {
       "model_id": "",
       "version_major": 2,
       "version_minor": 0
      },
      "text/plain": [
       "HBox(children=(FloatProgress(value=0.0, max=1.0), HTML(value='')))"
      ]
     },
     "metadata": {},
     "output_type": "display_data"
    },
    {
     "name": "stdout",
     "output_type": "stream",
     "text": [
      "ID: 3/4 -- Number of found candidates so far: 12, searched: 100\n",
      "=========== Start the search for 3 mariona\n"
     ]
    },
    {
     "name": "stderr",
     "output_type": "stream",
     "text": [
      "                                                   \r"
     ]
    },
    {
     "data": {
      "application/vnd.jupyter.widget-view+json": {
       "model_id": "",
       "version_major": 2,
       "version_minor": 0
      },
      "text/plain": [
       "HBox(children=(FloatProgress(value=0.0, max=1.0), HTML(value='')))"
      ]
     },
     "metadata": {},
     "output_type": "display_data"
    },
    {
     "name": "stdout",
     "output_type": "stream",
     "text": [
      "ID: 4/4 -- Number of found candidates so far: 72, searched: 100\n",
      "TOTAL TIME: 0.9671497344970703\n"
     ]
    }
   ],
   "source": [
    "from DeezyMatch import candidate_ranker\n",
    "\n",
    "# Ranking on-the-fly\n",
    "# find candidates from candidate_scenario \n",
    "# for queries specified by the `query` argument\n",
    "candidates_pd = \\\n",
    "    candidate_ranker(candidate_scenario=\"./combined/candidates_test\",\n",
    "                     query=[\"DeezyMatch\", \"kasra\", \"fede\", \"mariona\"],\n",
    "                     ranking_metric=\"faiss\", \n",
    "                     selection_threshold=5., \n",
    "                     num_candidates=1, \n",
    "                     search_size=100, \n",
    "                     output_path=\"ranker_results/test_candidates_deezymatch_on_the_fly\", \n",
    "                     pretrained_model_path=\"./models/finetuned_test001/finetuned_test001.model\", \n",
    "                     pretrained_vocab_path=\"./models/finetuned_test001/finetuned_test001.vocab\", \n",
    "                     number_test_rows=20)"
   ]
  },
  {
   "cell_type": "code",
   "execution_count": 12,
   "metadata": {},
   "outputs": [
    {
     "data": {
      "text/html": [
       "<div>\n",
       "<style scoped>\n",
       "    .dataframe tbody tr th:only-of-type {\n",
       "        vertical-align: middle;\n",
       "    }\n",
       "\n",
       "    .dataframe tbody tr th {\n",
       "        vertical-align: top;\n",
       "    }\n",
       "\n",
       "    .dataframe thead th {\n",
       "        text-align: right;\n",
       "    }\n",
       "</style>\n",
       "<table border=\"1\" class=\"dataframe\">\n",
       "  <thead>\n",
       "    <tr style=\"text-align: right;\">\n",
       "      <th></th>\n",
       "      <th>query</th>\n",
       "      <th>pred_score</th>\n",
       "      <th>faiss_distance</th>\n",
       "      <th>cosine_sim</th>\n",
       "      <th>candidate_original_ids</th>\n",
       "      <th>query_original_id</th>\n",
       "      <th>num_all_searches</th>\n",
       "    </tr>\n",
       "    <tr>\n",
       "      <th>id</th>\n",
       "      <th></th>\n",
       "      <th></th>\n",
       "      <th></th>\n",
       "      <th></th>\n",
       "      <th></th>\n",
       "      <th></th>\n",
       "      <th></th>\n",
       "    </tr>\n",
       "  </thead>\n",
       "  <tbody>\n",
       "    <tr>\n",
       "      <th>0</th>\n",
       "      <td>DeezyMatch</td>\n",
       "      <td>{'Denezhnoye': 0.6934}</td>\n",
       "      <td>{'Denezhnoye': 3.1477}</td>\n",
       "      <td>{'Denezhnoye': 0.8857}</td>\n",
       "      <td>{'Denezhnoye': 1916}</td>\n",
       "      <td>0</td>\n",
       "      <td>100</td>\n",
       "    </tr>\n",
       "    <tr>\n",
       "      <th>1</th>\n",
       "      <td>kasra</td>\n",
       "      <td>{'Djebel Maisra': 0.6994}</td>\n",
       "      <td>{'Djebel Maisra': 2.5036}</td>\n",
       "      <td>{'Djebel Maisra': 0.921}</td>\n",
       "      <td>{'Djebel Maisra': 8907}</td>\n",
       "      <td>1</td>\n",
       "      <td>100</td>\n",
       "    </tr>\n",
       "    <tr>\n",
       "      <th>2</th>\n",
       "      <td>fede</td>\n",
       "      <td>{'Dengfeng': 0.7364}</td>\n",
       "      <td>{'Dengfeng': 3.2123}</td>\n",
       "      <td>{'Dengfeng': 0.8323}</td>\n",
       "      <td>{'Dengfeng': 6117}</td>\n",
       "      <td>2</td>\n",
       "      <td>100</td>\n",
       "    </tr>\n",
       "    <tr>\n",
       "      <th>3</th>\n",
       "      <td>mariona</td>\n",
       "      <td>{'Mai Khan': 0.6868}</td>\n",
       "      <td>{'Mai Khan': 1.8079}</td>\n",
       "      <td>{'Mai Khan': 0.9202}</td>\n",
       "      <td>{'Mai Khan': 2349}</td>\n",
       "      <td>3</td>\n",
       "      <td>100</td>\n",
       "    </tr>\n",
       "  </tbody>\n",
       "</table>\n",
       "</div>"
      ],
      "text/plain": [
       "         query                 pred_score             faiss_distance  \\\n",
       "id                                                                     \n",
       "0   DeezyMatch     {'Denezhnoye': 0.6934}     {'Denezhnoye': 3.1477}   \n",
       "1        kasra  {'Djebel Maisra': 0.6994}  {'Djebel Maisra': 2.5036}   \n",
       "2         fede       {'Dengfeng': 0.7364}       {'Dengfeng': 3.2123}   \n",
       "3      mariona       {'Mai Khan': 0.6868}       {'Mai Khan': 1.8079}   \n",
       "\n",
       "                  cosine_sim   candidate_original_ids  query_original_id  \\\n",
       "id                                                                         \n",
       "0     {'Denezhnoye': 0.8857}     {'Denezhnoye': 1916}                  0   \n",
       "1   {'Djebel Maisra': 0.921}  {'Djebel Maisra': 8907}                  1   \n",
       "2       {'Dengfeng': 0.8323}       {'Dengfeng': 6117}                  2   \n",
       "3       {'Mai Khan': 0.9202}       {'Mai Khan': 2349}                  3   \n",
       "\n",
       "    num_all_searches  \n",
       "id                    \n",
       "0                100  \n",
       "1                100  \n",
       "2                100  \n",
       "3                100  "
      ]
     },
     "execution_count": 12,
     "metadata": {},
     "output_type": "execute_result"
    }
   ],
   "source": [
    "candidates_pd"
   ]
  },
  {
   "cell_type": "markdown",
   "metadata": {},
   "source": [
    "### The candidate ranker can be initialised, to be used multiple times, by running:"
   ]
  },
  {
   "cell_type": "code",
   "execution_count": 13,
   "metadata": {},
   "outputs": [],
   "source": [
    "from DeezyMatch import candidate_ranker_init\n",
    "\n",
    "# initializing candidate_ranker via candidate_ranker_init\n",
    "myranker = candidate_ranker_init(candidate_scenario=\"./combined/candidates_test\",\n",
    "                                 query=[\"DeezyMatch\", \"kasra\", \"fede\", \"mariona\"],\n",
    "                                 ranking_metric=\"faiss\", \n",
    "                                 selection_threshold=5., \n",
    "                                 num_candidates=1, \n",
    "                                 search_size=100, \n",
    "                                 output_path=\"ranker_results/test_candidates_deezymatch_on_the_fly\", \n",
    "                                 pretrained_model_path=\"./models/finetuned_test001/finetuned_test001.model\", \n",
    "                                 pretrained_vocab_path=\"./models/finetuned_test001/finetuned_test001.vocab\", \n",
    "                                 number_test_rows=20)"
   ]
  },
  {
   "cell_type": "code",
   "execution_count": 14,
   "metadata": {},
   "outputs": [
    {
     "name": "stdout",
     "output_type": "stream",
     "text": [
      "-------------------------\n",
      "* Candidate ranker params\n",
      "-------------------------\n",
      "\n",
      "Queries are based on the following list:\n",
      "['DeezyMatch', 'kasra', 'fede', 'mariona']\n",
      "\n",
      "candidate_scenario:\t./combined/candidates_test\n",
      "---Searching params---\n",
      "num_candidates:\t\t1\n",
      "ranking_metric:\t\tfaiss\n",
      "selection_threshold:\t5.0\n",
      "search_size:\t\t100\n",
      "number_test_rows:\t20\n",
      "---I/O---\n",
      "input_file_path:\tdefault (path: ./combined/candidates_test/input_dfm.yaml)\n",
      "output_path:\t\tranker_results/test_candidates_deezymatch_on_the_fly\n",
      "pretrained_model_path:\t./models/finetuned_test001/finetuned_test001.model\n",
      "pretrained_vocab_path:\t./models/finetuned_test001/finetuned_test001.vocab\n",
      "\n"
     ]
    }
   ],
   "source": [
    "# print the content of myranker by:\n",
    "print(myranker)"
   ]
  },
  {
   "cell_type": "code",
   "execution_count": 15,
   "metadata": {
    "scrolled": true
   },
   "outputs": [
    {
     "name": "stderr",
     "output_type": "stream",
     "text": [
      "                                                 "
     ]
    },
    {
     "name": "stdout",
     "output_type": "stream",
     "text": [
      "\u001b[92m2020-08-11 12:24:22\u001b[0m \u001b[95mMAC-ATI0414\u001b[0m \u001b[1m\u001b[90m[INFO]\u001b[0m \u001b[2;32mread input file: ./combined/candidates_test/input_dfm.yaml\u001b[0m\n",
      "\u001b[92m2020-08-11 12:24:22\u001b[0m \u001b[95mMAC-ATI0414\u001b[0m \u001b[1m\u001b[90m[INFO]\u001b[0m \u001b[1;31mGPU was requested but not available.\u001b[0m\n",
      "\u001b[92m2020-08-11 12:24:22\u001b[0m \u001b[95mMAC-ATI0414\u001b[0m \u001b[1m\u001b[90m[INFO]\u001b[0m \u001b[1;32mpytorch will use: cpu\u001b[0m\n",
      "\u001b[92m2020-08-11 12:24:22\u001b[0m \u001b[95mMAC-ATI0414\u001b[0m \u001b[1m\u001b[90m[INFO]\u001b[0m \u001b[2;32msave test-data-class: tmp_84a0c7db-af19-4d1a-b5a0-0d4ed4889cdc/query/dataframe.df\u001b[0m\n"
     ]
    },
    {
     "name": "stderr",
     "output_type": "stream",
     "text": [
      "\r"
     ]
    },
    {
     "data": {
      "application/vnd.jupyter.widget-view+json": {
       "model_id": "",
       "version_major": 2,
       "version_minor": 0
      },
      "text/plain": [
       "HBox(children=(FloatProgress(value=0.0, max=1.0), HTML(value='')))"
      ]
     },
     "metadata": {},
     "output_type": "display_data"
    },
    {
     "name": "stderr",
     "output_type": "stream",
     "text": [
      "                                                   "
     ]
    },
    {
     "name": "stdout",
     "output_type": "stream",
     "text": [
      "\n",
      "\n",
      "-- Combine vectors\n",
      "Reading vectors from tmp_84a0c7db-af19-4d1a-b5a0-0d4ed4889cdc/query/embeddings/rnn_fwd*\n",
      "0000000 tmp_84a0c7db-af19-4d1a-b5a0-0d4ed4889cdc/query/embeddings/rnn_fwd_0\n",
      "\n",
      "\n",
      "-- Combine IDs\n",
      "0000000 tmp_84a0c7db-af19-4d1a-b5a0-0d4ed4889cdc/query/embeddings/rnn_indxs_0\n",
      "\n",
      "\n",
      "\n",
      "-- Combine vectors\n",
      "Reading vectors from tmp_84a0c7db-af19-4d1a-b5a0-0d4ed4889cdc/query/embeddings/rnn_bwd*\n",
      "0000000 tmp_84a0c7db-af19-4d1a-b5a0-0d4ed4889cdc/query/embeddings/rnn_bwd_0\n",
      "\n",
      "\n",
      "-- Combine IDs\n",
      "0000000 tmp_84a0c7db-af19-4d1a-b5a0-0d4ed4889cdc/query/embeddings/rnn_indxs_0\n",
      "\n",
      "--- 165.70999813079834 seconds ---\n",
      "Is faiss_id_candis already trained? True\n",
      "=========== Start the search for 0 DeezyMatch\n"
     ]
    },
    {
     "name": "stderr",
     "output_type": "stream",
     "text": [
      "\r"
     ]
    },
    {
     "data": {
      "application/vnd.jupyter.widget-view+json": {
       "model_id": "",
       "version_major": 2,
       "version_minor": 0
      },
      "text/plain": [
       "HBox(children=(FloatProgress(value=0.0, max=1.0), HTML(value='')))"
      ]
     },
     "metadata": {},
     "output_type": "display_data"
    },
    {
     "name": "stderr",
     "output_type": "stream",
     "text": [
      "                                                   \r"
     ]
    },
    {
     "name": "stdout",
     "output_type": "stream",
     "text": [
      "ID: 1/4 -- Number of found candidates so far: 29, searched: 100\n",
      "=========== Start the search for 1 kasra\n"
     ]
    },
    {
     "data": {
      "application/vnd.jupyter.widget-view+json": {
       "model_id": "",
       "version_major": 2,
       "version_minor": 0
      },
      "text/plain": [
       "HBox(children=(FloatProgress(value=0.0, max=1.0), HTML(value='')))"
      ]
     },
     "metadata": {},
     "output_type": "display_data"
    },
    {
     "name": "stderr",
     "output_type": "stream",
     "text": [
      "                                                  "
     ]
    },
    {
     "name": "stdout",
     "output_type": "stream",
     "text": [
      "ID: 2/4 -- Number of found candidates so far: 100, searched: 100\n",
      "=========== Start the search for 2 fede\n"
     ]
    },
    {
     "name": "stderr",
     "output_type": "stream",
     "text": [
      "                                                   \r"
     ]
    },
    {
     "data": {
      "application/vnd.jupyter.widget-view+json": {
       "model_id": "",
       "version_major": 2,
       "version_minor": 0
      },
      "text/plain": [
       "HBox(children=(FloatProgress(value=0.0, max=1.0), HTML(value='')))"
      ]
     },
     "metadata": {},
     "output_type": "display_data"
    },
    {
     "name": "stdout",
     "output_type": "stream",
     "text": [
      "ID: 3/4 -- Number of found candidates so far: 12, searched: 100\n",
      "=========== Start the search for 3 mariona\n"
     ]
    },
    {
     "name": "stderr",
     "output_type": "stream",
     "text": [
      "                                                   \r"
     ]
    },
    {
     "data": {
      "application/vnd.jupyter.widget-view+json": {
       "model_id": "",
       "version_major": 2,
       "version_minor": 0
      },
      "text/plain": [
       "HBox(children=(FloatProgress(value=0.0, max=1.0), HTML(value='')))"
      ]
     },
     "metadata": {},
     "output_type": "display_data"
    },
    {
     "name": "stdout",
     "output_type": "stream",
     "text": [
      "ID: 4/4 -- Number of found candidates so far: 72, searched: 100\n",
      "TOTAL TIME: 1.0028479099273682\n"
     ]
    }
   ],
   "source": [
    "# To rank the queries:\n",
    "myranker.rank()"
   ]
  },
  {
   "cell_type": "code",
   "execution_count": 16,
   "metadata": {},
   "outputs": [
    {
     "data": {
      "text/html": [
       "<div>\n",
       "<style scoped>\n",
       "    .dataframe tbody tr th:only-of-type {\n",
       "        vertical-align: middle;\n",
       "    }\n",
       "\n",
       "    .dataframe tbody tr th {\n",
       "        vertical-align: top;\n",
       "    }\n",
       "\n",
       "    .dataframe thead th {\n",
       "        text-align: right;\n",
       "    }\n",
       "</style>\n",
       "<table border=\"1\" class=\"dataframe\">\n",
       "  <thead>\n",
       "    <tr style=\"text-align: right;\">\n",
       "      <th></th>\n",
       "      <th>query</th>\n",
       "      <th>pred_score</th>\n",
       "      <th>faiss_distance</th>\n",
       "      <th>cosine_sim</th>\n",
       "      <th>candidate_original_ids</th>\n",
       "      <th>query_original_id</th>\n",
       "      <th>num_all_searches</th>\n",
       "    </tr>\n",
       "    <tr>\n",
       "      <th>id</th>\n",
       "      <th></th>\n",
       "      <th></th>\n",
       "      <th></th>\n",
       "      <th></th>\n",
       "      <th></th>\n",
       "      <th></th>\n",
       "      <th></th>\n",
       "    </tr>\n",
       "  </thead>\n",
       "  <tbody>\n",
       "    <tr>\n",
       "      <th>0</th>\n",
       "      <td>DeezyMatch</td>\n",
       "      <td>{'Denezhnoye': 0.6934}</td>\n",
       "      <td>{'Denezhnoye': 3.1477}</td>\n",
       "      <td>{'Denezhnoye': 0.8857}</td>\n",
       "      <td>{'Denezhnoye': 1916}</td>\n",
       "      <td>0</td>\n",
       "      <td>100</td>\n",
       "    </tr>\n",
       "    <tr>\n",
       "      <th>1</th>\n",
       "      <td>kasra</td>\n",
       "      <td>{'Djebel Maisra': 0.6994}</td>\n",
       "      <td>{'Djebel Maisra': 2.5036}</td>\n",
       "      <td>{'Djebel Maisra': 0.921}</td>\n",
       "      <td>{'Djebel Maisra': 8907}</td>\n",
       "      <td>1</td>\n",
       "      <td>100</td>\n",
       "    </tr>\n",
       "    <tr>\n",
       "      <th>2</th>\n",
       "      <td>fede</td>\n",
       "      <td>{'Dengfeng': 0.7364}</td>\n",
       "      <td>{'Dengfeng': 3.2123}</td>\n",
       "      <td>{'Dengfeng': 0.8323}</td>\n",
       "      <td>{'Dengfeng': 6117}</td>\n",
       "      <td>2</td>\n",
       "      <td>100</td>\n",
       "    </tr>\n",
       "    <tr>\n",
       "      <th>3</th>\n",
       "      <td>mariona</td>\n",
       "      <td>{'Mai Khan': 0.6868}</td>\n",
       "      <td>{'Mai Khan': 1.8079}</td>\n",
       "      <td>{'Mai Khan': 0.9202}</td>\n",
       "      <td>{'Mai Khan': 2349}</td>\n",
       "      <td>3</td>\n",
       "      <td>100</td>\n",
       "    </tr>\n",
       "  </tbody>\n",
       "</table>\n",
       "</div>"
      ],
      "text/plain": [
       "         query                 pred_score             faiss_distance  \\\n",
       "id                                                                     \n",
       "0   DeezyMatch     {'Denezhnoye': 0.6934}     {'Denezhnoye': 3.1477}   \n",
       "1        kasra  {'Djebel Maisra': 0.6994}  {'Djebel Maisra': 2.5036}   \n",
       "2         fede       {'Dengfeng': 0.7364}       {'Dengfeng': 3.2123}   \n",
       "3      mariona       {'Mai Khan': 0.6868}       {'Mai Khan': 1.8079}   \n",
       "\n",
       "                  cosine_sim   candidate_original_ids  query_original_id  \\\n",
       "id                                                                         \n",
       "0     {'Denezhnoye': 0.8857}     {'Denezhnoye': 1916}                  0   \n",
       "1   {'Djebel Maisra': 0.921}  {'Djebel Maisra': 8907}                  1   \n",
       "2       {'Dengfeng': 0.8323}       {'Dengfeng': 6117}                  2   \n",
       "3       {'Mai Khan': 0.9202}       {'Mai Khan': 2349}                  3   \n",
       "\n",
       "    num_all_searches  \n",
       "id                    \n",
       "0                100  \n",
       "1                100  \n",
       "2                100  \n",
       "3                100  "
      ]
     },
     "execution_count": 16,
     "metadata": {},
     "output_type": "execute_result"
    }
   ],
   "source": [
    "#The results are stored in:\n",
    "myranker.output"
   ]
  },
  {
   "cell_type": "markdown",
   "metadata": {},
   "source": [
    "### Change the queries"
   ]
  },
  {
   "cell_type": "code",
   "execution_count": 17,
   "metadata": {},
   "outputs": [],
   "source": [
    "myranker.set_query(query=[\"khan\", \"feng\", \"cheng\"])"
   ]
  },
  {
   "cell_type": "code",
   "execution_count": 18,
   "metadata": {
    "scrolled": true
   },
   "outputs": [
    {
     "name": "stdout",
     "output_type": "stream",
     "text": [
      "\u001b[92m2020-08-11 12:24:23\u001b[0m \u001b[95mMAC-ATI0414\u001b[0m \u001b[1m\u001b[90m[INFO]\u001b[0m \u001b[2;32mread input file: ./combined/candidates_test/input_dfm.yaml\u001b[0m\n",
      "\u001b[92m2020-08-11 12:24:23\u001b[0m \u001b[95mMAC-ATI0414\u001b[0m \u001b[1m\u001b[90m[INFO]\u001b[0m \u001b[1;31mGPU was requested but not available.\u001b[0m\n",
      "\u001b[92m2020-08-11 12:24:23\u001b[0m \u001b[95mMAC-ATI0414\u001b[0m \u001b[1m\u001b[90m[INFO]\u001b[0m \u001b[1;32mpytorch will use: cpu\u001b[0m\n"
     ]
    },
    {
     "name": "stderr",
     "output_type": "stream",
     "text": [
      "                                                 "
     ]
    },
    {
     "name": "stdout",
     "output_type": "stream",
     "text": [
      "\u001b[92m2020-08-11 12:24:23\u001b[0m \u001b[95mMAC-ATI0414\u001b[0m \u001b[1m\u001b[90m[INFO]\u001b[0m \u001b[2;32msave test-data-class: tmp_ed45fede-6a4d-49e1-9ef4-5d5150021233/query/dataframe.df\u001b[0m\n"
     ]
    },
    {
     "name": "stderr",
     "output_type": "stream",
     "text": [
      "\r"
     ]
    },
    {
     "data": {
      "application/vnd.jupyter.widget-view+json": {
       "model_id": "",
       "version_major": 2,
       "version_minor": 0
      },
      "text/plain": [
       "HBox(children=(FloatProgress(value=0.0, max=1.0), HTML(value='')))"
      ]
     },
     "metadata": {},
     "output_type": "display_data"
    },
    {
     "name": "stdout",
     "output_type": "stream",
     "text": [
      "\n",
      "\n",
      "-- Combine vectors\n",
      "Reading vectors from tmp_ed45fede-6a4d-49e1-9ef4-5d5150021233/query/embeddings/rnn_fwd*\n",
      "0000000 tmp_ed45fede-6a4d-49e1-9ef4-5d5150021233/query/embeddings/rnn_fwd_0\n",
      "\n",
      "\n",
      "-- Combine IDs\n",
      "0000000 tmp_ed45fede-6a4d-49e1-9ef4-5d5150021233/query/embeddings/rnn_indxs_0\n",
      "\n",
      "\n",
      "\n",
      "-- Combine vectors\n",
      "Reading vectors from tmp_ed45fede-6a4d-49e1-9ef4-5d5150021233/query/embeddings/rnn_bwd*\n",
      "0000000 tmp_ed45fede-6a4d-49e1-9ef4-5d5150021233/query/embeddings/rnn_bwd_0\n",
      "\n",
      "\n",
      "-- Combine IDs\n",
      "0000000 tmp_ed45fede-6a4d-49e1-9ef4-5d5150021233/query/embeddings/rnn_indxs_0\n",
      "\n",
      "--- 166.81629586219788 seconds ---\n",
      "Is faiss_id_candis already trained? True\n",
      "=========== Start the search for 0 khan\n"
     ]
    },
    {
     "name": "stderr",
     "output_type": "stream",
     "text": [
      "                                                   \r"
     ]
    },
    {
     "data": {
      "application/vnd.jupyter.widget-view+json": {
       "model_id": "",
       "version_major": 2,
       "version_minor": 0
      },
      "text/plain": [
       "HBox(children=(FloatProgress(value=0.0, max=1.0), HTML(value='')))"
      ]
     },
     "metadata": {},
     "output_type": "display_data"
    },
    {
     "name": "stderr",
     "output_type": "stream",
     "text": [
      "                                                   \r"
     ]
    },
    {
     "name": "stdout",
     "output_type": "stream",
     "text": [
      "ID: 1/3 -- Number of found candidates so far: 52, searched: 100\n",
      "=========== Start the search for 1 feng\n"
     ]
    },
    {
     "data": {
      "application/vnd.jupyter.widget-view+json": {
       "model_id": "",
       "version_major": 2,
       "version_minor": 0
      },
      "text/plain": [
       "HBox(children=(FloatProgress(value=0.0, max=1.0), HTML(value='')))"
      ]
     },
     "metadata": {},
     "output_type": "display_data"
    },
    {
     "name": "stderr",
     "output_type": "stream",
     "text": [
      "                                                   "
     ]
    },
    {
     "name": "stdout",
     "output_type": "stream",
     "text": [
      "ID: 2/3 -- Number of found candidates so far: 26, searched: 100\n",
      "=========== Start the search for 2 cheng\n"
     ]
    },
    {
     "name": "stderr",
     "output_type": "stream",
     "text": [
      "                                                   \r"
     ]
    },
    {
     "data": {
      "application/vnd.jupyter.widget-view+json": {
       "model_id": "",
       "version_major": 2,
       "version_minor": 0
      },
      "text/plain": [
       "HBox(children=(FloatProgress(value=0.0, max=1.0), HTML(value='')))"
      ]
     },
     "metadata": {},
     "output_type": "display_data"
    },
    {
     "name": "stdout",
     "output_type": "stream",
     "text": [
      "ID: 3/3 -- Number of found candidates so far: 19, searched: 100\n",
      "TOTAL TIME: 0.8757407665252686\n"
     ]
    }
   ],
   "source": [
    "# To rank the queries:\n",
    "myranker.rank()"
   ]
  },
  {
   "cell_type": "code",
   "execution_count": 19,
   "metadata": {},
   "outputs": [
    {
     "data": {
      "text/html": [
       "<div>\n",
       "<style scoped>\n",
       "    .dataframe tbody tr th:only-of-type {\n",
       "        vertical-align: middle;\n",
       "    }\n",
       "\n",
       "    .dataframe tbody tr th {\n",
       "        vertical-align: top;\n",
       "    }\n",
       "\n",
       "    .dataframe thead th {\n",
       "        text-align: right;\n",
       "    }\n",
       "</style>\n",
       "<table border=\"1\" class=\"dataframe\">\n",
       "  <thead>\n",
       "    <tr style=\"text-align: right;\">\n",
       "      <th></th>\n",
       "      <th>query</th>\n",
       "      <th>pred_score</th>\n",
       "      <th>faiss_distance</th>\n",
       "      <th>cosine_sim</th>\n",
       "      <th>candidate_original_ids</th>\n",
       "      <th>query_original_id</th>\n",
       "      <th>num_all_searches</th>\n",
       "    </tr>\n",
       "    <tr>\n",
       "      <th>id</th>\n",
       "      <th></th>\n",
       "      <th></th>\n",
       "      <th></th>\n",
       "      <th></th>\n",
       "      <th></th>\n",
       "      <th></th>\n",
       "      <th></th>\n",
       "    </tr>\n",
       "  </thead>\n",
       "  <tbody>\n",
       "    <tr>\n",
       "      <th>0</th>\n",
       "      <td>khan</td>\n",
       "      <td>{'khnan': 0.6776}</td>\n",
       "      <td>{'khnan': 1.6646}</td>\n",
       "      <td>{'khnan': 0.9481}</td>\n",
       "      <td>{'khnan': 1139}</td>\n",
       "      <td>0</td>\n",
       "      <td>100</td>\n",
       "    </tr>\n",
       "    <tr>\n",
       "      <th>1</th>\n",
       "      <td>feng</td>\n",
       "      <td>{'Hekeng': 0.4742}</td>\n",
       "      <td>{'Hekeng': 3.04}</td>\n",
       "      <td>{'Hekeng': 0.8265}</td>\n",
       "      <td>{'Hekeng': 6560}</td>\n",
       "      <td>1</td>\n",
       "      <td>100</td>\n",
       "    </tr>\n",
       "    <tr>\n",
       "      <th>2</th>\n",
       "      <td>cheng</td>\n",
       "      <td>{'cheng keng': 0.5929}</td>\n",
       "      <td>{'cheng keng': 2.1931}</td>\n",
       "      <td>{'cheng keng': 0.8933}</td>\n",
       "      <td>{'cheng keng': 1707}</td>\n",
       "      <td>2</td>\n",
       "      <td>100</td>\n",
       "    </tr>\n",
       "  </tbody>\n",
       "</table>\n",
       "</div>"
      ],
      "text/plain": [
       "    query              pred_score          faiss_distance  \\\n",
       "id                                                          \n",
       "0    khan       {'khnan': 0.6776}       {'khnan': 1.6646}   \n",
       "1    feng      {'Hekeng': 0.4742}        {'Hekeng': 3.04}   \n",
       "2   cheng  {'cheng keng': 0.5929}  {'cheng keng': 2.1931}   \n",
       "\n",
       "                cosine_sim candidate_original_ids  query_original_id  \\\n",
       "id                                                                     \n",
       "0        {'khnan': 0.9481}        {'khnan': 1139}                  0   \n",
       "1       {'Hekeng': 0.8265}       {'Hekeng': 6560}                  1   \n",
       "2   {'cheng keng': 0.8933}   {'cheng keng': 1707}                  2   \n",
       "\n",
       "    num_all_searches  \n",
       "id                    \n",
       "0                100  \n",
       "1                100  \n",
       "2                100  "
      ]
     },
     "execution_count": 19,
     "metadata": {},
     "output_type": "execute_result"
    }
   ],
   "source": [
    "#The results are stored in:\n",
    "myranker.output"
   ]
  },
  {
   "cell_type": "code",
   "execution_count": null,
   "metadata": {},
   "outputs": [],
   "source": []
  }
 ],
 "metadata": {
  "kernelspec": {
   "display_name": "Python 3",
   "language": "python",
   "name": "python3"
  },
  "language_info": {
   "codemirror_mode": {
    "name": "ipython",
    "version": 3
   },
   "file_extension": ".py",
   "mimetype": "text/x-python",
   "name": "python",
   "nbconvert_exporter": "python",
   "pygments_lexer": "ipython3",
   "version": "3.7.6"
  }
 },
 "nbformat": 4,
 "nbformat_minor": 4
}
