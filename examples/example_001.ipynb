{
 "cells": [
  {
   "cell_type": "markdown",
   "metadata": {},
   "source": [
    "# DeezyMatch, example_001"
   ]
  },
  {
   "cell_type": "markdown",
   "metadata": {},
   "source": [
    "## Train a new model"
   ]
  },
  {
   "cell_type": "code",
   "execution_count": 1,
   "metadata": {
    "scrolled": true
   },
   "outputs": [
    {
     "name": "stdout",
     "output_type": "stream",
     "text": [
      "\u001b[92m2020-07-11 17:38:32\u001b[0m \u001b[95mMAC-ATI0414\u001b[0m \u001b[1m\u001b[90m[INFO]\u001b[0m \u001b[2;32mread input file: ../inputs/input_dfm_notebook_001.yaml\u001b[0m\n",
      "\u001b[92m2020-07-11 17:38:32\u001b[0m \u001b[95mMAC-ATI0414\u001b[0m \u001b[1m\u001b[90m[INFO]\u001b[0m \u001b[1;31mGPU was requested but not available.\u001b[0m\n",
      "\u001b[92m2020-07-11 17:38:32\u001b[0m \u001b[95mMAC-ATI0414\u001b[0m \u001b[1m\u001b[90m[INFO]\u001b[0m \u001b[1;32mpytorch will use: cpu\u001b[0m\n",
      "\u001b[92m2020-07-11 17:38:32\u001b[0m \u001b[95mMAC-ATI0414\u001b[0m \u001b[1m\u001b[90m[INFO]\u001b[0m \u001b[2;32mread CSV file: ../dataset/dataset-string-similarity_test.txt\u001b[0m\n",
      "\u001b[92m2020-07-11 17:38:33\u001b[0m \u001b[95mMAC-ATI0414\u001b[0m \u001b[1m\u001b[90m[INFO]\u001b[0m \u001b[1;32mnumber of labels, True: 4998 and False: 4997\u001b[0m\n",
      "\u001b[92m2020-07-11 17:38:33\u001b[0m \u001b[95mMAC-ATI0414\u001b[0m \u001b[1m\u001b[90m[INFO]\u001b[0m \u001b[2;32mSplitting the Dataset\u001b[0m\n",
      "\u001b[92m2020-07-11 17:38:33\u001b[0m \u001b[95mMAC-ATI0414\u001b[0m \u001b[1m\u001b[90m[INFO]\u001b[0m \u001b[2;32mfinish splitting the Dataset. User time: 0.01541900634765625\u001b[0m\n",
      "\u001b[92m2020-07-11 17:38:33\u001b[0m \u001b[95mMAC-ATI0414\u001b[0m \u001b[1m\u001b[90m[INFO]\u001b[0m \u001b[1;32msplits are as follow:\n",
      "train    6997\n",
      "test     1500\n",
      "val      1498\n",
      "Name: split, dtype: int64\u001b[0m\n",
      "\u001b[92m2020-07-11 17:38:33\u001b[0m \u001b[95mMAC-ATI0414\u001b[0m \u001b[1m\u001b[90m[INFO]\u001b[0m \u001b[2;32mstart creating a lookup table and convert characters to indices\u001b[0m\n",
      "\u001b[92m2020-07-11 17:38:33\u001b[0m \u001b[95mMAC-ATI0414\u001b[0m \u001b[1m\u001b[90m[INFO]\u001b[0m \u001b[2;32m-- create vocabulary\u001b[0m\n"
     ]
    },
    {
     "name": "stderr",
     "output_type": "stream",
     "text": [
      "s1 padding:   0%|          | 0/1498 [00:00<?, ?it/s]"
     ]
    },
    {
     "name": "stdout",
     "output_type": "stream",
     "text": [
      "\u001b[92m2020-07-11 17:38:33\u001b[0m \u001b[95mMAC-ATI0414\u001b[0m \u001b[1m\u001b[90m[INFO]\u001b[0m \u001b[2;32m-- convert tokens to indices\u001b[0m\n",
      "\u001b[92m2020-07-11 17:38:33\u001b[0m \u001b[95mMAC-ATI0414\u001b[0m \u001b[1m\u001b[90m[INFO]\u001b[0m \u001b[2;32m-- create a lookup table for tokens\u001b[0m\n",
      "\u001b[92m2020-07-11 17:38:33\u001b[0m \u001b[95mMAC-ATI0414\u001b[0m \u001b[1m\u001b[90m[INFO]\u001b[0m \u001b[2;32m-- read list of characters from ../dataset/characters_v001.vocab\u001b[0m\n",
      "\u001b[92m2020-07-11 17:38:33\u001b[0m \u001b[95mMAC-ATI0414\u001b[0m \u001b[1m\u001b[90m[INFO]\u001b[0m \u001b[2;32m-- Length of vocabulary: 7542\u001b[0m\n"
     ]
    },
    {
     "name": "stderr",
     "output_type": "stream",
     "text": [
      "                                                    \r"
     ]
    },
    {
     "name": "stdout",
     "output_type": "stream",
     "text": [
      "\n",
      "\n",
      "\n",
      "\u001b[92m2020-07-11 17:38:33\u001b[0m \u001b[95mMAC-ATI0414\u001b[0m \u001b[1m\u001b[90m[INFO]\u001b[0m \u001b[95m******************************\u001b[0m\n",
      "\u001b[92m2020-07-11 17:38:33\u001b[0m \u001b[95mMAC-ATI0414\u001b[0m \u001b[1m\u001b[90m[INFO]\u001b[0m \u001b[95m**** (Bi-directional) GRU ****\u001b[0m\n",
      "\u001b[92m2020-07-11 17:38:33\u001b[0m \u001b[95mMAC-ATI0414\u001b[0m \u001b[1m\u001b[90m[INFO]\u001b[0m \u001b[95m******************************\u001b[0m\n",
      "\u001b[92m2020-07-11 17:38:33\u001b[0m \u001b[95mMAC-ATI0414\u001b[0m \u001b[1m\u001b[90m[INFO]\u001b[0m \u001b[2;32mread inputs\u001b[0m\n",
      "\u001b[92m2020-07-11 17:38:33\u001b[0m \u001b[95mMAC-ATI0414\u001b[0m \u001b[1m\u001b[90m[INFO]\u001b[0m \u001b[2;32mcreate a two_parallel_rnns model\u001b[0m\n",
      "\u001b[92m2020-07-11 17:38:33\u001b[0m \u001b[95mMAC-ATI0414\u001b[0m \u001b[1m\u001b[90m[INFO]\u001b[0m \u001b[1;32mstart fitting parameters\u001b[0m\n",
      "\u001b[92m2020-07-11 17:38:33\u001b[0m \u001b[95mMAC-ATI0414\u001b[0m \u001b[1m\u001b[90m[INFO]\u001b[0m \u001b[2;32mNumber of batches: 28\u001b[0m\n",
      "\u001b[92m2020-07-11 17:38:33\u001b[0m \u001b[95mMAC-ATI0414\u001b[0m \u001b[1m\u001b[90m[INFO]\u001b[0m \u001b[2;32mNumber of epochs: 5\u001b[0m\n"
     ]
    },
    {
     "data": {
      "application/vnd.jupyter.widget-view+json": {
       "model_id": "f7643591b7ee41fdbbd39049bd883c18",
       "version_major": 2,
       "version_minor": 0
      },
      "text/plain": [
       "HBox(children=(FloatProgress(value=0.0, max=5.0), HTML(value='')))"
      ]
     },
     "metadata": {},
     "output_type": "display_data"
    },
    {
     "name": "stderr",
     "output_type": "stream",
     "text": [
      "\n",
      "  0%|          | 0/28 [00:00<?, ?it/s]\u001b[A\n",
      "Epoch 1/5:   0%|          | 0/28 [00:00<?, ?it/s]\u001b[A"
     ]
    },
    {
     "name": "stdout",
     "output_type": "stream",
     "text": [
      "\n",
      "\n",
      "\n",
      "====================\n",
      "Total number of params: 627243\n",
      "\n",
      "two_parallel_rnns (\n",
      "  (emb): Embedding(7542, 60), weights=((7542, 60),), parameters=452520\n",
      "  (rnn_1): GRU(60, 60, num_layers=2, dropout=0.01, bidirectional=True), weights=((180, 60), (180, 60), (180,), (180,), (180, 60), (180, 60), (180,), (180,), (180, 120), (180, 60), (180,), (180,), (180, 120), (180, 60), (180,), (180,)), parameters=109440\n",
      "  (attn_step1): Linear(in_features=120, out_features=60, bias=True), weights=((60, 120), (60,)), parameters=7260\n",
      "  (attn_step2): Linear(in_features=60, out_features=1, bias=True), weights=((1, 60), (1,)), parameters=61\n",
      "  (fc1): Linear(in_features=480, out_features=120, bias=True), weights=((120, 480), (120,)), parameters=57720\n",
      "  (fc2): Linear(in_features=120, out_features=2, bias=True), weights=((2, 120), (2,)), parameters=242\n",
      ")\n",
      "====================\n",
      "\n",
      "\n"
     ]
    },
    {
     "name": "stderr",
     "output_type": "stream",
     "text": [
      "\n",
      "Epoch 1/5:   0%|          | 0/28 [00:00<?, ?it/s, loss=tensor(0.6925)]\u001b[A\n",
      "Epoch 1/5:   4%|▎         | 1/28 [00:00<00:21,  1.26it/s, loss=tensor(0.6925)]\u001b[A\n",
      "Epoch 1/5:   4%|▎         | 1/28 [00:01<00:21,  1.26it/s, loss=tensor(0.6887)]\u001b[A\n",
      "Epoch 1/5:   7%|▋         | 2/28 [00:01<00:18,  1.37it/s, loss=tensor(0.6887)]\u001b[A\n",
      "Epoch 1/5:   7%|▋         | 2/28 [00:01<00:18,  1.37it/s, loss=tensor(0.6950)]\u001b[A\n",
      "Epoch 1/5:  11%|█         | 3/28 [00:01<00:16,  1.50it/s, loss=tensor(0.6950)]\u001b[A\n",
      "Epoch 1/5:  11%|█         | 3/28 [00:02<00:16,  1.50it/s, loss=tensor(0.7016)]\u001b[A\n",
      "Epoch 1/5:  14%|█▍        | 4/28 [00:02<00:16,  1.44it/s, loss=tensor(0.7016)]\u001b[A\n",
      "Epoch 1/5:  14%|█▍        | 4/28 [00:03<00:16,  1.44it/s, loss=tensor(0.6982)]\u001b[A\n",
      "Epoch 1/5:  18%|█▊        | 5/28 [00:03<00:14,  1.54it/s, loss=tensor(0.6982)]\u001b[A\n",
      "Epoch 1/5:  18%|█▊        | 5/28 [00:03<00:14,  1.54it/s, loss=tensor(0.6935)]\u001b[A\n",
      "Epoch 1/5:  21%|██▏       | 6/28 [00:03<00:13,  1.58it/s, loss=tensor(0.6935)]\u001b[A\n",
      "Epoch 1/5:  21%|██▏       | 6/28 [00:04<00:13,  1.58it/s, loss=tensor(0.6910)]\u001b[A\n",
      "Epoch 1/5:  25%|██▌       | 7/28 [00:04<00:13,  1.57it/s, loss=tensor(0.6910)]\u001b[A\n",
      "Epoch 1/5:  25%|██▌       | 7/28 [00:04<00:13,  1.57it/s, loss=tensor(0.6852)]\u001b[A\n",
      "Epoch 1/5:  29%|██▊       | 8/28 [00:04<00:12,  1.65it/s, loss=tensor(0.6852)]\u001b[A\n",
      "Epoch 1/5:  29%|██▊       | 8/28 [00:05<00:12,  1.65it/s, loss=tensor(0.6932)]\u001b[A\n",
      "Epoch 1/5:  32%|███▏      | 9/28 [00:05<00:11,  1.71it/s, loss=tensor(0.6932)]\u001b[A\n",
      "Epoch 1/5:  32%|███▏      | 9/28 [00:06<00:11,  1.71it/s, loss=tensor(0.7100)]\u001b[A\n",
      "Epoch 1/5:  36%|███▌      | 10/28 [00:06<00:10,  1.73it/s, loss=tensor(0.7100)]\u001b[A\n",
      "Epoch 1/5:  36%|███▌      | 10/28 [00:06<00:10,  1.73it/s, loss=tensor(0.6970)]\u001b[A\n",
      "Epoch 1/5:  39%|███▉      | 11/28 [00:06<00:09,  1.78it/s, loss=tensor(0.6970)]\u001b[A\n",
      "Epoch 1/5:  39%|███▉      | 11/28 [00:07<00:09,  1.78it/s, loss=tensor(0.7015)]\u001b[A\n",
      "Epoch 1/5:  43%|████▎     | 12/28 [00:07<00:08,  1.83it/s, loss=tensor(0.7015)]\u001b[A\n",
      "Epoch 1/5:  43%|████▎     | 12/28 [00:07<00:08,  1.83it/s, loss=tensor(0.6920)]\u001b[A\n",
      "Epoch 1/5:  46%|████▋     | 13/28 [00:07<00:08,  1.86it/s, loss=tensor(0.6920)]\u001b[A\n",
      "Epoch 1/5:  46%|████▋     | 13/28 [00:08<00:08,  1.86it/s, loss=tensor(0.6936)]\u001b[A\n",
      "Epoch 1/5:  50%|█████     | 14/28 [00:08<00:07,  1.77it/s, loss=tensor(0.6936)]\u001b[A\n",
      "Epoch 1/5:  50%|█████     | 14/28 [00:08<00:07,  1.77it/s, loss=tensor(0.6876)]\u001b[A\n",
      "Epoch 1/5:  54%|█████▎    | 15/28 [00:08<00:07,  1.68it/s, loss=tensor(0.6876)]\u001b[A\n",
      "Epoch 1/5:  54%|█████▎    | 15/28 [00:09<00:07,  1.68it/s, loss=tensor(0.6895)]\u001b[A\n",
      "Epoch 1/5:  57%|█████▋    | 16/28 [00:09<00:08,  1.39it/s, loss=tensor(0.6895)]\u001b[A\n",
      "Epoch 1/5:  57%|█████▋    | 16/28 [00:10<00:08,  1.39it/s, loss=tensor(0.6899)]\u001b[A\n",
      "Epoch 1/5:  61%|██████    | 17/28 [00:10<00:08,  1.32it/s, loss=tensor(0.6899)]\u001b[A\n",
      "Epoch 1/5:  61%|██████    | 17/28 [00:11<00:08,  1.32it/s, loss=tensor(0.6915)]\u001b[A\n",
      "Epoch 1/5:  64%|██████▍   | 18/28 [00:11<00:07,  1.40it/s, loss=tensor(0.6915)]\u001b[A\n",
      "Epoch 1/5:  64%|██████▍   | 18/28 [00:11<00:07,  1.40it/s, loss=tensor(0.6926)]\u001b[A\n",
      "Epoch 1/5:  68%|██████▊   | 19/28 [00:11<00:06,  1.47it/s, loss=tensor(0.6926)]\u001b[A\n",
      "Epoch 1/5:  68%|██████▊   | 19/28 [00:12<00:06,  1.47it/s, loss=tensor(0.6959)]\u001b[A\n",
      "Epoch 1/5:  71%|███████▏  | 20/28 [00:12<00:05,  1.52it/s, loss=tensor(0.6959)]\u001b[A\n",
      "Epoch 1/5:  71%|███████▏  | 20/28 [00:13<00:05,  1.52it/s, loss=tensor(0.6923)]\u001b[A\n",
      "Epoch 1/5:  75%|███████▌  | 21/28 [00:13<00:04,  1.59it/s, loss=tensor(0.6923)]\u001b[A\n",
      "Epoch 1/5:  75%|███████▌  | 21/28 [00:13<00:04,  1.59it/s, loss=tensor(0.6900)]\u001b[A\n",
      "Epoch 1/5:  79%|███████▊  | 22/28 [00:13<00:03,  1.65it/s, loss=tensor(0.6900)]\u001b[A\n",
      "Epoch 1/5:  79%|███████▊  | 22/28 [00:14<00:03,  1.65it/s, loss=tensor(0.6918)]\u001b[A\n",
      "Epoch 1/5:  82%|████████▏ | 23/28 [00:14<00:03,  1.63it/s, loss=tensor(0.6918)]\u001b[A\n",
      "Epoch 1/5:  82%|████████▏ | 23/28 [00:14<00:03,  1.63it/s, loss=tensor(0.6845)]\u001b[A\n",
      "Epoch 1/5:  86%|████████▌ | 24/28 [00:14<00:02,  1.69it/s, loss=tensor(0.6845)]\u001b[A\n",
      "Epoch 1/5:  86%|████████▌ | 24/28 [00:15<00:02,  1.69it/s, loss=tensor(0.6859)]\u001b[A\n",
      "Epoch 1/5:  89%|████████▉ | 25/28 [00:15<00:01,  1.60it/s, loss=tensor(0.6859)]\u001b[A\n",
      "Epoch 1/5:  89%|████████▉ | 25/28 [00:16<00:01,  1.60it/s, loss=tensor(0.6882)]\u001b[A\n",
      "Epoch 1/5:  93%|█████████▎| 26/28 [00:16<00:01,  1.58it/s, loss=tensor(0.6882)]\u001b[A\n",
      "Epoch 1/5:  93%|█████████▎| 26/28 [00:16<00:01,  1.58it/s, loss=tensor(0.6903)]\u001b[A\n",
      "Epoch 1/5:  96%|█████████▋| 27/28 [00:16<00:00,  1.56it/s, loss=tensor(0.6903)]\u001b[A\n",
      "Epoch 1/5:  96%|█████████▋| 27/28 [00:17<00:00,  1.56it/s, loss=tensor(0.6876)]\u001b[A\n",
      "Epoch 1/5: 100%|██████████| 28/28 [00:17<00:00,  1.89it/s, loss=tensor(0.6876)]\u001b[A\n",
      "                                                                               \u001b[A\n",
      "  0%|          | 0/6 [00:00<?, ?it/s]\u001b[A\n",
      "valid:   0%|          | 0/6 [00:00<?, ?it/s]\u001b[A\n",
      "valid:   0%|          | 0/6 [00:00<?, ?it/s, loss=tensor(0.6880)]\u001b[A\n",
      "valid:  17%|█▋        | 1/6 [00:00<00:00,  6.95it/s, loss=tensor(0.6880)]\u001b[A"
     ]
    },
    {
     "name": "stdout",
     "output_type": "stream",
     "text": [
      "\u001b[92m2020-07-11 17:38:50\u001b[0m \u001b[95mMAC-ATI0414\u001b[0m \u001b[1m\u001b[90m[INFO]\u001b[0m \u001b[0;33m07/11/2020_17:38:50 -- Epoch: 1/5; Train; loss: 0.693; acc: 0.515; precision: 0.513, recall: 0.590, macrof1: 0.512, weightedf1: 0.512\u001b[0m\n"
     ]
    },
    {
     "name": "stderr",
     "output_type": "stream",
     "text": [
      "\n",
      "valid:  17%|█▋        | 1/6 [00:00<00:00,  6.95it/s, loss=tensor(0.6874)]\u001b[A\n",
      "valid:  33%|███▎      | 2/6 [00:00<00:00,  7.17it/s, loss=tensor(0.6874)]\u001b[A\n",
      "valid:  33%|███▎      | 2/6 [00:00<00:00,  7.17it/s, loss=tensor(0.6879)]\u001b[A\n",
      "valid:  50%|█████     | 3/6 [00:00<00:00,  7.24it/s, loss=tensor(0.6879)]\u001b[A\n",
      "valid:  50%|█████     | 3/6 [00:00<00:00,  7.24it/s, loss=tensor(0.6864)]\u001b[A\n",
      "valid:  67%|██████▋   | 4/6 [00:00<00:00,  7.13it/s, loss=tensor(0.6864)]\u001b[A\n",
      "valid:  67%|██████▋   | 4/6 [00:00<00:00,  7.13it/s, loss=tensor(0.6876)]\u001b[A\n",
      "valid:  83%|████████▎ | 5/6 [00:00<00:00,  7.16it/s, loss=tensor(0.6876)]\u001b[A\n",
      "valid:  83%|████████▎ | 5/6 [00:00<00:00,  7.16it/s, loss=tensor(0.6783)]\u001b[A\n",
      "valid: 100%|██████████| 6/6 [00:00<00:00,  7.78it/s, loss=tensor(0.6783)]\u001b[A\n",
      "                                                                         \u001b[A\n",
      "  0%|          | 0/28 [00:00<?, ?it/s]\u001b[A\n",
      "Epoch 2/5:   0%|          | 0/28 [00:00<?, ?it/s]\u001b[A"
     ]
    },
    {
     "name": "stdout",
     "output_type": "stream",
     "text": [
      "\u001b[92m2020-07-11 17:38:51\u001b[0m \u001b[95mMAC-ATI0414\u001b[0m \u001b[1m\u001b[90m[INFO]\u001b[0m \u001b[1;31m07/11/2020_17:38:51 -- Epoch: 1/5; Valid; loss: 0.686; acc: 0.565; precision: 0.572, recall: 0.514, macrof1: 0.564, weightedf1: 0.564\u001b[0m\n",
      "\u001b[92m2020-07-11 17:38:51\u001b[0m \u001b[95mMAC-ATI0414\u001b[0m \u001b[1m\u001b[90m[INFO]\u001b[0m \u001b[1;32msaving the model\u001b[0m\n"
     ]
    },
    {
     "name": "stderr",
     "output_type": "stream",
     "text": [
      "\n",
      "Epoch 2/5:   0%|          | 0/28 [00:00<?, ?it/s, loss=tensor(0.6770)]\u001b[A\n",
      "Epoch 2/5:   4%|▎         | 1/28 [00:00<00:15,  1.71it/s, loss=tensor(0.6770)]\u001b[A\n",
      "Epoch 2/5:   4%|▎         | 1/28 [00:01<00:15,  1.71it/s, loss=tensor(0.6750)]\u001b[A\n",
      "Epoch 2/5:   7%|▋         | 2/28 [00:01<00:17,  1.45it/s, loss=tensor(0.6750)]\u001b[A\n",
      "Epoch 2/5:   7%|▋         | 2/28 [00:02<00:17,  1.45it/s, loss=tensor(0.6794)]\u001b[A\n",
      "Epoch 2/5:  11%|█         | 3/28 [00:02<00:16,  1.53it/s, loss=tensor(0.6794)]\u001b[A\n",
      "Epoch 2/5:  11%|█         | 3/28 [00:02<00:16,  1.53it/s, loss=tensor(0.6755)]\u001b[A\n",
      "Epoch 2/5:  14%|█▍        | 4/28 [00:02<00:16,  1.50it/s, loss=tensor(0.6755)]\u001b[A\n",
      "Epoch 2/5:  14%|█▍        | 4/28 [00:03<00:16,  1.50it/s, loss=tensor(0.6733)]\u001b[A\n",
      "Epoch 2/5:  18%|█▊        | 5/28 [00:03<00:15,  1.44it/s, loss=tensor(0.6733)]\u001b[A\n",
      "Epoch 2/5:  18%|█▊        | 5/28 [00:04<00:15,  1.44it/s, loss=tensor(0.6715)]\u001b[A\n",
      "Epoch 2/5:  21%|██▏       | 6/28 [00:04<00:16,  1.37it/s, loss=tensor(0.6715)]\u001b[A\n",
      "Epoch 2/5:  21%|██▏       | 6/28 [00:04<00:16,  1.37it/s, loss=tensor(0.6721)]\u001b[A\n",
      "Epoch 2/5:  25%|██▌       | 7/28 [00:04<00:14,  1.46it/s, loss=tensor(0.6721)]\u001b[A\n",
      "Epoch 2/5:  25%|██▌       | 7/28 [00:05<00:14,  1.46it/s, loss=tensor(0.6726)]\u001b[A\n",
      "Epoch 2/5:  29%|██▊       | 8/28 [00:05<00:13,  1.51it/s, loss=tensor(0.6726)]\u001b[A\n",
      "Epoch 2/5:  29%|██▊       | 8/28 [00:06<00:13,  1.51it/s, loss=tensor(0.6734)]\u001b[A\n",
      "Epoch 2/5:  32%|███▏      | 9/28 [00:06<00:12,  1.55it/s, loss=tensor(0.6734)]\u001b[A\n",
      "Epoch 2/5:  32%|███▏      | 9/28 [00:06<00:12,  1.55it/s, loss=tensor(0.6765)]\u001b[A\n",
      "Epoch 2/5:  36%|███▌      | 10/28 [00:06<00:11,  1.62it/s, loss=tensor(0.6765)]\u001b[A\n",
      "Epoch 2/5:  36%|███▌      | 10/28 [00:07<00:11,  1.62it/s, loss=tensor(0.6736)]\u001b[A\n",
      "Epoch 2/5:  39%|███▉      | 11/28 [00:07<00:10,  1.66it/s, loss=tensor(0.6736)]\u001b[A\n",
      "Epoch 2/5:  39%|███▉      | 11/28 [00:07<00:10,  1.66it/s, loss=tensor(0.6697)]\u001b[A\n",
      "Epoch 2/5:  43%|████▎     | 12/28 [00:07<00:10,  1.59it/s, loss=tensor(0.6697)]\u001b[A\n",
      "Epoch 2/5:  43%|████▎     | 12/28 [00:08<00:10,  1.59it/s, loss=tensor(0.6663)]\u001b[A\n",
      "Epoch 2/5:  46%|████▋     | 13/28 [00:08<00:09,  1.65it/s, loss=tensor(0.6663)]\u001b[A\n",
      "Epoch 2/5:  46%|████▋     | 13/28 [00:09<00:09,  1.65it/s, loss=tensor(0.6713)]\u001b[A\n",
      "Epoch 2/5:  50%|█████     | 14/28 [00:09<00:08,  1.64it/s, loss=tensor(0.6713)]\u001b[A\n",
      "Epoch 2/5:  50%|█████     | 14/28 [00:09<00:08,  1.64it/s, loss=tensor(0.6754)]\u001b[A\n",
      "Epoch 2/5:  54%|█████▎    | 15/28 [00:09<00:08,  1.59it/s, loss=tensor(0.6754)]\u001b[A\n",
      "Epoch 2/5:  54%|█████▎    | 15/28 [00:10<00:08,  1.59it/s, loss=tensor(0.6661)]\u001b[A\n",
      "Epoch 2/5:  57%|█████▋    | 16/28 [00:10<00:07,  1.64it/s, loss=tensor(0.6661)]\u001b[A\n",
      "Epoch 2/5:  57%|█████▋    | 16/28 [00:10<00:07,  1.64it/s, loss=tensor(0.6705)]\u001b[A\n",
      "Epoch 2/5:  61%|██████    | 17/28 [00:10<00:06,  1.69it/s, loss=tensor(0.6705)]\u001b[A\n",
      "Epoch 2/5:  61%|██████    | 17/28 [00:11<00:06,  1.69it/s, loss=tensor(0.6497)]\u001b[A\n",
      "Epoch 2/5:  64%|██████▍   | 18/28 [00:11<00:05,  1.74it/s, loss=tensor(0.6497)]\u001b[A\n",
      "Epoch 2/5:  64%|██████▍   | 18/28 [00:12<00:05,  1.74it/s, loss=tensor(0.6664)]\u001b[A\n",
      "Epoch 2/5:  68%|██████▊   | 19/28 [00:12<00:05,  1.77it/s, loss=tensor(0.6664)]\u001b[A\n",
      "Epoch 2/5:  68%|██████▊   | 19/28 [00:12<00:05,  1.77it/s, loss=tensor(0.6739)]\u001b[A\n",
      "Epoch 2/5:  71%|███████▏  | 20/28 [00:12<00:04,  1.74it/s, loss=tensor(0.6739)]\u001b[A\n",
      "Epoch 2/5:  71%|███████▏  | 20/28 [00:13<00:04,  1.74it/s, loss=tensor(0.6683)]\u001b[A\n",
      "Epoch 2/5:  75%|███████▌  | 21/28 [00:13<00:04,  1.61it/s, loss=tensor(0.6683)]\u001b[A\n",
      "Epoch 2/5:  75%|███████▌  | 21/28 [00:13<00:04,  1.61it/s, loss=tensor(0.6632)]\u001b[A\n",
      "Epoch 2/5:  79%|███████▊  | 22/28 [00:13<00:03,  1.61it/s, loss=tensor(0.6632)]\u001b[A\n",
      "Epoch 2/5:  79%|███████▊  | 22/28 [00:14<00:03,  1.61it/s, loss=tensor(0.6706)]\u001b[A\n",
      "Epoch 2/5:  82%|████████▏ | 23/28 [00:14<00:03,  1.66it/s, loss=tensor(0.6706)]\u001b[A\n",
      "Epoch 2/5:  82%|████████▏ | 23/28 [00:15<00:03,  1.66it/s, loss=tensor(0.6575)]\u001b[A\n",
      "Epoch 2/5:  86%|████████▌ | 24/28 [00:15<00:02,  1.66it/s, loss=tensor(0.6575)]\u001b[A\n",
      "Epoch 2/5:  86%|████████▌ | 24/28 [00:15<00:02,  1.66it/s, loss=tensor(0.6588)]\u001b[A\n",
      "Epoch 2/5:  89%|████████▉ | 25/28 [00:15<00:01,  1.68it/s, loss=tensor(0.6588)]\u001b[A\n",
      "Epoch 2/5:  89%|████████▉ | 25/28 [00:16<00:01,  1.68it/s, loss=tensor(0.6537)]\u001b[A\n",
      "Epoch 2/5:  93%|█████████▎| 26/28 [00:16<00:01,  1.68it/s, loss=tensor(0.6537)]\u001b[A\n",
      "Epoch 2/5:  93%|█████████▎| 26/28 [00:16<00:01,  1.68it/s, loss=tensor(0.6522)]\u001b[A\n",
      "Epoch 2/5:  96%|█████████▋| 27/28 [00:16<00:00,  1.72it/s, loss=tensor(0.6522)]\u001b[A\n",
      "Epoch 2/5:  96%|█████████▋| 27/28 [00:17<00:00,  1.72it/s, loss=tensor(0.6436)]\u001b[A\n",
      "Epoch 2/5: 100%|██████████| 28/28 [00:17<00:00,  2.08it/s, loss=tensor(0.6436)]\u001b[A\n",
      "                                                                               \u001b[A\n",
      "  0%|          | 0/6 [00:00<?, ?it/s]\u001b[A\n",
      "valid:   0%|          | 0/6 [00:00<?, ?it/s]\u001b[A\n",
      "valid:   0%|          | 0/6 [00:00<?, ?it/s, loss=tensor(0.6844)]\u001b[A\n",
      "valid:  17%|█▋        | 1/6 [00:00<00:00,  7.55it/s, loss=tensor(0.6844)]\u001b[A"
     ]
    },
    {
     "name": "stdout",
     "output_type": "stream",
     "text": [
      "\u001b[92m2020-07-11 17:39:08\u001b[0m \u001b[95mMAC-ATI0414\u001b[0m \u001b[1m\u001b[90m[INFO]\u001b[0m \u001b[0;33m07/11/2020_17:39:08 -- Epoch: 2/5; Train; loss: 0.668; acc: 0.625; precision: 0.626, recall: 0.622, macrof1: 0.625, weightedf1: 0.625\u001b[0m\n"
     ]
    },
    {
     "name": "stderr",
     "output_type": "stream",
     "text": [
      "\n",
      "valid:  17%|█▋        | 1/6 [00:00<00:00,  7.55it/s, loss=tensor(0.6631)]\u001b[A\n",
      "valid:  33%|███▎      | 2/6 [00:00<00:00,  8.06it/s, loss=tensor(0.6631)]\u001b[A\n",
      "valid:  33%|███▎      | 2/6 [00:00<00:00,  8.06it/s, loss=tensor(0.6670)]\u001b[A\n",
      "valid:  50%|█████     | 3/6 [00:00<00:00,  8.03it/s, loss=tensor(0.6670)]\u001b[A\n",
      "valid:  50%|█████     | 3/6 [00:00<00:00,  8.03it/s, loss=tensor(0.6660)]\u001b[A\n",
      "valid:  67%|██████▋   | 4/6 [00:00<00:00,  8.05it/s, loss=tensor(0.6660)]\u001b[A\n",
      "valid:  67%|██████▋   | 4/6 [00:00<00:00,  8.05it/s, loss=tensor(0.6552)]\u001b[A\n",
      "valid:  83%|████████▎ | 5/6 [00:00<00:00,  7.81it/s, loss=tensor(0.6552)]\u001b[A\n",
      "valid:  83%|████████▎ | 5/6 [00:00<00:00,  7.81it/s, loss=tensor(0.6706)]\u001b[A\n",
      "valid: 100%|██████████| 6/6 [00:00<00:00,  8.27it/s, loss=tensor(0.6706)]\u001b[A\n",
      "                                                                         \u001b[A\n",
      "  0%|          | 0/28 [00:00<?, ?it/s]\u001b[A\n",
      "Epoch 3/5:   0%|          | 0/28 [00:00<?, ?it/s]\u001b[A"
     ]
    },
    {
     "name": "stdout",
     "output_type": "stream",
     "text": [
      "\u001b[92m2020-07-11 17:39:09\u001b[0m \u001b[95mMAC-ATI0414\u001b[0m \u001b[1m\u001b[90m[INFO]\u001b[0m \u001b[1;31m07/11/2020_17:39:09 -- Epoch: 2/5; Valid; loss: 0.668; acc: 0.599; precision: 0.604, recall: 0.578, macrof1: 0.599, weightedf1: 0.599\u001b[0m\n",
      "\u001b[92m2020-07-11 17:39:09\u001b[0m \u001b[95mMAC-ATI0414\u001b[0m \u001b[1m\u001b[90m[INFO]\u001b[0m \u001b[1;32msaving the model\u001b[0m\n"
     ]
    },
    {
     "name": "stderr",
     "output_type": "stream",
     "text": [
      "\n",
      "Epoch 3/5:   0%|          | 0/28 [00:00<?, ?it/s, loss=tensor(0.6363)]\u001b[A\n",
      "Epoch 3/5:   4%|▎         | 1/28 [00:00<00:14,  1.87it/s, loss=tensor(0.6363)]\u001b[A\n",
      "Epoch 3/5:   4%|▎         | 1/28 [00:01<00:14,  1.87it/s, loss=tensor(0.6106)]\u001b[A\n",
      "Epoch 3/5:   7%|▋         | 2/28 [00:01<00:13,  1.88it/s, loss=tensor(0.6106)]\u001b[A\n",
      "Epoch 3/5:   7%|▋         | 2/28 [00:01<00:13,  1.88it/s, loss=tensor(0.6299)]\u001b[A\n",
      "Epoch 3/5:  11%|█         | 3/28 [00:01<00:13,  1.88it/s, loss=tensor(0.6299)]\u001b[A\n",
      "Epoch 3/5:  11%|█         | 3/28 [00:02<00:13,  1.88it/s, loss=tensor(0.6278)]\u001b[A\n",
      "Epoch 3/5:  14%|█▍        | 4/28 [00:02<00:13,  1.83it/s, loss=tensor(0.6278)]\u001b[A\n",
      "Epoch 3/5:  14%|█▍        | 4/28 [00:02<00:13,  1.83it/s, loss=tensor(0.6434)]\u001b[A\n",
      "Epoch 3/5:  18%|█▊        | 5/28 [00:02<00:14,  1.59it/s, loss=tensor(0.6434)]\u001b[A\n",
      "Epoch 3/5:  18%|█▊        | 5/28 [00:03<00:14,  1.59it/s, loss=tensor(0.6166)]\u001b[A\n",
      "Epoch 3/5:  21%|██▏       | 6/28 [00:03<00:13,  1.59it/s, loss=tensor(0.6166)]\u001b[A\n",
      "Epoch 3/5:  21%|██▏       | 6/28 [00:04<00:13,  1.59it/s, loss=tensor(0.6248)]\u001b[A\n",
      "Epoch 3/5:  25%|██▌       | 7/28 [00:04<00:12,  1.67it/s, loss=tensor(0.6248)]\u001b[A\n",
      "Epoch 3/5:  25%|██▌       | 7/28 [00:04<00:12,  1.67it/s, loss=tensor(0.6259)]\u001b[A\n",
      "Epoch 3/5:  29%|██▊       | 8/28 [00:04<00:11,  1.71it/s, loss=tensor(0.6259)]\u001b[A\n",
      "Epoch 3/5:  29%|██▊       | 8/28 [00:05<00:11,  1.71it/s, loss=tensor(0.6301)]\u001b[A\n",
      "Epoch 3/5:  32%|███▏      | 9/28 [00:05<00:11,  1.70it/s, loss=tensor(0.6301)]\u001b[A\n",
      "Epoch 3/5:  32%|███▏      | 9/28 [00:05<00:11,  1.70it/s, loss=tensor(0.6217)]\u001b[A\n",
      "Epoch 3/5:  36%|███▌      | 10/28 [00:05<00:10,  1.70it/s, loss=tensor(0.6217)]\u001b[A\n",
      "Epoch 3/5:  36%|███▌      | 10/28 [00:06<00:10,  1.70it/s, loss=tensor(0.6465)]\u001b[A\n",
      "Epoch 3/5:  39%|███▉      | 11/28 [00:06<00:10,  1.69it/s, loss=tensor(0.6465)]\u001b[A\n",
      "Epoch 3/5:  39%|███▉      | 11/28 [00:07<00:10,  1.69it/s, loss=tensor(0.6446)]\u001b[A\n",
      "Epoch 3/5:  43%|████▎     | 12/28 [00:07<00:09,  1.71it/s, loss=tensor(0.6446)]\u001b[A\n",
      "Epoch 3/5:  43%|████▎     | 12/28 [00:07<00:09,  1.71it/s, loss=tensor(0.6090)]\u001b[A\n",
      "Epoch 3/5:  46%|████▋     | 13/28 [00:07<00:09,  1.62it/s, loss=tensor(0.6090)]\u001b[A\n",
      "Epoch 3/5:  46%|████▋     | 13/28 [00:08<00:09,  1.62it/s, loss=tensor(0.6232)]\u001b[A\n",
      "Epoch 3/5:  50%|█████     | 14/28 [00:08<00:08,  1.68it/s, loss=tensor(0.6232)]\u001b[A\n",
      "Epoch 3/5:  50%|█████     | 14/28 [00:08<00:08,  1.68it/s, loss=tensor(0.6168)]\u001b[A\n",
      "Epoch 3/5:  54%|█████▎    | 15/28 [00:08<00:07,  1.68it/s, loss=tensor(0.6168)]\u001b[A\n",
      "Epoch 3/5:  54%|█████▎    | 15/28 [00:09<00:07,  1.68it/s, loss=tensor(0.6506)]\u001b[A\n",
      "Epoch 3/5:  57%|█████▋    | 16/28 [00:09<00:07,  1.64it/s, loss=tensor(0.6506)]\u001b[A\n",
      "Epoch 3/5:  57%|█████▋    | 16/28 [00:10<00:07,  1.64it/s, loss=tensor(0.6143)]\u001b[A\n",
      "Epoch 3/5:  61%|██████    | 17/28 [00:10<00:07,  1.54it/s, loss=tensor(0.6143)]\u001b[A\n",
      "Epoch 3/5:  61%|██████    | 17/28 [00:10<00:07,  1.54it/s, loss=tensor(0.6219)]\u001b[A\n",
      "Epoch 3/5:  64%|██████▍   | 18/28 [00:10<00:06,  1.60it/s, loss=tensor(0.6219)]\u001b[A\n",
      "Epoch 3/5:  64%|██████▍   | 18/28 [00:11<00:06,  1.60it/s, loss=tensor(0.6069)]\u001b[A\n",
      "Epoch 3/5:  68%|██████▊   | 19/28 [00:11<00:05,  1.63it/s, loss=tensor(0.6069)]\u001b[A\n",
      "Epoch 3/5:  68%|██████▊   | 19/28 [00:12<00:05,  1.63it/s, loss=tensor(0.6012)]\u001b[A\n",
      "Epoch 3/5:  71%|███████▏  | 20/28 [00:12<00:04,  1.64it/s, loss=tensor(0.6012)]\u001b[A\n",
      "Epoch 3/5:  71%|███████▏  | 20/28 [00:12<00:04,  1.64it/s, loss=tensor(0.6169)]\u001b[A\n",
      "Epoch 3/5:  75%|███████▌  | 21/28 [00:12<00:04,  1.48it/s, loss=tensor(0.6169)]\u001b[A\n",
      "Epoch 3/5:  75%|███████▌  | 21/28 [00:13<00:04,  1.48it/s, loss=tensor(0.5938)]\u001b[A\n",
      "Epoch 3/5:  79%|███████▊  | 22/28 [00:13<00:03,  1.52it/s, loss=tensor(0.5938)]\u001b[A\n",
      "Epoch 3/5:  79%|███████▊  | 22/28 [00:14<00:03,  1.52it/s, loss=tensor(0.5832)]\u001b[A\n",
      "Epoch 3/5:  82%|████████▏ | 23/28 [00:14<00:03,  1.49it/s, loss=tensor(0.5832)]\u001b[A\n",
      "Epoch 3/5:  82%|████████▏ | 23/28 [00:14<00:03,  1.49it/s, loss=tensor(0.6286)]\u001b[A\n",
      "Epoch 3/5:  86%|████████▌ | 24/28 [00:14<00:02,  1.48it/s, loss=tensor(0.6286)]\u001b[A\n",
      "Epoch 3/5:  86%|████████▌ | 24/28 [00:15<00:02,  1.48it/s, loss=tensor(0.5851)]\u001b[A\n",
      "Epoch 3/5:  89%|████████▉ | 25/28 [00:15<00:02,  1.49it/s, loss=tensor(0.5851)]\u001b[A\n",
      "Epoch 3/5:  89%|████████▉ | 25/28 [00:16<00:02,  1.49it/s, loss=tensor(0.6080)]\u001b[A\n",
      "Epoch 3/5:  93%|█████████▎| 26/28 [00:16<00:01,  1.51it/s, loss=tensor(0.6080)]\u001b[A\n",
      "Epoch 3/5:  93%|█████████▎| 26/28 [00:16<00:01,  1.51it/s, loss=tensor(0.6004)]\u001b[A\n",
      "Epoch 3/5:  96%|█████████▋| 27/28 [00:16<00:00,  1.46it/s, loss=tensor(0.6004)]\u001b[A\n",
      "Epoch 3/5:  96%|█████████▋| 27/28 [00:17<00:00,  1.46it/s, loss=tensor(0.5730)]\u001b[A\n",
      "Epoch 3/5: 100%|██████████| 28/28 [00:17<00:00,  1.80it/s, loss=tensor(0.5730)]\u001b[A\n",
      "                                                                               \u001b[A\n",
      "  0%|          | 0/6 [00:00<?, ?it/s]\u001b[A\n",
      "valid:   0%|          | 0/6 [00:00<?, ?it/s]\u001b[A\n",
      "valid:   0%|          | 0/6 [00:00<?, ?it/s, loss=tensor(0.6171)]\u001b[A\n",
      "valid:  17%|█▋        | 1/6 [00:00<00:00,  6.59it/s, loss=tensor(0.6171)]\u001b[A"
     ]
    },
    {
     "name": "stdout",
     "output_type": "stream",
     "text": [
      "\u001b[92m2020-07-11 17:39:26\u001b[0m \u001b[95mMAC-ATI0414\u001b[0m \u001b[1m\u001b[90m[INFO]\u001b[0m \u001b[0;33m07/11/2020_17:39:26 -- Epoch: 3/5; Train; loss: 0.618; acc: 0.678; precision: 0.680, recall: 0.675, macrof1: 0.678, weightedf1: 0.678\u001b[0m\n"
     ]
    },
    {
     "name": "stderr",
     "output_type": "stream",
     "text": [
      "\n",
      "valid:  17%|█▋        | 1/6 [00:00<00:00,  6.59it/s, loss=tensor(0.6376)]\u001b[A\n",
      "valid:  33%|███▎      | 2/6 [00:00<00:00,  6.82it/s, loss=tensor(0.6376)]\u001b[A\n",
      "valid:  33%|███▎      | 2/6 [00:00<00:00,  6.82it/s, loss=tensor(0.6034)]\u001b[A\n",
      "valid:  50%|█████     | 3/6 [00:00<00:00,  7.11it/s, loss=tensor(0.6034)]\u001b[A\n",
      "valid:  50%|█████     | 3/6 [00:00<00:00,  7.11it/s, loss=tensor(0.6490)]\u001b[A\n",
      "valid:  67%|██████▋   | 4/6 [00:00<00:00,  7.40it/s, loss=tensor(0.6490)]\u001b[A\n",
      "valid:  67%|██████▋   | 4/6 [00:00<00:00,  7.40it/s, loss=tensor(0.6074)]\u001b[A\n",
      "valid:  83%|████████▎ | 5/6 [00:00<00:00,  7.61it/s, loss=tensor(0.6074)]\u001b[A\n",
      "valid:  83%|████████▎ | 5/6 [00:00<00:00,  7.61it/s, loss=tensor(0.5761)]\u001b[A\n",
      "valid: 100%|██████████| 6/6 [00:00<00:00,  7.56it/s, loss=tensor(0.5761)]\u001b[A\n",
      "                                                                         \u001b[A\n",
      "  0%|          | 0/28 [00:00<?, ?it/s]\u001b[A\n",
      "Epoch 4/5:   0%|          | 0/28 [00:00<?, ?it/s]\u001b[A"
     ]
    },
    {
     "name": "stdout",
     "output_type": "stream",
     "text": [
      "\u001b[92m2020-07-11 17:39:27\u001b[0m \u001b[95mMAC-ATI0414\u001b[0m \u001b[1m\u001b[90m[INFO]\u001b[0m \u001b[1;31m07/11/2020_17:39:27 -- Epoch: 3/5; Valid; loss: 0.615; acc: 0.670; precision: 0.659, recall: 0.705, macrof1: 0.670, weightedf1: 0.670\u001b[0m\n",
      "\u001b[92m2020-07-11 17:39:27\u001b[0m \u001b[95mMAC-ATI0414\u001b[0m \u001b[1m\u001b[90m[INFO]\u001b[0m \u001b[1;32msaving the model\u001b[0m\n"
     ]
    },
    {
     "name": "stderr",
     "output_type": "stream",
     "text": [
      "\n",
      "Epoch 4/5:   0%|          | 0/28 [00:00<?, ?it/s, loss=tensor(0.6085)]\u001b[A\n",
      "Epoch 4/5:   4%|▎         | 1/28 [00:00<00:16,  1.62it/s, loss=tensor(0.6085)]\u001b[A\n",
      "Epoch 4/5:   4%|▎         | 1/28 [00:01<00:16,  1.62it/s, loss=tensor(0.5734)]\u001b[A\n",
      "Epoch 4/5:   7%|▋         | 2/28 [00:01<00:15,  1.67it/s, loss=tensor(0.5734)]\u001b[A\n",
      "Epoch 4/5:   7%|▋         | 2/28 [00:01<00:15,  1.67it/s, loss=tensor(0.5248)]\u001b[A\n",
      "Epoch 4/5:  11%|█         | 3/28 [00:01<00:14,  1.68it/s, loss=tensor(0.5248)]\u001b[A\n",
      "Epoch 4/5:  11%|█         | 3/28 [00:02<00:14,  1.68it/s, loss=tensor(0.5840)]\u001b[A\n",
      "Epoch 4/5:  14%|█▍        | 4/28 [00:02<00:14,  1.71it/s, loss=tensor(0.5840)]\u001b[A\n",
      "Epoch 4/5:  14%|█▍        | 4/28 [00:02<00:14,  1.71it/s, loss=tensor(0.5400)]\u001b[A\n",
      "Epoch 4/5:  18%|█▊        | 5/28 [00:02<00:13,  1.64it/s, loss=tensor(0.5400)]\u001b[A\n",
      "Epoch 4/5:  18%|█▊        | 5/28 [00:03<00:13,  1.64it/s, loss=tensor(0.5577)]\u001b[A\n",
      "Epoch 4/5:  21%|██▏       | 6/28 [00:03<00:13,  1.68it/s, loss=tensor(0.5577)]\u001b[A\n",
      "Epoch 4/5:  21%|██▏       | 6/28 [00:04<00:13,  1.68it/s, loss=tensor(0.5411)]\u001b[A\n",
      "Epoch 4/5:  25%|██▌       | 7/28 [00:04<00:12,  1.70it/s, loss=tensor(0.5411)]\u001b[A\n",
      "Epoch 4/5:  25%|██▌       | 7/28 [00:04<00:12,  1.70it/s, loss=tensor(0.5335)]\u001b[A\n",
      "Epoch 4/5:  29%|██▊       | 8/28 [00:04<00:12,  1.60it/s, loss=tensor(0.5335)]\u001b[A\n",
      "Epoch 4/5:  29%|██▊       | 8/28 [00:05<00:12,  1.60it/s, loss=tensor(0.5137)]\u001b[A\n",
      "Epoch 4/5:  32%|███▏      | 9/28 [00:05<00:12,  1.57it/s, loss=tensor(0.5137)]\u001b[A\n",
      "Epoch 4/5:  32%|███▏      | 9/28 [00:06<00:12,  1.57it/s, loss=tensor(0.5420)]\u001b[A\n",
      "Epoch 4/5:  36%|███▌      | 10/28 [00:06<00:11,  1.61it/s, loss=tensor(0.5420)]\u001b[A\n",
      "Epoch 4/5:  36%|███▌      | 10/28 [00:06<00:11,  1.61it/s, loss=tensor(0.5372)]\u001b[A\n",
      "Epoch 4/5:  39%|███▉      | 11/28 [00:06<00:10,  1.59it/s, loss=tensor(0.5372)]\u001b[A\n",
      "Epoch 4/5:  39%|███▉      | 11/28 [00:07<00:10,  1.59it/s, loss=tensor(0.5268)]\u001b[A\n",
      "Epoch 4/5:  43%|████▎     | 12/28 [00:07<00:09,  1.60it/s, loss=tensor(0.5268)]\u001b[A\n",
      "Epoch 4/5:  43%|████▎     | 12/28 [00:07<00:09,  1.60it/s, loss=tensor(0.5492)]\u001b[A\n",
      "Epoch 4/5:  46%|████▋     | 13/28 [00:07<00:09,  1.64it/s, loss=tensor(0.5492)]\u001b[A\n",
      "Epoch 4/5:  46%|████▋     | 13/28 [00:08<00:09,  1.64it/s, loss=tensor(0.5504)]\u001b[A\n",
      "Epoch 4/5:  50%|█████     | 14/28 [00:08<00:08,  1.65it/s, loss=tensor(0.5504)]\u001b[A\n",
      "Epoch 4/5:  50%|█████     | 14/28 [00:09<00:08,  1.65it/s, loss=tensor(0.5159)]\u001b[A\n",
      "Epoch 4/5:  54%|█████▎    | 15/28 [00:09<00:07,  1.65it/s, loss=tensor(0.5159)]\u001b[A\n",
      "Epoch 4/5:  54%|█████▎    | 15/28 [00:09<00:07,  1.65it/s, loss=tensor(0.4986)]\u001b[A\n",
      "Epoch 4/5:  57%|█████▋    | 16/28 [00:09<00:07,  1.67it/s, loss=tensor(0.4986)]\u001b[A\n",
      "Epoch 4/5:  57%|█████▋    | 16/28 [00:10<00:07,  1.67it/s, loss=tensor(0.5071)]\u001b[A\n",
      "Epoch 4/5:  61%|██████    | 17/28 [00:10<00:06,  1.62it/s, loss=tensor(0.5071)]\u001b[A\n",
      "Epoch 4/5:  61%|██████    | 17/28 [00:10<00:06,  1.62it/s, loss=tensor(0.5446)]\u001b[A\n",
      "Epoch 4/5:  64%|██████▍   | 18/28 [00:10<00:06,  1.66it/s, loss=tensor(0.5446)]\u001b[A\n",
      "Epoch 4/5:  64%|██████▍   | 18/28 [00:11<00:06,  1.66it/s, loss=tensor(0.5928)]\u001b[A\n",
      "Epoch 4/5:  68%|██████▊   | 19/28 [00:11<00:05,  1.69it/s, loss=tensor(0.5928)]\u001b[A\n",
      "Epoch 4/5:  68%|██████▊   | 19/28 [00:12<00:05,  1.69it/s, loss=tensor(0.5564)]\u001b[A\n",
      "Epoch 4/5:  71%|███████▏  | 20/28 [00:12<00:04,  1.66it/s, loss=tensor(0.5564)]\u001b[A\n",
      "Epoch 4/5:  71%|███████▏  | 20/28 [00:12<00:04,  1.66it/s, loss=tensor(0.5185)]\u001b[A\n",
      "Epoch 4/5:  75%|███████▌  | 21/28 [00:12<00:04,  1.63it/s, loss=tensor(0.5185)]\u001b[A\n",
      "Epoch 4/5:  75%|███████▌  | 21/28 [00:13<00:04,  1.63it/s, loss=tensor(0.5187)]\u001b[A\n",
      "Epoch 4/5:  79%|███████▊  | 22/28 [00:13<00:03,  1.64it/s, loss=tensor(0.5187)]\u001b[A\n",
      "Epoch 4/5:  79%|███████▊  | 22/28 [00:14<00:03,  1.64it/s, loss=tensor(0.5295)]\u001b[A\n",
      "Epoch 4/5:  82%|████████▏ | 23/28 [00:14<00:03,  1.60it/s, loss=tensor(0.5295)]\u001b[A\n",
      "Epoch 4/5:  82%|████████▏ | 23/28 [00:14<00:03,  1.60it/s, loss=tensor(0.5567)]\u001b[A\n",
      "Epoch 4/5:  86%|████████▌ | 24/28 [00:14<00:02,  1.60it/s, loss=tensor(0.5567)]\u001b[A\n",
      "Epoch 4/5:  86%|████████▌ | 24/28 [00:15<00:02,  1.60it/s, loss=tensor(0.5603)]\u001b[A\n",
      "Epoch 4/5:  89%|████████▉ | 25/28 [00:15<00:01,  1.64it/s, loss=tensor(0.5603)]\u001b[A\n",
      "Epoch 4/5:  89%|████████▉ | 25/28 [00:15<00:01,  1.64it/s, loss=tensor(0.5194)]\u001b[A\n",
      "Epoch 4/5:  93%|█████████▎| 26/28 [00:15<00:01,  1.62it/s, loss=tensor(0.5194)]\u001b[A\n",
      "Epoch 4/5:  93%|█████████▎| 26/28 [00:16<00:01,  1.62it/s, loss=tensor(0.5038)]\u001b[A\n",
      "Epoch 4/5:  96%|█████████▋| 27/28 [00:16<00:00,  1.49it/s, loss=tensor(0.5038)]\u001b[A\n",
      "Epoch 4/5:  96%|█████████▋| 27/28 [00:16<00:00,  1.49it/s, loss=tensor(0.5255)]\u001b[A\n",
      "Epoch 4/5: 100%|██████████| 28/28 [00:16<00:00,  1.79it/s, loss=tensor(0.5255)]\u001b[A\n",
      "                                                                               \u001b[A\n",
      "  0%|          | 0/6 [00:00<?, ?it/s]\u001b[A\n",
      "valid:   0%|          | 0/6 [00:00<?, ?it/s]\u001b[A\n",
      "valid:   0%|          | 0/6 [00:00<?, ?it/s, loss=tensor(0.5824)]\u001b[A\n",
      "valid:  17%|█▋        | 1/6 [00:00<00:00,  6.50it/s, loss=tensor(0.5824)]\u001b[A"
     ]
    },
    {
     "name": "stdout",
     "output_type": "stream",
     "text": [
      "\u001b[92m2020-07-11 17:39:44\u001b[0m \u001b[95mMAC-ATI0414\u001b[0m \u001b[1m\u001b[90m[INFO]\u001b[0m \u001b[0;33m07/11/2020_17:39:44 -- Epoch: 4/5; Train; loss: 0.540; acc: 0.739; precision: 0.727, recall: 0.766, macrof1: 0.739, weightedf1: 0.739\u001b[0m\n"
     ]
    },
    {
     "name": "stderr",
     "output_type": "stream",
     "text": [
      "\n",
      "valid:  17%|█▋        | 1/6 [00:00<00:00,  6.50it/s, loss=tensor(0.5629)]\u001b[A\n",
      "valid:  33%|███▎      | 2/6 [00:00<00:00,  6.88it/s, loss=tensor(0.5629)]\u001b[A\n",
      "valid:  33%|███▎      | 2/6 [00:00<00:00,  6.88it/s, loss=tensor(0.6158)]\u001b[A\n",
      "valid:  50%|█████     | 3/6 [00:00<00:00,  7.14it/s, loss=tensor(0.6158)]\u001b[A\n",
      "valid:  50%|█████     | 3/6 [00:00<00:00,  7.14it/s, loss=tensor(0.5712)]\u001b[A\n",
      "valid:  67%|██████▋   | 4/6 [00:00<00:00,  7.01it/s, loss=tensor(0.5712)]\u001b[A\n",
      "valid:  67%|██████▋   | 4/6 [00:00<00:00,  7.01it/s, loss=tensor(0.6170)]\u001b[A\n",
      "valid:  83%|████████▎ | 5/6 [00:00<00:00,  7.43it/s, loss=tensor(0.6170)]\u001b[A\n",
      "valid:  83%|████████▎ | 5/6 [00:00<00:00,  7.43it/s, loss=tensor(0.6258)]\u001b[A\n",
      "valid: 100%|██████████| 6/6 [00:00<00:00,  7.90it/s, loss=tensor(0.6258)]\u001b[A\n",
      "                                                                         \u001b[A\n",
      "  0%|          | 0/28 [00:00<?, ?it/s]\u001b[A\n",
      "Epoch 5/5:   0%|          | 0/28 [00:00<?, ?it/s]\u001b[A"
     ]
    },
    {
     "name": "stdout",
     "output_type": "stream",
     "text": [
      "\u001b[92m2020-07-11 17:39:45\u001b[0m \u001b[95mMAC-ATI0414\u001b[0m \u001b[1m\u001b[90m[INFO]\u001b[0m \u001b[1;31m07/11/2020_17:39:45 -- Epoch: 4/5; Valid; loss: 0.596; acc: 0.699; precision: 0.681, recall: 0.748, macrof1: 0.698, weightedf1: 0.698\u001b[0m\n",
      "\u001b[92m2020-07-11 17:39:45\u001b[0m \u001b[95mMAC-ATI0414\u001b[0m \u001b[1m\u001b[90m[INFO]\u001b[0m \u001b[1;32msaving the model\u001b[0m\n"
     ]
    },
    {
     "name": "stderr",
     "output_type": "stream",
     "text": [
      "\n",
      "Epoch 5/5:   0%|          | 0/28 [00:00<?, ?it/s, loss=tensor(0.4929)]\u001b[A\n",
      "Epoch 5/5:   4%|▎         | 1/28 [00:00<00:15,  1.78it/s, loss=tensor(0.4929)]\u001b[A\n",
      "Epoch 5/5:   4%|▎         | 1/28 [00:01<00:15,  1.78it/s, loss=tensor(0.4684)]\u001b[A\n",
      "Epoch 5/5:   7%|▋         | 2/28 [00:01<00:15,  1.73it/s, loss=tensor(0.4684)]\u001b[A\n",
      "Epoch 5/5:   7%|▋         | 2/28 [00:01<00:15,  1.73it/s, loss=tensor(0.4988)]\u001b[A\n",
      "Epoch 5/5:  11%|█         | 3/28 [00:01<00:14,  1.67it/s, loss=tensor(0.4988)]\u001b[A\n",
      "Epoch 5/5:  11%|█         | 3/28 [00:02<00:14,  1.67it/s, loss=tensor(0.4872)]\u001b[A\n",
      "Epoch 5/5:  14%|█▍        | 4/28 [00:02<00:14,  1.61it/s, loss=tensor(0.4872)]\u001b[A\n",
      "Epoch 5/5:  14%|█▍        | 4/28 [00:03<00:14,  1.61it/s, loss=tensor(0.5289)]\u001b[A\n",
      "Epoch 5/5:  18%|█▊        | 5/28 [00:03<00:14,  1.62it/s, loss=tensor(0.5289)]\u001b[A\n",
      "Epoch 5/5:  18%|█▊        | 5/28 [00:03<00:14,  1.62it/s, loss=tensor(0.5520)]\u001b[A\n",
      "Epoch 5/5:  21%|██▏       | 6/28 [00:03<00:13,  1.69it/s, loss=tensor(0.5520)]\u001b[A\n",
      "Epoch 5/5:  21%|██▏       | 6/28 [00:04<00:13,  1.69it/s, loss=tensor(0.4543)]\u001b[A\n",
      "Epoch 5/5:  25%|██▌       | 7/28 [00:04<00:13,  1.56it/s, loss=tensor(0.4543)]\u001b[A\n",
      "Epoch 5/5:  25%|██▌       | 7/28 [00:05<00:13,  1.56it/s, loss=tensor(0.5098)]\u001b[A\n",
      "Epoch 5/5:  29%|██▊       | 8/28 [00:05<00:13,  1.51it/s, loss=tensor(0.5098)]\u001b[A\n",
      "Epoch 5/5:  29%|██▊       | 8/28 [00:05<00:13,  1.51it/s, loss=tensor(0.5172)]\u001b[A\n",
      "Epoch 5/5:  32%|███▏      | 9/28 [00:05<00:13,  1.43it/s, loss=tensor(0.5172)]\u001b[A\n",
      "Epoch 5/5:  32%|███▏      | 9/28 [00:07<00:13,  1.43it/s, loss=tensor(0.4716)]\u001b[A\n",
      "Epoch 5/5:  36%|███▌      | 10/28 [00:07<00:15,  1.20it/s, loss=tensor(0.4716)]\u001b[A\n",
      "Epoch 5/5:  36%|███▌      | 10/28 [00:08<00:15,  1.20it/s, loss=tensor(0.4884)]\u001b[A\n",
      "Epoch 5/5:  39%|███▉      | 11/28 [00:08<00:15,  1.13it/s, loss=tensor(0.4884)]\u001b[A\n",
      "Epoch 5/5:  39%|███▉      | 11/28 [00:09<00:15,  1.13it/s, loss=tensor(0.5050)]\u001b[A\n",
      "Epoch 5/5:  43%|████▎     | 12/28 [00:09<00:14,  1.09it/s, loss=tensor(0.5050)]\u001b[A\n",
      "Epoch 5/5:  43%|████▎     | 12/28 [00:09<00:14,  1.09it/s, loss=tensor(0.4625)]\u001b[A\n",
      "Epoch 5/5:  46%|████▋     | 13/28 [00:09<00:13,  1.09it/s, loss=tensor(0.4625)]\u001b[A\n",
      "Epoch 5/5:  46%|████▋     | 13/28 [00:10<00:13,  1.09it/s, loss=tensor(0.4940)]\u001b[A\n",
      "Epoch 5/5:  50%|█████     | 14/28 [00:10<00:12,  1.08it/s, loss=tensor(0.4940)]\u001b[A\n",
      "Epoch 5/5:  50%|█████     | 14/28 [00:11<00:12,  1.08it/s, loss=tensor(0.4554)]\u001b[A\n",
      "Epoch 5/5:  54%|█████▎    | 15/28 [00:11<00:11,  1.10it/s, loss=tensor(0.4554)]\u001b[A\n",
      "Epoch 5/5:  54%|█████▎    | 15/28 [00:12<00:11,  1.10it/s, loss=tensor(0.4972)]\u001b[A\n",
      "Epoch 5/5:  57%|█████▋    | 16/28 [00:12<00:10,  1.16it/s, loss=tensor(0.4972)]\u001b[A\n",
      "Epoch 5/5:  57%|█████▋    | 16/28 [00:13<00:10,  1.16it/s, loss=tensor(0.4311)]\u001b[A\n",
      "Epoch 5/5:  61%|██████    | 17/28 [00:13<00:09,  1.20it/s, loss=tensor(0.4311)]\u001b[A\n",
      "Epoch 5/5:  61%|██████    | 17/28 [00:13<00:09,  1.20it/s, loss=tensor(0.4962)]\u001b[A\n",
      "Epoch 5/5:  64%|██████▍   | 18/28 [00:13<00:07,  1.28it/s, loss=tensor(0.4962)]\u001b[A\n",
      "Epoch 5/5:  64%|██████▍   | 18/28 [00:14<00:07,  1.28it/s, loss=tensor(0.4786)]\u001b[A\n",
      "Epoch 5/5:  68%|██████▊   | 19/28 [00:14<00:06,  1.31it/s, loss=tensor(0.4786)]\u001b[A\n",
      "Epoch 5/5:  68%|██████▊   | 19/28 [00:15<00:06,  1.31it/s, loss=tensor(0.4843)]\u001b[A\n",
      "Epoch 5/5:  71%|███████▏  | 20/28 [00:15<00:06,  1.22it/s, loss=tensor(0.4843)]\u001b[A\n",
      "Epoch 5/5:  71%|███████▏  | 20/28 [00:16<00:06,  1.22it/s, loss=tensor(0.4795)]\u001b[A\n",
      "Epoch 5/5:  75%|███████▌  | 21/28 [00:16<00:05,  1.30it/s, loss=tensor(0.4795)]\u001b[A\n",
      "Epoch 5/5:  75%|███████▌  | 21/28 [00:16<00:05,  1.30it/s, loss=tensor(0.4391)]\u001b[A\n",
      "Epoch 5/5:  79%|███████▊  | 22/28 [00:16<00:04,  1.39it/s, loss=tensor(0.4391)]\u001b[A\n",
      "Epoch 5/5:  79%|███████▊  | 22/28 [00:17<00:04,  1.39it/s, loss=tensor(0.5132)]\u001b[A\n",
      "Epoch 5/5:  82%|████████▏ | 23/28 [00:17<00:03,  1.45it/s, loss=tensor(0.5132)]\u001b[A\n",
      "Epoch 5/5:  82%|████████▏ | 23/28 [00:18<00:03,  1.45it/s, loss=tensor(0.5289)]\u001b[A\n",
      "Epoch 5/5:  86%|████████▌ | 24/28 [00:18<00:02,  1.52it/s, loss=tensor(0.5289)]\u001b[A\n",
      "Epoch 5/5:  86%|████████▌ | 24/28 [00:18<00:02,  1.52it/s, loss=tensor(0.4841)]\u001b[A\n",
      "Epoch 5/5:  89%|████████▉ | 25/28 [00:18<00:02,  1.50it/s, loss=tensor(0.4841)]\u001b[A\n",
      "Epoch 5/5:  89%|████████▉ | 25/28 [00:19<00:02,  1.50it/s, loss=tensor(0.5095)]\u001b[A\n",
      "Epoch 5/5:  93%|█████████▎| 26/28 [00:19<00:01,  1.55it/s, loss=tensor(0.5095)]\u001b[A\n",
      "Epoch 5/5:  93%|█████████▎| 26/28 [00:19<00:01,  1.55it/s, loss=tensor(0.4811)]\u001b[A\n",
      "Epoch 5/5:  96%|█████████▋| 27/28 [00:19<00:00,  1.61it/s, loss=tensor(0.4811)]\u001b[A\n",
      "Epoch 5/5:  96%|█████████▋| 27/28 [00:20<00:00,  1.61it/s, loss=tensor(0.4542)]\u001b[A\n",
      "Epoch 5/5: 100%|██████████| 28/28 [00:20<00:00,  1.96it/s, loss=tensor(0.4542)]\u001b[A\n",
      "                                                                               \u001b[A\n",
      "  0%|          | 0/6 [00:00<?, ?it/s]\u001b[A\n",
      "valid:   0%|          | 0/6 [00:00<?, ?it/s]\u001b[A\n",
      "valid:   0%|          | 0/6 [00:00<?, ?it/s, loss=tensor(0.5180)]\u001b[A\n",
      "valid:  17%|█▋        | 1/6 [00:00<00:00,  7.76it/s, loss=tensor(0.5180)]\u001b[A"
     ]
    },
    {
     "name": "stdout",
     "output_type": "stream",
     "text": [
      "\u001b[92m2020-07-11 17:40:05\u001b[0m \u001b[95mMAC-ATI0414\u001b[0m \u001b[1m\u001b[90m[INFO]\u001b[0m \u001b[0;33m07/11/2020_17:40:05 -- Epoch: 5/5; Train; loss: 0.488; acc: 0.769; precision: 0.757, recall: 0.792, macrof1: 0.768, weightedf1: 0.768\u001b[0m\n"
     ]
    },
    {
     "name": "stderr",
     "output_type": "stream",
     "text": [
      "\n",
      "valid:  17%|█▋        | 1/6 [00:00<00:00,  7.76it/s, loss=tensor(0.6567)]\u001b[A\n",
      "valid:  33%|███▎      | 2/6 [00:00<00:00,  7.98it/s, loss=tensor(0.6567)]\u001b[A\n",
      "valid:  33%|███▎      | 2/6 [00:00<00:00,  7.98it/s, loss=tensor(0.5444)]\u001b[A\n",
      "valid:  50%|█████     | 3/6 [00:00<00:00,  7.84it/s, loss=tensor(0.5444)]\u001b[A\n",
      "valid:  50%|█████     | 3/6 [00:00<00:00,  7.84it/s, loss=tensor(0.5815)]\u001b[A\n",
      "valid:  67%|██████▋   | 4/6 [00:00<00:00,  8.13it/s, loss=tensor(0.5815)]\u001b[A\n",
      "valid:  67%|██████▋   | 4/6 [00:00<00:00,  8.13it/s, loss=tensor(0.6090)]\u001b[A\n",
      "valid:  83%|████████▎ | 5/6 [00:00<00:00,  8.14it/s, loss=tensor(0.6090)]\u001b[A\n",
      "valid:  83%|████████▎ | 5/6 [00:00<00:00,  8.14it/s, loss=tensor(0.5195)]\u001b[A\n",
      "                                                                         \u001b[A"
     ]
    },
    {
     "name": "stdout",
     "output_type": "stream",
     "text": [
      "\u001b[92m2020-07-11 17:40:06\u001b[0m \u001b[95mMAC-ATI0414\u001b[0m \u001b[1m\u001b[90m[INFO]\u001b[0m \u001b[1;31m07/11/2020_17:40:06 -- Epoch: 5/5; Valid; loss: 0.572; acc: 0.710; precision: 0.703, recall: 0.725, macrof1: 0.710, weightedf1: 0.710\u001b[0m\n",
      "\u001b[92m2020-07-11 17:40:06\u001b[0m \u001b[95mMAC-ATI0414\u001b[0m \u001b[1m\u001b[90m[INFO]\u001b[0m \u001b[1;32msaving the model\u001b[0m\n",
      "\n",
      "\u001b[92m2020-07-11 17:40:06\u001b[0m \u001b[95mMAC-ATI0414\u001b[0m \u001b[1m\u001b[90m[INFO]\u001b[0m \u001b[1;32msaving the model\u001b[0m\n",
      "\n",
      "\n",
      "\n",
      "====================\n",
      "User time: 92.9900\n",
      "====================\n"
     ]
    }
   ],
   "source": [
    "from DeezyMatch import train as dm_train\n",
    "\n",
    "# train a new model\n",
    "dm_train(input_file_path=\"../inputs/input_dfm_notebook_001.yaml\", \n",
    "         dataset_path=\"../dataset/dataset-string-similarity_test.txt\", \n",
    "         model_name=\"test001\")"
   ]
  },
  {
   "cell_type": "markdown",
   "metadata": {},
   "source": [
    "## Finetune a pretrained model"
   ]
  },
  {
   "cell_type": "code",
   "execution_count": 2,
   "metadata": {
    "scrolled": true
   },
   "outputs": [
    {
     "name": "stdout",
     "output_type": "stream",
     "text": [
      "\u001b[92m2020-07-11 17:40:06\u001b[0m \u001b[95mMAC-ATI0414\u001b[0m \u001b[1m\u001b[90m[INFO]\u001b[0m \u001b[2;32mread input file: ../inputs/input_dfm_notebook_001.yaml\u001b[0m\n",
      "\u001b[92m2020-07-11 17:40:06\u001b[0m \u001b[95mMAC-ATI0414\u001b[0m \u001b[1m\u001b[90m[INFO]\u001b[0m \u001b[1;31mGPU was requested but not available.\u001b[0m\n",
      "\u001b[92m2020-07-11 17:40:06\u001b[0m \u001b[95mMAC-ATI0414\u001b[0m \u001b[1m\u001b[90m[INFO]\u001b[0m \u001b[1;32mpytorch will use: cpu\u001b[0m\n",
      "\u001b[92m2020-07-11 17:40:06\u001b[0m \u001b[95mMAC-ATI0414\u001b[0m \u001b[1m\u001b[90m[INFO]\u001b[0m \u001b[2;32mread CSV file: ../dataset/dataset-string-similarity_test.txt\u001b[0m\n",
      "\u001b[92m2020-07-11 17:40:06\u001b[0m \u001b[95mMAC-ATI0414\u001b[0m \u001b[1m\u001b[90m[INFO]\u001b[0m \u001b[1;32mnumber of labels, True: 4998 and False: 4997\u001b[0m\n",
      "\u001b[92m2020-07-11 17:40:06\u001b[0m \u001b[95mMAC-ATI0414\u001b[0m \u001b[1m\u001b[90m[INFO]\u001b[0m \u001b[2;32mSplitting the Dataset\u001b[0m\n",
      "\u001b[92m2020-07-11 17:40:06\u001b[0m \u001b[95mMAC-ATI0414\u001b[0m \u001b[1m\u001b[90m[INFO]\u001b[0m \u001b[2;32mfinish splitting the Dataset. User time: 0.02133917808532715\u001b[0m\n",
      "\u001b[92m2020-07-11 17:40:06\u001b[0m \u001b[95mMAC-ATI0414\u001b[0m \u001b[1m\u001b[90m[INFO]\u001b[0m \u001b[1;32msplits are as follow:\n",
      "train    6997\n",
      "test     1500\n",
      "val      1498\n",
      "Name: split, dtype: int64\u001b[0m\n",
      "\u001b[92m2020-07-11 17:40:06\u001b[0m \u001b[95mMAC-ATI0414\u001b[0m \u001b[1m\u001b[90m[INFO]\u001b[0m \u001b[2;32mstart creating a lookup table and convert characters to indices\u001b[0m\n",
      "\u001b[92m2020-07-11 17:40:06\u001b[0m \u001b[95mMAC-ATI0414\u001b[0m \u001b[1m\u001b[90m[INFO]\u001b[0m \u001b[2;32m-- create vocabulary\u001b[0m\n"
     ]
    },
    {
     "name": "stderr",
     "output_type": "stream",
     "text": [
      "                                                   "
     ]
    },
    {
     "name": "stdout",
     "output_type": "stream",
     "text": [
      "\u001b[92m2020-07-11 17:40:06\u001b[0m \u001b[95mMAC-ATI0414\u001b[0m \u001b[1m\u001b[90m[INFO]\u001b[0m \u001b[2;32m-- convert tokens to indices\u001b[0m\n",
      "\u001b[92m2020-07-11 17:40:06\u001b[0m \u001b[95mMAC-ATI0414\u001b[0m \u001b[1m\u001b[90m[INFO]\u001b[0m \u001b[2;32mskipping 0 lines\u001b[0m\n"
     ]
    },
    {
     "name": "stderr",
     "output_type": "stream",
     "text": [
      "                                                    \r"
     ]
    },
    {
     "name": "stdout",
     "output_type": "stream",
     "text": [
      "\n",
      "\n",
      "============================================================\n",
      "List all parameters in the model\n",
      "============================================================\n",
      "emb.weight False\n",
      "rnn_1.weight_ih_l0 False\n",
      "rnn_1.weight_hh_l0 False\n",
      "rnn_1.bias_ih_l0 False\n",
      "rnn_1.bias_hh_l0 False\n",
      "rnn_1.weight_ih_l0_reverse False\n",
      "rnn_1.weight_hh_l0_reverse False\n",
      "rnn_1.bias_ih_l0_reverse False\n",
      "rnn_1.bias_hh_l0_reverse False\n",
      "rnn_1.weight_ih_l1 False\n",
      "rnn_1.weight_hh_l1 False\n",
      "rnn_1.bias_ih_l1 False\n",
      "rnn_1.bias_hh_l1 False\n",
      "rnn_1.weight_ih_l1_reverse False\n",
      "rnn_1.weight_hh_l1_reverse False\n",
      "rnn_1.bias_ih_l1_reverse False\n",
      "rnn_1.bias_hh_l1_reverse False\n",
      "attn_step1.weight False\n",
      "attn_step1.bias False\n",
      "attn_step2.weight False\n",
      "attn_step2.bias False\n",
      "fc1.weight True\n",
      "fc1.bias True\n",
      "fc2.weight True\n",
      "fc2.bias True\n",
      "============================================================\n",
      "\n",
      "\n",
      "\n",
      "\u001b[92m2020-07-11 17:40:07\u001b[0m \u001b[95mMAC-ATI0414\u001b[0m \u001b[1m\u001b[90m[INFO]\u001b[0m \u001b[95m******************************\u001b[0m\n",
      "\u001b[92m2020-07-11 17:40:07\u001b[0m \u001b[95mMAC-ATI0414\u001b[0m \u001b[1m\u001b[90m[INFO]\u001b[0m \u001b[95m**** (Bi-directional) GRU ****\u001b[0m\n",
      "\u001b[92m2020-07-11 17:40:07\u001b[0m \u001b[95mMAC-ATI0414\u001b[0m \u001b[1m\u001b[90m[INFO]\u001b[0m \u001b[95m******************************\u001b[0m\n",
      "\u001b[92m2020-07-11 17:40:07\u001b[0m \u001b[95mMAC-ATI0414\u001b[0m \u001b[1m\u001b[90m[INFO]\u001b[0m \u001b[2;32mNumber of batches: 28\u001b[0m\n",
      "\u001b[92m2020-07-11 17:40:07\u001b[0m \u001b[95mMAC-ATI0414\u001b[0m \u001b[1m\u001b[90m[INFO]\u001b[0m \u001b[2;32mNumber of epochs: 5\u001b[0m\n"
     ]
    },
    {
     "data": {
      "application/vnd.jupyter.widget-view+json": {
       "model_id": "3e460cf51c1f4da5a8ece99c1c6d5b2e",
       "version_major": 2,
       "version_minor": 0
      },
      "text/plain": [
       "HBox(children=(FloatProgress(value=0.0, max=5.0), HTML(value='')))"
      ]
     },
     "metadata": {},
     "output_type": "display_data"
    },
    {
     "name": "stderr",
     "output_type": "stream",
     "text": [
      "\n",
      "  0%|          | 0/28 [00:00<?, ?it/s]\u001b[A\n",
      "Epoch 1/5:   0%|          | 0/28 [00:00<?, ?it/s]\u001b[A\n",
      "Epoch 1/5:   0%|          | 0/28 [00:00<?, ?it/s, loss=tensor(0.4596)]\u001b[A\n",
      "Epoch 1/5:   4%|▎         | 1/28 [00:00<00:03,  7.62it/s, loss=tensor(0.4596)]\u001b[A"
     ]
    },
    {
     "name": "stdout",
     "output_type": "stream",
     "text": [
      "\n",
      "\n",
      "\n",
      "====================\n",
      "Total number of params: 627243\n",
      "\n",
      "two_parallel_rnns (\n",
      "  (emb): Embedding(7542, 60), weights=((7542, 60),), parameters=452520\n",
      "  (rnn_1): GRU(60, 60, num_layers=2, dropout=0.01, bidirectional=True), weights=((180, 60), (180, 60), (180,), (180,), (180, 60), (180, 60), (180,), (180,), (180, 120), (180, 60), (180,), (180,), (180, 120), (180, 60), (180,), (180,)), parameters=109440\n",
      "  (attn_step1): Linear(in_features=120, out_features=60, bias=True), weights=((60, 120), (60,)), parameters=7260\n",
      "  (attn_step2): Linear(in_features=60, out_features=1, bias=True), weights=((1, 60), (1,)), parameters=61\n",
      "  (fc1): Linear(in_features=480, out_features=120, bias=True), weights=((120, 480), (120,)), parameters=57720\n",
      "  (fc2): Linear(in_features=120, out_features=2, bias=True), weights=((2, 120), (2,)), parameters=242\n",
      ")\n",
      "====================\n",
      "\n",
      "\n"
     ]
    },
    {
     "name": "stderr",
     "output_type": "stream",
     "text": [
      "\n",
      "Epoch 1/5:   4%|▎         | 1/28 [00:00<00:03,  7.62it/s, loss=tensor(0.4412)]\u001b[A\n",
      "Epoch 1/5:   7%|▋         | 2/28 [00:00<00:03,  7.37it/s, loss=tensor(0.4412)]\u001b[A\n",
      "Epoch 1/5:   7%|▋         | 2/28 [00:00<00:03,  7.37it/s, loss=tensor(0.4564)]\u001b[A\n",
      "Epoch 1/5:  11%|█         | 3/28 [00:00<00:03,  7.33it/s, loss=tensor(0.4564)]\u001b[A\n",
      "Epoch 1/5:  11%|█         | 3/28 [00:00<00:03,  7.33it/s, loss=tensor(0.4295)]\u001b[A\n",
      "Epoch 1/5:  14%|█▍        | 4/28 [00:00<00:03,  7.06it/s, loss=tensor(0.4295)]\u001b[A\n",
      "Epoch 1/5:  14%|█▍        | 4/28 [00:00<00:03,  7.06it/s, loss=tensor(0.4085)]\u001b[A\n",
      "Epoch 1/5:  18%|█▊        | 5/28 [00:00<00:03,  7.15it/s, loss=tensor(0.4085)]\u001b[A\n",
      "Epoch 1/5:  18%|█▊        | 5/28 [00:00<00:03,  7.15it/s, loss=tensor(0.4220)]\u001b[A\n",
      "Epoch 1/5:  21%|██▏       | 6/28 [00:00<00:03,  7.24it/s, loss=tensor(0.4220)]\u001b[A\n",
      "Epoch 1/5:  21%|██▏       | 6/28 [00:00<00:03,  7.24it/s, loss=tensor(0.4713)]\u001b[A\n",
      "Epoch 1/5:  25%|██▌       | 7/28 [00:00<00:02,  7.25it/s, loss=tensor(0.4713)]\u001b[A\n",
      "Epoch 1/5:  25%|██▌       | 7/28 [00:01<00:02,  7.25it/s, loss=tensor(0.4347)]\u001b[A\n",
      "Epoch 1/5:  29%|██▊       | 8/28 [00:01<00:02,  7.14it/s, loss=tensor(0.4347)]\u001b[A\n",
      "Epoch 1/5:  29%|██▊       | 8/28 [00:01<00:02,  7.14it/s, loss=tensor(0.4255)]\u001b[A\n",
      "Epoch 1/5:  32%|███▏      | 9/28 [00:01<00:02,  7.02it/s, loss=tensor(0.4255)]\u001b[A\n",
      "Epoch 1/5:  32%|███▏      | 9/28 [00:01<00:02,  7.02it/s, loss=tensor(0.4026)]\u001b[A\n",
      "Epoch 1/5:  36%|███▌      | 10/28 [00:01<00:02,  6.87it/s, loss=tensor(0.4026)]\u001b[A\n",
      "Epoch 1/5:  36%|███▌      | 10/28 [00:01<00:02,  6.87it/s, loss=tensor(0.4420)]\u001b[A\n",
      "Epoch 1/5:  39%|███▉      | 11/28 [00:01<00:02,  7.02it/s, loss=tensor(0.4420)]\u001b[A\n",
      "Epoch 1/5:  39%|███▉      | 11/28 [00:01<00:02,  7.02it/s, loss=tensor(0.4186)]\u001b[A\n",
      "Epoch 1/5:  43%|████▎     | 12/28 [00:01<00:02,  6.58it/s, loss=tensor(0.4186)]\u001b[A\n",
      "Epoch 1/5:  43%|████▎     | 12/28 [00:01<00:02,  6.58it/s, loss=tensor(0.4561)]\u001b[A\n",
      "Epoch 1/5:  46%|████▋     | 13/28 [00:01<00:02,  6.57it/s, loss=tensor(0.4561)]\u001b[A\n",
      "Epoch 1/5:  46%|████▋     | 13/28 [00:02<00:02,  6.57it/s, loss=tensor(0.4438)]\u001b[A\n",
      "Epoch 1/5:  50%|█████     | 14/28 [00:02<00:02,  6.69it/s, loss=tensor(0.4438)]\u001b[A\n",
      "Epoch 1/5:  50%|█████     | 14/28 [00:02<00:02,  6.69it/s, loss=tensor(0.3901)]\u001b[A\n",
      "Epoch 1/5:  54%|█████▎    | 15/28 [00:02<00:01,  6.69it/s, loss=tensor(0.3901)]\u001b[A\n",
      "Epoch 1/5:  54%|█████▎    | 15/28 [00:02<00:01,  6.69it/s, loss=tensor(0.4236)]\u001b[A\n",
      "Epoch 1/5:  57%|█████▋    | 16/28 [00:02<00:02,  5.74it/s, loss=tensor(0.4236)]\u001b[A\n",
      "Epoch 1/5:  57%|█████▋    | 16/28 [00:02<00:02,  5.74it/s, loss=tensor(0.4283)]\u001b[A\n",
      "Epoch 1/5:  61%|██████    | 17/28 [00:02<00:01,  6.12it/s, loss=tensor(0.4283)]\u001b[A\n",
      "Epoch 1/5:  61%|██████    | 17/28 [00:02<00:01,  6.12it/s, loss=tensor(0.4056)]\u001b[A\n",
      "Epoch 1/5:  64%|██████▍   | 18/28 [00:02<00:01,  6.21it/s, loss=tensor(0.4056)]\u001b[A\n",
      "Epoch 1/5:  64%|██████▍   | 18/28 [00:02<00:01,  6.21it/s, loss=tensor(0.4509)]\u001b[A\n",
      "Epoch 1/5:  68%|██████▊   | 19/28 [00:02<00:01,  6.29it/s, loss=tensor(0.4509)]\u001b[A\n",
      "Epoch 1/5:  68%|██████▊   | 19/28 [00:03<00:01,  6.29it/s, loss=tensor(0.4675)]\u001b[A\n",
      "Epoch 1/5:  71%|███████▏  | 20/28 [00:03<00:01,  6.38it/s, loss=tensor(0.4675)]\u001b[A\n",
      "Epoch 1/5:  71%|███████▏  | 20/28 [00:03<00:01,  6.38it/s, loss=tensor(0.4453)]\u001b[A\n",
      "Epoch 1/5:  75%|███████▌  | 21/28 [00:03<00:01,  6.39it/s, loss=tensor(0.4453)]\u001b[A\n",
      "Epoch 1/5:  75%|███████▌  | 21/28 [00:03<00:01,  6.39it/s, loss=tensor(0.4254)]\u001b[A\n",
      "Epoch 1/5:  79%|███████▊  | 22/28 [00:03<00:00,  6.33it/s, loss=tensor(0.4254)]\u001b[A\n",
      "Epoch 1/5:  79%|███████▊  | 22/28 [00:03<00:00,  6.33it/s, loss=tensor(0.4313)]\u001b[A\n",
      "Epoch 1/5:  82%|████████▏ | 23/28 [00:03<00:00,  6.52it/s, loss=tensor(0.4313)]\u001b[A\n",
      "Epoch 1/5:  82%|████████▏ | 23/28 [00:03<00:00,  6.52it/s, loss=tensor(0.4262)]\u001b[A\n",
      "Epoch 1/5:  86%|████████▌ | 24/28 [00:03<00:00,  6.49it/s, loss=tensor(0.4262)]\u001b[A\n",
      "Epoch 1/5:  86%|████████▌ | 24/28 [00:03<00:00,  6.49it/s, loss=tensor(0.5590)]\u001b[A\n",
      "Epoch 1/5:  89%|████████▉ | 25/28 [00:03<00:00,  6.48it/s, loss=tensor(0.5590)]\u001b[A\n",
      "Epoch 1/5:  89%|████████▉ | 25/28 [00:03<00:00,  6.48it/s, loss=tensor(0.4340)]\u001b[A\n",
      "Epoch 1/5:  93%|█████████▎| 26/28 [00:03<00:00,  6.34it/s, loss=tensor(0.4340)]\u001b[A\n",
      "Epoch 1/5:  93%|█████████▎| 26/28 [00:04<00:00,  6.34it/s, loss=tensor(0.3911)]\u001b[A\n",
      "Epoch 1/5:  96%|█████████▋| 27/28 [00:04<00:00,  6.44it/s, loss=tensor(0.3911)]\u001b[A\n",
      "Epoch 1/5:  96%|█████████▋| 27/28 [00:04<00:00,  6.44it/s, loss=tensor(0.5335)]\u001b[A\n",
      "                                                                               \u001b[A\n",
      "  0%|          | 0/6 [00:00<?, ?it/s]\u001b[A\n",
      "valid:   0%|          | 0/6 [00:00<?, ?it/s]\u001b[A\n",
      "valid:   0%|          | 0/6 [00:00<?, ?it/s, loss=tensor(0.5310)]\u001b[A\n",
      "valid:  17%|█▋        | 1/6 [00:00<00:00,  6.39it/s, loss=tensor(0.5310)]\u001b[A"
     ]
    },
    {
     "name": "stdout",
     "output_type": "stream",
     "text": [
      "\u001b[92m2020-07-11 17:40:11\u001b[0m \u001b[95mMAC-ATI0414\u001b[0m \u001b[1m\u001b[90m[INFO]\u001b[0m \u001b[0;33m07/11/2020_17:40:11 -- Epoch: 1/5; Train; loss: 0.440; acc: 0.804; precision: 0.797, recall: 0.817, macrof1: 0.804, weightedf1: 0.804\u001b[0m\n"
     ]
    },
    {
     "name": "stderr",
     "output_type": "stream",
     "text": [
      "\n",
      "valid:  17%|█▋        | 1/6 [00:00<00:00,  6.39it/s, loss=tensor(0.6221)]\u001b[A\n",
      "valid:  33%|███▎      | 2/6 [00:00<00:00,  6.58it/s, loss=tensor(0.6221)]\u001b[A\n",
      "valid:  33%|███▎      | 2/6 [00:00<00:00,  6.58it/s, loss=tensor(0.5981)]\u001b[A\n",
      "valid:  50%|█████     | 3/6 [00:00<00:00,  6.81it/s, loss=tensor(0.5981)]\u001b[A\n",
      "valid:  50%|█████     | 3/6 [00:00<00:00,  6.81it/s, loss=tensor(0.5896)]\u001b[A\n",
      "valid:  67%|██████▋   | 4/6 [00:00<00:00,  6.97it/s, loss=tensor(0.5896)]\u001b[A\n",
      "valid:  67%|██████▋   | 4/6 [00:00<00:00,  6.97it/s, loss=tensor(0.6344)]\u001b[A\n",
      "valid:  83%|████████▎ | 5/6 [00:00<00:00,  6.90it/s, loss=tensor(0.6344)]\u001b[A\n",
      "valid:  83%|████████▎ | 5/6 [00:00<00:00,  6.90it/s, loss=tensor(0.5690)]\u001b[A\n",
      "valid: 100%|██████████| 6/6 [00:00<00:00,  7.13it/s, loss=tensor(0.5690)]\u001b[A\n",
      "                                                                         \u001b[A\n",
      "  0%|          | 0/28 [00:00<?, ?it/s]\u001b[A\n",
      "Epoch 2/5:   0%|          | 0/28 [00:00<?, ?it/s]\u001b[A\n",
      "Epoch 2/5:   0%|          | 0/28 [00:00<?, ?it/s, loss=tensor(0.4153)]\u001b[A\n",
      "Epoch 2/5:   4%|▎         | 1/28 [00:00<00:04,  6.55it/s, loss=tensor(0.4153)]\u001b[A"
     ]
    },
    {
     "name": "stdout",
     "output_type": "stream",
     "text": [
      "\u001b[92m2020-07-11 17:40:12\u001b[0m \u001b[95mMAC-ATI0414\u001b[0m \u001b[1m\u001b[90m[INFO]\u001b[0m \u001b[1;31m07/11/2020_17:40:12 -- Epoch: 1/5; Valid; loss: 0.591; acc: 0.716; precision: 0.712, recall: 0.724, macrof1: 0.716, weightedf1: 0.716\u001b[0m\n",
      "\u001b[92m2020-07-11 17:40:12\u001b[0m \u001b[95mMAC-ATI0414\u001b[0m \u001b[1m\u001b[90m[INFO]\u001b[0m \u001b[1;32msaving the model\u001b[0m\n"
     ]
    },
    {
     "name": "stderr",
     "output_type": "stream",
     "text": [
      "\n",
      "Epoch 2/5:   4%|▎         | 1/28 [00:00<00:04,  6.55it/s, loss=tensor(0.4002)]\u001b[A\n",
      "Epoch 2/5:   7%|▋         | 2/28 [00:00<00:03,  6.58it/s, loss=tensor(0.4002)]\u001b[A\n",
      "Epoch 2/5:   7%|▋         | 2/28 [00:00<00:03,  6.58it/s, loss=tensor(0.4519)]\u001b[A\n",
      "Epoch 2/5:  11%|█         | 3/28 [00:00<00:03,  6.54it/s, loss=tensor(0.4519)]\u001b[A\n",
      "Epoch 2/5:  11%|█         | 3/28 [00:00<00:03,  6.54it/s, loss=tensor(0.3890)]\u001b[A\n",
      "Epoch 2/5:  14%|█▍        | 4/28 [00:00<00:03,  6.78it/s, loss=tensor(0.3890)]\u001b[A\n",
      "Epoch 2/5:  14%|█▍        | 4/28 [00:00<00:03,  6.78it/s, loss=tensor(0.3749)]\u001b[A\n",
      "Epoch 2/5:  18%|█▊        | 5/28 [00:00<00:03,  6.58it/s, loss=tensor(0.3749)]\u001b[A\n",
      "Epoch 2/5:  18%|█▊        | 5/28 [00:00<00:03,  6.58it/s, loss=tensor(0.3698)]\u001b[A\n",
      "Epoch 2/5:  21%|██▏       | 6/28 [00:00<00:03,  6.41it/s, loss=tensor(0.3698)]\u001b[A\n",
      "Epoch 2/5:  21%|██▏       | 6/28 [00:01<00:03,  6.41it/s, loss=tensor(0.4006)]\u001b[A\n",
      "Epoch 2/5:  25%|██▌       | 7/28 [00:01<00:03,  6.51it/s, loss=tensor(0.4006)]\u001b[A\n",
      "Epoch 2/5:  25%|██▌       | 7/28 [00:01<00:03,  6.51it/s, loss=tensor(0.4540)]\u001b[A\n",
      "Epoch 2/5:  29%|██▊       | 8/28 [00:01<00:02,  6.68it/s, loss=tensor(0.4540)]\u001b[A\n",
      "Epoch 2/5:  29%|██▊       | 8/28 [00:01<00:02,  6.68it/s, loss=tensor(0.3989)]\u001b[A\n",
      "Epoch 2/5:  32%|███▏      | 9/28 [00:01<00:02,  6.70it/s, loss=tensor(0.3989)]\u001b[A\n",
      "Epoch 2/5:  32%|███▏      | 9/28 [00:01<00:02,  6.70it/s, loss=tensor(0.4366)]\u001b[A\n",
      "Epoch 2/5:  36%|███▌      | 10/28 [00:01<00:02,  6.86it/s, loss=tensor(0.4366)]\u001b[A\n",
      "Epoch 2/5:  36%|███▌      | 10/28 [00:01<00:02,  6.86it/s, loss=tensor(0.4338)]\u001b[A\n",
      "Epoch 2/5:  39%|███▉      | 11/28 [00:01<00:02,  6.87it/s, loss=tensor(0.4338)]\u001b[A\n",
      "Epoch 2/5:  39%|███▉      | 11/28 [00:01<00:02,  6.87it/s, loss=tensor(0.4446)]\u001b[A\n",
      "Epoch 2/5:  43%|████▎     | 12/28 [00:01<00:02,  6.85it/s, loss=tensor(0.4446)]\u001b[A\n",
      "Epoch 2/5:  43%|████▎     | 12/28 [00:01<00:02,  6.85it/s, loss=tensor(0.3873)]\u001b[A\n",
      "Epoch 2/5:  46%|████▋     | 13/28 [00:01<00:02,  6.62it/s, loss=tensor(0.3873)]\u001b[A\n",
      "Epoch 2/5:  46%|████▋     | 13/28 [00:02<00:02,  6.62it/s, loss=tensor(0.3821)]\u001b[A\n",
      "Epoch 2/5:  50%|█████     | 14/28 [00:02<00:02,  6.23it/s, loss=tensor(0.3821)]\u001b[A\n",
      "Epoch 2/5:  50%|█████     | 14/28 [00:02<00:02,  6.23it/s, loss=tensor(0.4062)]\u001b[A\n",
      "Epoch 2/5:  54%|█████▎    | 15/28 [00:02<00:02,  6.35it/s, loss=tensor(0.4062)]\u001b[A\n",
      "Epoch 2/5:  54%|█████▎    | 15/28 [00:02<00:02,  6.35it/s, loss=tensor(0.4128)]\u001b[A\n",
      "Epoch 2/5:  57%|█████▋    | 16/28 [00:02<00:01,  6.33it/s, loss=tensor(0.4128)]\u001b[A\n",
      "Epoch 2/5:  57%|█████▋    | 16/28 [00:02<00:01,  6.33it/s, loss=tensor(0.4424)]\u001b[A\n",
      "Epoch 2/5:  61%|██████    | 17/28 [00:02<00:01,  6.53it/s, loss=tensor(0.4424)]\u001b[A\n",
      "Epoch 2/5:  61%|██████    | 17/28 [00:02<00:01,  6.53it/s, loss=tensor(0.4127)]\u001b[A\n",
      "Epoch 2/5:  64%|██████▍   | 18/28 [00:02<00:01,  6.57it/s, loss=tensor(0.4127)]\u001b[A\n",
      "Epoch 2/5:  64%|██████▍   | 18/28 [00:02<00:01,  6.57it/s, loss=tensor(0.3983)]\u001b[A\n",
      "Epoch 2/5:  68%|██████▊   | 19/28 [00:02<00:01,  6.62it/s, loss=tensor(0.3983)]\u001b[A\n",
      "Epoch 2/5:  68%|██████▊   | 19/28 [00:03<00:01,  6.62it/s, loss=tensor(0.4269)]\u001b[A\n",
      "Epoch 2/5:  71%|███████▏  | 20/28 [00:03<00:01,  6.52it/s, loss=tensor(0.4269)]\u001b[A\n",
      "Epoch 2/5:  71%|███████▏  | 20/28 [00:03<00:01,  6.52it/s, loss=tensor(0.3824)]\u001b[A\n",
      "Epoch 2/5:  75%|███████▌  | 21/28 [00:03<00:01,  6.41it/s, loss=tensor(0.3824)]\u001b[A\n",
      "Epoch 2/5:  75%|███████▌  | 21/28 [00:03<00:01,  6.41it/s, loss=tensor(0.3879)]\u001b[A\n",
      "Epoch 2/5:  79%|███████▊  | 22/28 [00:03<00:00,  6.41it/s, loss=tensor(0.3879)]\u001b[A\n",
      "Epoch 2/5:  79%|███████▊  | 22/28 [00:03<00:00,  6.41it/s, loss=tensor(0.4145)]\u001b[A\n",
      "Epoch 2/5:  82%|████████▏ | 23/28 [00:03<00:00,  6.48it/s, loss=tensor(0.4145)]\u001b[A\n",
      "Epoch 2/5:  82%|████████▏ | 23/28 [00:03<00:00,  6.48it/s, loss=tensor(0.4363)]\u001b[A\n",
      "Epoch 2/5:  86%|████████▌ | 24/28 [00:03<00:00,  6.58it/s, loss=tensor(0.4363)]\u001b[A\n",
      "Epoch 2/5:  86%|████████▌ | 24/28 [00:03<00:00,  6.58it/s, loss=tensor(0.4061)]\u001b[A\n",
      "Epoch 2/5:  89%|████████▉ | 25/28 [00:03<00:00,  6.61it/s, loss=tensor(0.4061)]\u001b[A\n",
      "Epoch 2/5:  89%|████████▉ | 25/28 [00:03<00:00,  6.61it/s, loss=tensor(0.3850)]\u001b[A\n",
      "Epoch 2/5:  93%|█████████▎| 26/28 [00:03<00:00,  6.74it/s, loss=tensor(0.3850)]\u001b[A\n",
      "Epoch 2/5:  93%|█████████▎| 26/28 [00:04<00:00,  6.74it/s, loss=tensor(0.3978)]\u001b[A\n",
      "Epoch 2/5:  96%|█████████▋| 27/28 [00:04<00:00,  6.87it/s, loss=tensor(0.3978)]\u001b[A\n",
      "Epoch 2/5:  96%|█████████▋| 27/28 [00:04<00:00,  6.87it/s, loss=tensor(0.4542)]\u001b[A\n",
      "                                                                               \u001b[A\n",
      "  0%|          | 0/6 [00:00<?, ?it/s]\u001b[A\n",
      "valid:   0%|          | 0/6 [00:00<?, ?it/s]\u001b[A\n",
      "valid:   0%|          | 0/6 [00:00<?, ?it/s, loss=tensor(0.5968)]\u001b[A\n",
      "valid:  17%|█▋        | 1/6 [00:00<00:00,  7.27it/s, loss=tensor(0.5968)]\u001b[A"
     ]
    },
    {
     "name": "stdout",
     "output_type": "stream",
     "text": [
      "\u001b[92m2020-07-11 17:40:16\u001b[0m \u001b[95mMAC-ATI0414\u001b[0m \u001b[1m\u001b[90m[INFO]\u001b[0m \u001b[0;33m07/11/2020_17:40:16 -- Epoch: 2/5; Train; loss: 0.411; acc: 0.823; precision: 0.812, recall: 0.840, macrof1: 0.823, weightedf1: 0.823\u001b[0m\n"
     ]
    },
    {
     "name": "stderr",
     "output_type": "stream",
     "text": [
      "\n",
      "valid:  17%|█▋        | 1/6 [00:00<00:00,  7.27it/s, loss=tensor(0.6466)]\u001b[A\n",
      "valid:  33%|███▎      | 2/6 [00:00<00:00,  7.62it/s, loss=tensor(0.6466)]\u001b[A\n",
      "valid:  33%|███▎      | 2/6 [00:00<00:00,  7.62it/s, loss=tensor(0.5944)]\u001b[A\n",
      "valid:  50%|█████     | 3/6 [00:00<00:00,  7.89it/s, loss=tensor(0.5944)]\u001b[A\n",
      "valid:  50%|█████     | 3/6 [00:00<00:00,  7.89it/s, loss=tensor(0.5494)]\u001b[A\n",
      "valid:  67%|██████▋   | 4/6 [00:00<00:00,  7.89it/s, loss=tensor(0.5494)]\u001b[A\n",
      "valid:  67%|██████▋   | 4/6 [00:00<00:00,  7.89it/s, loss=tensor(0.4967)]\u001b[A\n",
      "valid:  83%|████████▎ | 5/6 [00:00<00:00,  7.65it/s, loss=tensor(0.4967)]\u001b[A\n",
      "valid:  83%|████████▎ | 5/6 [00:00<00:00,  7.65it/s, loss=tensor(0.7200)]\u001b[A\n",
      "valid: 100%|██████████| 6/6 [00:00<00:00,  7.74it/s, loss=tensor(0.7200)]\u001b[A\n",
      "                                                                         \u001b[A\n",
      "  0%|          | 0/28 [00:00<?, ?it/s]\u001b[A\n",
      "Epoch 3/5:   0%|          | 0/28 [00:00<?, ?it/s]\u001b[A\n",
      "Epoch 3/5:   0%|          | 0/28 [00:00<?, ?it/s, loss=tensor(0.3382)]\u001b[A\n",
      "Epoch 3/5:   4%|▎         | 1/28 [00:00<00:03,  7.59it/s, loss=tensor(0.3382)]\u001b[A"
     ]
    },
    {
     "name": "stdout",
     "output_type": "stream",
     "text": [
      "\u001b[92m2020-07-11 17:40:17\u001b[0m \u001b[95mMAC-ATI0414\u001b[0m \u001b[1m\u001b[90m[INFO]\u001b[0m \u001b[1;31m07/11/2020_17:40:17 -- Epoch: 2/5; Valid; loss: 0.601; acc: 0.720; precision: 0.722, recall: 0.717, macrof1: 0.720, weightedf1: 0.720\u001b[0m\n",
      "\u001b[92m2020-07-11 17:40:17\u001b[0m \u001b[95mMAC-ATI0414\u001b[0m \u001b[1m\u001b[90m[INFO]\u001b[0m \u001b[1;32msaving the model\u001b[0m\n"
     ]
    },
    {
     "name": "stderr",
     "output_type": "stream",
     "text": [
      "\n",
      "Epoch 3/5:   4%|▎         | 1/28 [00:00<00:03,  7.59it/s, loss=tensor(0.3990)]\u001b[A\n",
      "Epoch 3/5:   7%|▋         | 2/28 [00:00<00:03,  7.45it/s, loss=tensor(0.3990)]\u001b[A\n",
      "Epoch 3/5:   7%|▋         | 2/28 [00:00<00:03,  7.45it/s, loss=tensor(0.4322)]\u001b[A\n",
      "Epoch 3/5:  11%|█         | 3/28 [00:00<00:03,  7.18it/s, loss=tensor(0.4322)]\u001b[A\n",
      "Epoch 3/5:  11%|█         | 3/28 [00:00<00:03,  7.18it/s, loss=tensor(0.3666)]\u001b[A\n",
      "Epoch 3/5:  14%|█▍        | 4/28 [00:00<00:03,  7.00it/s, loss=tensor(0.3666)]\u001b[A\n",
      "Epoch 3/5:  14%|█▍        | 4/28 [00:00<00:03,  7.00it/s, loss=tensor(0.4072)]\u001b[A\n",
      "Epoch 3/5:  18%|█▊        | 5/28 [00:00<00:03,  6.89it/s, loss=tensor(0.4072)]\u001b[A\n",
      "Epoch 3/5:  18%|█▊        | 5/28 [00:00<00:03,  6.89it/s, loss=tensor(0.4130)]\u001b[A\n",
      "Epoch 3/5:  21%|██▏       | 6/28 [00:00<00:03,  6.97it/s, loss=tensor(0.4130)]\u001b[A\n",
      "Epoch 3/5:  21%|██▏       | 6/28 [00:00<00:03,  6.97it/s, loss=tensor(0.4326)]\u001b[A\n",
      "Epoch 3/5:  25%|██▌       | 7/28 [00:01<00:02,  7.08it/s, loss=tensor(0.4326)]\u001b[A\n",
      "Epoch 3/5:  25%|██▌       | 7/28 [00:01<00:02,  7.08it/s, loss=tensor(0.4227)]\u001b[A\n",
      "Epoch 3/5:  29%|██▊       | 8/28 [00:01<00:02,  7.16it/s, loss=tensor(0.4227)]\u001b[A\n",
      "Epoch 3/5:  29%|██▊       | 8/28 [00:01<00:02,  7.16it/s, loss=tensor(0.4175)]\u001b[A\n",
      "Epoch 3/5:  32%|███▏      | 9/28 [00:01<00:02,  7.10it/s, loss=tensor(0.4175)]\u001b[A\n",
      "Epoch 3/5:  32%|███▏      | 9/28 [00:01<00:02,  7.10it/s, loss=tensor(0.3691)]\u001b[A\n",
      "Epoch 3/5:  36%|███▌      | 10/28 [00:01<00:02,  6.98it/s, loss=tensor(0.3691)]\u001b[A\n",
      "Epoch 3/5:  36%|███▌      | 10/28 [00:01<00:02,  6.98it/s, loss=tensor(0.3794)]\u001b[A\n",
      "Epoch 3/5:  39%|███▉      | 11/28 [00:01<00:02,  6.97it/s, loss=tensor(0.3794)]\u001b[A\n",
      "Epoch 3/5:  39%|███▉      | 11/28 [00:01<00:02,  6.97it/s, loss=tensor(0.3796)]\u001b[A\n",
      "Epoch 3/5:  43%|████▎     | 12/28 [00:01<00:02,  6.79it/s, loss=tensor(0.3796)]\u001b[A\n",
      "Epoch 3/5:  43%|████▎     | 12/28 [00:01<00:02,  6.79it/s, loss=tensor(0.3804)]\u001b[A\n",
      "Epoch 3/5:  46%|████▋     | 13/28 [00:01<00:02,  6.79it/s, loss=tensor(0.3804)]\u001b[A\n",
      "Epoch 3/5:  46%|████▋     | 13/28 [00:02<00:02,  6.79it/s, loss=tensor(0.3885)]\u001b[A\n",
      "Epoch 3/5:  50%|█████     | 14/28 [00:02<00:02,  6.29it/s, loss=tensor(0.3885)]\u001b[A\n",
      "Epoch 3/5:  50%|█████     | 14/28 [00:02<00:02,  6.29it/s, loss=tensor(0.3609)]\u001b[A\n",
      "Epoch 3/5:  54%|█████▎    | 15/28 [00:02<00:02,  6.33it/s, loss=tensor(0.3609)]\u001b[A\n",
      "Epoch 3/5:  54%|█████▎    | 15/28 [00:02<00:02,  6.33it/s, loss=tensor(0.3919)]\u001b[A\n",
      "Epoch 3/5:  57%|█████▋    | 16/28 [00:02<00:01,  6.41it/s, loss=tensor(0.3919)]\u001b[A\n",
      "Epoch 3/5:  57%|█████▋    | 16/28 [00:02<00:01,  6.41it/s, loss=tensor(0.4140)]\u001b[A\n",
      "Epoch 3/5:  61%|██████    | 17/28 [00:02<00:01,  6.43it/s, loss=tensor(0.4140)]\u001b[A\n",
      "Epoch 3/5:  61%|██████    | 17/28 [00:02<00:01,  6.43it/s, loss=tensor(0.4051)]\u001b[A\n",
      "Epoch 3/5:  64%|██████▍   | 18/28 [00:02<00:01,  6.65it/s, loss=tensor(0.4051)]\u001b[A\n",
      "Epoch 3/5:  64%|██████▍   | 18/28 [00:02<00:01,  6.65it/s, loss=tensor(0.3792)]\u001b[A\n",
      "Epoch 3/5:  68%|██████▊   | 19/28 [00:02<00:01,  6.71it/s, loss=tensor(0.3792)]\u001b[A\n",
      "Epoch 3/5:  68%|██████▊   | 19/28 [00:02<00:01,  6.71it/s, loss=tensor(0.4333)]\u001b[A\n",
      "Epoch 3/5:  71%|███████▏  | 20/28 [00:02<00:01,  6.82it/s, loss=tensor(0.4333)]\u001b[A\n",
      "Epoch 3/5:  71%|███████▏  | 20/28 [00:03<00:01,  6.82it/s, loss=tensor(0.3797)]\u001b[A\n",
      "Epoch 3/5:  75%|███████▌  | 21/28 [00:03<00:01,  6.75it/s, loss=tensor(0.3797)]\u001b[A\n",
      "Epoch 3/5:  75%|███████▌  | 21/28 [00:03<00:01,  6.75it/s, loss=tensor(0.3717)]\u001b[A\n",
      "Epoch 3/5:  79%|███████▊  | 22/28 [00:03<00:00,  6.83it/s, loss=tensor(0.3717)]\u001b[A\n",
      "Epoch 3/5:  79%|███████▊  | 22/28 [00:03<00:00,  6.83it/s, loss=tensor(0.3634)]\u001b[A\n",
      "Epoch 3/5:  82%|████████▏ | 23/28 [00:03<00:00,  6.95it/s, loss=tensor(0.3634)]\u001b[A\n",
      "Epoch 3/5:  82%|████████▏ | 23/28 [00:03<00:00,  6.95it/s, loss=tensor(0.4289)]\u001b[A\n",
      "Epoch 3/5:  86%|████████▌ | 24/28 [00:03<00:00,  6.99it/s, loss=tensor(0.4289)]\u001b[A\n",
      "Epoch 3/5:  86%|████████▌ | 24/28 [00:03<00:00,  6.99it/s, loss=tensor(0.3960)]\u001b[A\n",
      "Epoch 3/5:  89%|████████▉ | 25/28 [00:03<00:00,  6.37it/s, loss=tensor(0.3960)]\u001b[A\n",
      "Epoch 3/5:  89%|████████▉ | 25/28 [00:03<00:00,  6.37it/s, loss=tensor(0.4002)]\u001b[A\n",
      "Epoch 3/5:  93%|█████████▎| 26/28 [00:03<00:00,  5.89it/s, loss=tensor(0.4002)]\u001b[A\n",
      "Epoch 3/5:  93%|█████████▎| 26/28 [00:04<00:00,  5.89it/s, loss=tensor(0.4067)]\u001b[A\n",
      "Epoch 3/5:  96%|█████████▋| 27/28 [00:04<00:00,  6.09it/s, loss=tensor(0.4067)]\u001b[A\n",
      "Epoch 3/5:  96%|█████████▋| 27/28 [00:04<00:00,  6.09it/s, loss=tensor(0.3857)]\u001b[A\n",
      "                                                                               \u001b[A\n",
      "  0%|          | 0/6 [00:00<?, ?it/s]\u001b[A\n",
      "valid:   0%|          | 0/6 [00:00<?, ?it/s]\u001b[A\n",
      "valid:   0%|          | 0/6 [00:00<?, ?it/s, loss=tensor(0.5962)]\u001b[A\n",
      "valid:  17%|█▋        | 1/6 [00:00<00:00,  6.64it/s, loss=tensor(0.5962)]\u001b[A"
     ]
    },
    {
     "name": "stdout",
     "output_type": "stream",
     "text": [
      "\u001b[92m2020-07-11 17:40:21\u001b[0m \u001b[95mMAC-ATI0414\u001b[0m \u001b[1m\u001b[90m[INFO]\u001b[0m \u001b[0;33m07/11/2020_17:40:21 -- Epoch: 3/5; Train; loss: 0.394; acc: 0.832; precision: 0.826, recall: 0.841, macrof1: 0.832, weightedf1: 0.832\u001b[0m\n"
     ]
    },
    {
     "name": "stderr",
     "output_type": "stream",
     "text": [
      "\n",
      "valid:  17%|█▋        | 1/6 [00:00<00:00,  6.64it/s, loss=tensor(0.5647)]\u001b[A\n",
      "valid:  33%|███▎      | 2/6 [00:00<00:00,  6.69it/s, loss=tensor(0.5647)]\u001b[A\n",
      "valid:  33%|███▎      | 2/6 [00:00<00:00,  6.69it/s, loss=tensor(0.6822)]\u001b[A\n",
      "valid:  50%|█████     | 3/6 [00:00<00:00,  6.94it/s, loss=tensor(0.6822)]\u001b[A\n",
      "valid:  50%|█████     | 3/6 [00:00<00:00,  6.94it/s, loss=tensor(0.6875)]\u001b[A\n",
      "valid:  67%|██████▋   | 4/6 [00:00<00:00,  6.84it/s, loss=tensor(0.6875)]\u001b[A\n",
      "valid:  67%|██████▋   | 4/6 [00:00<00:00,  6.84it/s, loss=tensor(0.5525)]\u001b[A\n",
      "valid:  83%|████████▎ | 5/6 [00:00<00:00,  7.15it/s, loss=tensor(0.5525)]\u001b[A\n",
      "valid:  83%|████████▎ | 5/6 [00:00<00:00,  7.15it/s, loss=tensor(0.5854)]\u001b[A\n",
      "valid: 100%|██████████| 6/6 [00:00<00:00,  7.79it/s, loss=tensor(0.5854)]\u001b[A\n",
      "                                                                         \u001b[A\n",
      "  0%|          | 0/28 [00:00<?, ?it/s]\u001b[A\n",
      "Epoch 4/5:   0%|          | 0/28 [00:00<?, ?it/s]\u001b[A\n",
      "Epoch 4/5:   0%|          | 0/28 [00:00<?, ?it/s, loss=tensor(0.4369)]\u001b[A\n",
      "Epoch 4/5:   4%|▎         | 1/28 [00:00<00:03,  7.08it/s, loss=tensor(0.4369)]\u001b[A"
     ]
    },
    {
     "name": "stdout",
     "output_type": "stream",
     "text": [
      "\u001b[92m2020-07-11 17:40:22\u001b[0m \u001b[95mMAC-ATI0414\u001b[0m \u001b[1m\u001b[90m[INFO]\u001b[0m \u001b[1;31m07/11/2020_17:40:22 -- Epoch: 3/5; Valid; loss: 0.611; acc: 0.714; precision: 0.711, recall: 0.721, macrof1: 0.714, weightedf1: 0.714\u001b[0m\n",
      "\u001b[92m2020-07-11 17:40:22\u001b[0m \u001b[95mMAC-ATI0414\u001b[0m \u001b[1m\u001b[90m[INFO]\u001b[0m \u001b[1;32msaving the model\u001b[0m\n"
     ]
    },
    {
     "name": "stderr",
     "output_type": "stream",
     "text": [
      "\n",
      "Epoch 4/5:   4%|▎         | 1/28 [00:00<00:03,  7.08it/s, loss=tensor(0.3626)]\u001b[A\n",
      "Epoch 4/5:   7%|▋         | 2/28 [00:00<00:03,  7.05it/s, loss=tensor(0.3626)]\u001b[A\n",
      "Epoch 4/5:   7%|▋         | 2/28 [00:00<00:03,  7.05it/s, loss=tensor(0.3400)]\u001b[A\n",
      "Epoch 4/5:  11%|█         | 3/28 [00:00<00:03,  6.93it/s, loss=tensor(0.3400)]\u001b[A\n",
      "Epoch 4/5:  11%|█         | 3/28 [00:00<00:03,  6.93it/s, loss=tensor(0.3866)]\u001b[A\n",
      "Epoch 4/5:  14%|█▍        | 4/28 [00:00<00:03,  6.96it/s, loss=tensor(0.3866)]\u001b[A\n",
      "Epoch 4/5:  14%|█▍        | 4/28 [00:00<00:03,  6.96it/s, loss=tensor(0.3797)]\u001b[A\n",
      "Epoch 4/5:  18%|█▊        | 5/28 [00:00<00:03,  6.56it/s, loss=tensor(0.3797)]\u001b[A\n",
      "Epoch 4/5:  18%|█▊        | 5/28 [00:00<00:03,  6.56it/s, loss=tensor(0.3973)]\u001b[A\n",
      "Epoch 4/5:  21%|██▏       | 6/28 [00:00<00:03,  6.74it/s, loss=tensor(0.3973)]\u001b[A\n",
      "Epoch 4/5:  21%|██▏       | 6/28 [00:01<00:03,  6.74it/s, loss=tensor(0.3880)]\u001b[A\n",
      "Epoch 4/5:  25%|██▌       | 7/28 [00:01<00:03,  6.77it/s, loss=tensor(0.3880)]\u001b[A\n",
      "Epoch 4/5:  25%|██▌       | 7/28 [00:01<00:03,  6.77it/s, loss=tensor(0.3511)]\u001b[A\n",
      "Epoch 4/5:  29%|██▊       | 8/28 [00:01<00:03,  6.55it/s, loss=tensor(0.3511)]\u001b[A\n",
      "Epoch 4/5:  29%|██▊       | 8/28 [00:01<00:03,  6.55it/s, loss=tensor(0.3918)]\u001b[A\n",
      "Epoch 4/5:  32%|███▏      | 9/28 [00:01<00:03,  6.12it/s, loss=tensor(0.3918)]\u001b[A\n",
      "Epoch 4/5:  32%|███▏      | 9/28 [00:01<00:03,  6.12it/s, loss=tensor(0.3814)]\u001b[A\n",
      "Epoch 4/5:  36%|███▌      | 10/28 [00:01<00:02,  6.20it/s, loss=tensor(0.3814)]\u001b[A\n",
      "Epoch 4/5:  36%|███▌      | 10/28 [00:01<00:02,  6.20it/s, loss=tensor(0.3637)]\u001b[A\n",
      "Epoch 4/5:  39%|███▉      | 11/28 [00:01<00:02,  6.21it/s, loss=tensor(0.3637)]\u001b[A\n",
      "Epoch 4/5:  39%|███▉      | 11/28 [00:01<00:02,  6.21it/s, loss=tensor(0.3660)]\u001b[A\n",
      "Epoch 4/5:  43%|████▎     | 12/28 [00:01<00:02,  6.38it/s, loss=tensor(0.3660)]\u001b[A\n",
      "Epoch 4/5:  43%|████▎     | 12/28 [00:02<00:02,  6.38it/s, loss=tensor(0.4095)]\u001b[A\n",
      "Epoch 4/5:  46%|████▋     | 13/28 [00:02<00:02,  6.34it/s, loss=tensor(0.4095)]\u001b[A\n",
      "Epoch 4/5:  46%|████▋     | 13/28 [00:02<00:02,  6.34it/s, loss=tensor(0.4239)]\u001b[A\n",
      "Epoch 4/5:  50%|█████     | 14/28 [00:02<00:02,  6.33it/s, loss=tensor(0.4239)]\u001b[A\n",
      "Epoch 4/5:  50%|█████     | 14/28 [00:02<00:02,  6.33it/s, loss=tensor(0.3722)]\u001b[A\n",
      "Epoch 4/5:  54%|█████▎    | 15/28 [00:02<00:02,  6.29it/s, loss=tensor(0.3722)]\u001b[A\n",
      "Epoch 4/5:  54%|█████▎    | 15/28 [00:02<00:02,  6.29it/s, loss=tensor(0.3805)]\u001b[A\n",
      "Epoch 4/5:  57%|█████▋    | 16/28 [00:02<00:01,  6.51it/s, loss=tensor(0.3805)]\u001b[A\n",
      "Epoch 4/5:  57%|█████▋    | 16/28 [00:02<00:01,  6.51it/s, loss=tensor(0.3751)]\u001b[A\n",
      "Epoch 4/5:  61%|██████    | 17/28 [00:02<00:01,  6.59it/s, loss=tensor(0.3751)]\u001b[A\n",
      "Epoch 4/5:  61%|██████    | 17/28 [00:02<00:01,  6.59it/s, loss=tensor(0.4147)]\u001b[A\n",
      "Epoch 4/5:  64%|██████▍   | 18/28 [00:02<00:01,  6.52it/s, loss=tensor(0.4147)]\u001b[A\n",
      "Epoch 4/5:  64%|██████▍   | 18/28 [00:02<00:01,  6.52it/s, loss=tensor(0.3929)]\u001b[A\n",
      "Epoch 4/5:  68%|██████▊   | 19/28 [00:02<00:01,  6.31it/s, loss=tensor(0.3929)]\u001b[A\n",
      "Epoch 4/5:  68%|██████▊   | 19/28 [00:03<00:01,  6.31it/s, loss=tensor(0.3566)]\u001b[A\n",
      "Epoch 4/5:  71%|███████▏  | 20/28 [00:03<00:01,  6.51it/s, loss=tensor(0.3566)]\u001b[A\n",
      "Epoch 4/5:  71%|███████▏  | 20/28 [00:03<00:01,  6.51it/s, loss=tensor(0.4229)]\u001b[A\n",
      "Epoch 4/5:  75%|███████▌  | 21/28 [00:03<00:01,  6.48it/s, loss=tensor(0.4229)]\u001b[A\n",
      "Epoch 4/5:  75%|███████▌  | 21/28 [00:03<00:01,  6.48it/s, loss=tensor(0.3676)]\u001b[A\n",
      "Epoch 4/5:  79%|███████▊  | 22/28 [00:03<00:00,  6.38it/s, loss=tensor(0.3676)]\u001b[A\n",
      "Epoch 4/5:  79%|███████▊  | 22/28 [00:03<00:00,  6.38it/s, loss=tensor(0.3576)]\u001b[A\n",
      "Epoch 4/5:  82%|████████▏ | 23/28 [00:03<00:00,  6.56it/s, loss=tensor(0.3576)]\u001b[A\n",
      "Epoch 4/5:  82%|████████▏ | 23/28 [00:03<00:00,  6.56it/s, loss=tensor(0.3384)]\u001b[A\n",
      "Epoch 4/5:  86%|████████▌ | 24/28 [00:03<00:00,  6.56it/s, loss=tensor(0.3384)]\u001b[A\n",
      "Epoch 4/5:  86%|████████▌ | 24/28 [00:03<00:00,  6.56it/s, loss=tensor(0.3968)]\u001b[A\n",
      "Epoch 4/5:  89%|████████▉ | 25/28 [00:03<00:00,  6.59it/s, loss=tensor(0.3968)]\u001b[A\n",
      "Epoch 4/5:  89%|████████▉ | 25/28 [00:03<00:00,  6.59it/s, loss=tensor(0.3913)]\u001b[A\n",
      "Epoch 4/5:  93%|█████████▎| 26/28 [00:03<00:00,  6.69it/s, loss=tensor(0.3913)]\u001b[A\n",
      "Epoch 4/5:  93%|█████████▎| 26/28 [00:04<00:00,  6.69it/s, loss=tensor(0.3628)]\u001b[A\n",
      "Epoch 4/5:  96%|█████████▋| 27/28 [00:04<00:00,  6.80it/s, loss=tensor(0.3628)]\u001b[A\n",
      "Epoch 4/5:  96%|█████████▋| 27/28 [00:04<00:00,  6.80it/s, loss=tensor(0.3644)]\u001b[A\n",
      "                                                                               \u001b[A\n",
      "  0%|          | 0/6 [00:00<?, ?it/s]\u001b[A\n",
      "valid:   0%|          | 0/6 [00:00<?, ?it/s]\u001b[A\n",
      "valid:   0%|          | 0/6 [00:00<?, ?it/s, loss=tensor(0.6148)]\u001b[A\n",
      "valid:  17%|█▋        | 1/6 [00:00<00:00,  7.29it/s, loss=tensor(0.6148)]\u001b[A"
     ]
    },
    {
     "name": "stdout",
     "output_type": "stream",
     "text": [
      "\u001b[92m2020-07-11 17:40:26\u001b[0m \u001b[95mMAC-ATI0414\u001b[0m \u001b[1m\u001b[90m[INFO]\u001b[0m \u001b[0;33m07/11/2020_17:40:26 -- Epoch: 4/5; Train; loss: 0.381; acc: 0.835; precision: 0.825, recall: 0.850, macrof1: 0.835, weightedf1: 0.835\u001b[0m\n"
     ]
    },
    {
     "name": "stderr",
     "output_type": "stream",
     "text": [
      "\n",
      "valid:  17%|█▋        | 1/6 [00:00<00:00,  7.29it/s, loss=tensor(0.6415)]\u001b[A\n",
      "valid:  33%|███▎      | 2/6 [00:00<00:00,  7.49it/s, loss=tensor(0.6415)]\u001b[A\n",
      "valid:  33%|███▎      | 2/6 [00:00<00:00,  7.49it/s, loss=tensor(0.6127)]\u001b[A\n",
      "valid:  50%|█████     | 3/6 [00:00<00:00,  7.39it/s, loss=tensor(0.6127)]\u001b[A\n",
      "valid:  50%|█████     | 3/6 [00:00<00:00,  7.39it/s, loss=tensor(0.6569)]\u001b[A\n",
      "valid:  67%|██████▋   | 4/6 [00:00<00:00,  7.45it/s, loss=tensor(0.6569)]\u001b[A\n",
      "valid:  67%|██████▋   | 4/6 [00:00<00:00,  7.45it/s, loss=tensor(0.5599)]\u001b[A\n",
      "valid:  83%|████████▎ | 5/6 [00:00<00:00,  7.59it/s, loss=tensor(0.5599)]\u001b[A\n",
      "valid:  83%|████████▎ | 5/6 [00:00<00:00,  7.59it/s, loss=tensor(0.6188)]\u001b[A\n",
      "valid: 100%|██████████| 6/6 [00:00<00:00,  7.87it/s, loss=tensor(0.6188)]\u001b[A\n",
      "                                                                         \u001b[A\n",
      "  0%|          | 0/28 [00:00<?, ?it/s]\u001b[A\n",
      "Epoch 5/5:   0%|          | 0/28 [00:00<?, ?it/s]\u001b[A\n",
      "Epoch 5/5:   0%|          | 0/28 [00:00<?, ?it/s, loss=tensor(0.3655)]\u001b[A\n",
      "Epoch 5/5:   4%|▎         | 1/28 [00:00<00:03,  7.39it/s, loss=tensor(0.3655)]\u001b[A"
     ]
    },
    {
     "name": "stdout",
     "output_type": "stream",
     "text": [
      "\u001b[92m2020-07-11 17:40:27\u001b[0m \u001b[95mMAC-ATI0414\u001b[0m \u001b[1m\u001b[90m[INFO]\u001b[0m \u001b[1;31m07/11/2020_17:40:27 -- Epoch: 4/5; Valid; loss: 0.617; acc: 0.709; precision: 0.705, recall: 0.720, macrof1: 0.709, weightedf1: 0.709\u001b[0m\n",
      "\u001b[92m2020-07-11 17:40:27\u001b[0m \u001b[95mMAC-ATI0414\u001b[0m \u001b[1m\u001b[90m[INFO]\u001b[0m \u001b[1;32msaving the model\u001b[0m\n"
     ]
    },
    {
     "name": "stderr",
     "output_type": "stream",
     "text": [
      "\n",
      "Epoch 5/5:   4%|▎         | 1/28 [00:00<00:03,  7.39it/s, loss=tensor(0.3510)]\u001b[A\n",
      "Epoch 5/5:   7%|▋         | 2/28 [00:00<00:03,  7.18it/s, loss=tensor(0.3510)]\u001b[A\n",
      "Epoch 5/5:   7%|▋         | 2/28 [00:00<00:03,  7.18it/s, loss=tensor(0.4015)]\u001b[A\n",
      "Epoch 5/5:  11%|█         | 3/28 [00:00<00:03,  7.22it/s, loss=tensor(0.4015)]\u001b[A\n",
      "Epoch 5/5:  11%|█         | 3/28 [00:00<00:03,  7.22it/s, loss=tensor(0.3486)]\u001b[A\n",
      "Epoch 5/5:  14%|█▍        | 4/28 [00:00<00:03,  6.92it/s, loss=tensor(0.3486)]\u001b[A\n",
      "Epoch 5/5:  14%|█▍        | 4/28 [00:00<00:03,  6.92it/s, loss=tensor(0.3061)]\u001b[A\n",
      "Epoch 5/5:  18%|█▊        | 5/28 [00:00<00:03,  6.78it/s, loss=tensor(0.3061)]\u001b[A\n",
      "Epoch 5/5:  18%|█▊        | 5/28 [00:00<00:03,  6.78it/s, loss=tensor(0.3789)]\u001b[A\n",
      "Epoch 5/5:  21%|██▏       | 6/28 [00:00<00:03,  7.01it/s, loss=tensor(0.3789)]\u001b[A\n",
      "Epoch 5/5:  21%|██▏       | 6/28 [00:01<00:03,  7.01it/s, loss=tensor(0.3523)]\u001b[A\n",
      "Epoch 5/5:  25%|██▌       | 7/28 [00:01<00:03,  6.99it/s, loss=tensor(0.3523)]\u001b[A\n",
      "Epoch 5/5:  25%|██▌       | 7/28 [00:01<00:03,  6.99it/s, loss=tensor(0.3542)]\u001b[A\n",
      "Epoch 5/5:  29%|██▊       | 8/28 [00:01<00:02,  6.81it/s, loss=tensor(0.3542)]\u001b[A\n",
      "Epoch 5/5:  29%|██▊       | 8/28 [00:01<00:02,  6.81it/s, loss=tensor(0.3988)]\u001b[A\n",
      "Epoch 5/5:  32%|███▏      | 9/28 [00:01<00:02,  6.88it/s, loss=tensor(0.3988)]\u001b[A\n",
      "Epoch 5/5:  32%|███▏      | 9/28 [00:01<00:02,  6.88it/s, loss=tensor(0.3976)]\u001b[A\n",
      "Epoch 5/5:  36%|███▌      | 10/28 [00:01<00:02,  6.86it/s, loss=tensor(0.3976)]\u001b[A\n",
      "Epoch 5/5:  36%|███▌      | 10/28 [00:01<00:02,  6.86it/s, loss=tensor(0.3830)]\u001b[A\n",
      "Epoch 5/5:  39%|███▉      | 11/28 [00:01<00:02,  6.79it/s, loss=tensor(0.3830)]\u001b[A\n",
      "Epoch 5/5:  39%|███▉      | 11/28 [00:01<00:02,  6.79it/s, loss=tensor(0.3227)]\u001b[A\n",
      "Epoch 5/5:  43%|████▎     | 12/28 [00:01<00:02,  6.58it/s, loss=tensor(0.3227)]\u001b[A\n",
      "Epoch 5/5:  43%|████▎     | 12/28 [00:01<00:02,  6.58it/s, loss=tensor(0.4083)]\u001b[A\n",
      "Epoch 5/5:  46%|████▋     | 13/28 [00:01<00:02,  6.31it/s, loss=tensor(0.4083)]\u001b[A\n",
      "Epoch 5/5:  46%|████▋     | 13/28 [00:02<00:02,  6.31it/s, loss=tensor(0.4150)]\u001b[A\n",
      "Epoch 5/5:  50%|█████     | 14/28 [00:02<00:02,  6.47it/s, loss=tensor(0.4150)]\u001b[A\n",
      "Epoch 5/5:  50%|█████     | 14/28 [00:02<00:02,  6.47it/s, loss=tensor(0.3963)]\u001b[A\n",
      "Epoch 5/5:  54%|█████▎    | 15/28 [00:02<00:02,  6.39it/s, loss=tensor(0.3963)]\u001b[A\n",
      "Epoch 5/5:  54%|█████▎    | 15/28 [00:02<00:02,  6.39it/s, loss=tensor(0.3546)]\u001b[A\n",
      "Epoch 5/5:  57%|█████▋    | 16/28 [00:02<00:01,  6.59it/s, loss=tensor(0.3546)]\u001b[A\n",
      "Epoch 5/5:  57%|█████▋    | 16/28 [00:02<00:01,  6.59it/s, loss=tensor(0.3723)]\u001b[A\n",
      "Epoch 5/5:  61%|██████    | 17/28 [00:02<00:01,  6.69it/s, loss=tensor(0.3723)]\u001b[A\n",
      "Epoch 5/5:  61%|██████    | 17/28 [00:02<00:01,  6.69it/s, loss=tensor(0.3666)]\u001b[A\n",
      "Epoch 5/5:  64%|██████▍   | 18/28 [00:02<00:01,  6.75it/s, loss=tensor(0.3666)]\u001b[A\n",
      "Epoch 5/5:  64%|██████▍   | 18/28 [00:02<00:01,  6.75it/s, loss=tensor(0.3715)]\u001b[A\n",
      "Epoch 5/5:  68%|██████▊   | 19/28 [00:02<00:01,  6.71it/s, loss=tensor(0.3715)]\u001b[A\n",
      "Epoch 5/5:  68%|██████▊   | 19/28 [00:02<00:01,  6.71it/s, loss=tensor(0.3600)]\u001b[A\n",
      "Epoch 5/5:  71%|███████▏  | 20/28 [00:02<00:01,  6.86it/s, loss=tensor(0.3600)]\u001b[A\n",
      "Epoch 5/5:  71%|███████▏  | 20/28 [00:03<00:01,  6.86it/s, loss=tensor(0.3561)]\u001b[A\n",
      "Epoch 5/5:  75%|███████▌  | 21/28 [00:03<00:01,  6.96it/s, loss=tensor(0.3561)]\u001b[A\n",
      "Epoch 5/5:  75%|███████▌  | 21/28 [00:03<00:01,  6.96it/s, loss=tensor(0.3640)]\u001b[A\n",
      "Epoch 5/5:  79%|███████▊  | 22/28 [00:03<00:00,  6.71it/s, loss=tensor(0.3640)]\u001b[A\n",
      "Epoch 5/5:  79%|███████▊  | 22/28 [00:03<00:00,  6.71it/s, loss=tensor(0.3919)]\u001b[A\n",
      "Epoch 5/5:  82%|████████▏ | 23/28 [00:03<00:00,  6.82it/s, loss=tensor(0.3919)]\u001b[A\n",
      "Epoch 5/5:  82%|████████▏ | 23/28 [00:03<00:00,  6.82it/s, loss=tensor(0.3692)]\u001b[A\n",
      "Epoch 5/5:  86%|████████▌ | 24/28 [00:03<00:00,  6.66it/s, loss=tensor(0.3692)]\u001b[A\n",
      "Epoch 5/5:  86%|████████▌ | 24/28 [00:03<00:00,  6.66it/s, loss=tensor(0.3191)]\u001b[A\n",
      "Epoch 5/5:  89%|████████▉ | 25/28 [00:03<00:00,  6.74it/s, loss=tensor(0.3191)]\u001b[A\n",
      "Epoch 5/5:  89%|████████▉ | 25/28 [00:03<00:00,  6.74it/s, loss=tensor(0.3687)]\u001b[A\n",
      "Epoch 5/5:  93%|█████████▎| 26/28 [00:03<00:00,  6.65it/s, loss=tensor(0.3687)]\u001b[A\n",
      "Epoch 5/5:  93%|█████████▎| 26/28 [00:04<00:00,  6.65it/s, loss=tensor(0.3571)]\u001b[A\n",
      "Epoch 5/5:  96%|█████████▋| 27/28 [00:04<00:00,  6.74it/s, loss=tensor(0.3571)]\u001b[A\n",
      "Epoch 5/5:  96%|█████████▋| 27/28 [00:04<00:00,  6.74it/s, loss=tensor(0.4320)]\u001b[A\n",
      "                                                                               \u001b[A\n",
      "  0%|          | 0/6 [00:00<?, ?it/s]\u001b[A\n",
      "valid:   0%|          | 0/6 [00:00<?, ?it/s]\u001b[A\n",
      "valid:   0%|          | 0/6 [00:00<?, ?it/s, loss=tensor(0.6183)]\u001b[A\n",
      "valid:  17%|█▋        | 1/6 [00:00<00:00,  6.70it/s, loss=tensor(0.6183)]\u001b[A"
     ]
    },
    {
     "name": "stdout",
     "output_type": "stream",
     "text": [
      "\u001b[92m2020-07-11 17:40:31\u001b[0m \u001b[95mMAC-ATI0414\u001b[0m \u001b[1m\u001b[90m[INFO]\u001b[0m \u001b[0;33m07/11/2020_17:40:31 -- Epoch: 5/5; Train; loss: 0.370; acc: 0.843; precision: 0.833, recall: 0.857, macrof1: 0.843, weightedf1: 0.843\u001b[0m\n"
     ]
    },
    {
     "name": "stderr",
     "output_type": "stream",
     "text": [
      "\n",
      "valid:  17%|█▋        | 1/6 [00:00<00:00,  6.70it/s, loss=tensor(0.5414)]\u001b[A\n",
      "valid:  33%|███▎      | 2/6 [00:00<00:00,  6.94it/s, loss=tensor(0.5414)]\u001b[A\n",
      "valid:  33%|███▎      | 2/6 [00:00<00:00,  6.94it/s, loss=tensor(0.6448)]\u001b[A\n",
      "valid:  50%|█████     | 3/6 [00:00<00:00,  7.20it/s, loss=tensor(0.6448)]\u001b[A\n",
      "valid:  50%|█████     | 3/6 [00:00<00:00,  7.20it/s, loss=tensor(0.6470)]\u001b[A\n",
      "valid:  67%|██████▋   | 4/6 [00:00<00:00,  7.41it/s, loss=tensor(0.6470)]\u001b[A\n",
      "valid:  67%|██████▋   | 4/6 [00:00<00:00,  7.41it/s, loss=tensor(0.6819)]\u001b[A\n",
      "valid:  83%|████████▎ | 5/6 [00:00<00:00,  7.40it/s, loss=tensor(0.6819)]\u001b[A\n",
      "valid:  83%|████████▎ | 5/6 [00:00<00:00,  7.40it/s, loss=tensor(0.6620)]\u001b[A\n",
      "valid: 100%|██████████| 6/6 [00:00<00:00,  7.68it/s, loss=tensor(0.6620)]\u001b[A\n",
      "                                                                         \u001b[A"
     ]
    },
    {
     "name": "stdout",
     "output_type": "stream",
     "text": [
      "\u001b[92m2020-07-11 17:40:32\u001b[0m \u001b[95mMAC-ATI0414\u001b[0m \u001b[1m\u001b[90m[INFO]\u001b[0m \u001b[1;31m07/11/2020_17:40:32 -- Epoch: 5/5; Valid; loss: 0.633; acc: 0.716; precision: 0.728, recall: 0.692, macrof1: 0.716, weightedf1: 0.716\u001b[0m\n",
      "\u001b[92m2020-07-11 17:40:32\u001b[0m \u001b[95mMAC-ATI0414\u001b[0m \u001b[1m\u001b[90m[INFO]\u001b[0m \u001b[1;32msaving the model\u001b[0m\n",
      "\n",
      "\u001b[92m2020-07-11 17:40:32\u001b[0m \u001b[95mMAC-ATI0414\u001b[0m \u001b[1m\u001b[90m[INFO]\u001b[0m \u001b[1;32msaving the model\u001b[0m\n",
      "\n",
      "\n",
      "\n",
      "====================\n",
      "User time: 25.3501\n",
      "====================\n"
     ]
    }
   ],
   "source": [
    "from DeezyMatch import finetune as dm_finetune\n",
    "\n",
    "# fine-tune a pretrained model\n",
    "dm_finetune(input_file_path=\"../inputs/input_dfm_notebook_001.yaml\", \n",
    "            dataset_path=\"../dataset/dataset-string-similarity_test.txt\", \n",
    "            model_name=\"finetuned_test001\",\n",
    "            pretrained_model_path=\"./models/test001/test001.model\", \n",
    "            pretrained_vocab_path=\"./models/test001/test001.vocab\")"
   ]
  },
  {
   "cell_type": "markdown",
   "metadata": {},
   "source": [
    "## Model inference"
   ]
  },
  {
   "cell_type": "code",
   "execution_count": 3,
   "metadata": {},
   "outputs": [
    {
     "name": "stdout",
     "output_type": "stream",
     "text": [
      "\u001b[92m2020-07-11 17:40:32\u001b[0m \u001b[95mMAC-ATI0414\u001b[0m \u001b[1m\u001b[90m[INFO]\u001b[0m \u001b[2;32mread input file: ../inputs/input_dfm_notebook_001.yaml\u001b[0m\n",
      "\u001b[92m2020-07-11 17:40:32\u001b[0m \u001b[95mMAC-ATI0414\u001b[0m \u001b[1m\u001b[90m[INFO]\u001b[0m \u001b[1;31mGPU was requested but not available.\u001b[0m\n",
      "\u001b[92m2020-07-11 17:40:32\u001b[0m \u001b[95mMAC-ATI0414\u001b[0m \u001b[1m\u001b[90m[INFO]\u001b[0m \u001b[1;32mpytorch will use: cpu\u001b[0m\n",
      "\u001b[92m2020-07-11 17:40:32\u001b[0m \u001b[95mMAC-ATI0414\u001b[0m \u001b[1m\u001b[90m[INFO]\u001b[0m \u001b[2;32mread CSV file: ../dataset/dataset-string-similarity_test.txt\u001b[0m\n",
      "\u001b[92m2020-07-11 17:40:32\u001b[0m \u001b[95mMAC-ATI0414\u001b[0m \u001b[1m\u001b[90m[INFO]\u001b[0m \u001b[1;32mnumber of labels, True: 4998 and False: 4997\u001b[0m\n"
     ]
    },
    {
     "name": "stderr",
     "output_type": "stream",
     "text": [
      "s1 padding:   0%|          | 0/9995 [00:00<?, ?it/s]"
     ]
    },
    {
     "name": "stdout",
     "output_type": "stream",
     "text": [
      "\u001b[92m2020-07-11 17:40:32\u001b[0m \u001b[95mMAC-ATI0414\u001b[0m \u001b[1m\u001b[90m[INFO]\u001b[0m \u001b[2;32mskipping 0 lines\u001b[0m\n"
     ]
    },
    {
     "name": "stderr",
     "output_type": "stream",
     "text": [
      "                                                     \r"
     ]
    },
    {
     "name": "stdout",
     "output_type": "stream",
     "text": [
      "\u001b[92m2020-07-11 17:40:38\u001b[0m \u001b[95mMAC-ATI0414\u001b[0m \u001b[1m\u001b[90m[INFO]\u001b[0m \u001b[1;31m07/11/2020_17:40:38 -- test; loss: 0.441; acc: 0.812; precision: 0.822, recall: 0.797, macrof1: 0.812, weightedf1: 0.812\u001b[0m\n",
      "--- 5.817130088806152 seconds ---\n"
     ]
    }
   ],
   "source": [
    "from DeezyMatch import inference as dm_inference\n",
    "\n",
    "# model inference\n",
    "dm_inference(input_file_path=\"../inputs/input_dfm_notebook_001.yaml\",\n",
    "             dataset_path=\"../dataset/dataset-string-similarity_test.txt\", \n",
    "             pretrained_model_path=\"./models/finetuned_test001/finetuned_test001.model\", \n",
    "             pretrained_vocab_path=\"./models/finetuned_test001/finetuned_test001.vocab\")"
   ]
  },
  {
   "cell_type": "markdown",
   "metadata": {},
   "source": [
    "## Generate query vectors"
   ]
  },
  {
   "cell_type": "code",
   "execution_count": 4,
   "metadata": {},
   "outputs": [
    {
     "name": "stdout",
     "output_type": "stream",
     "text": [
      "\u001b[92m2020-07-11 17:40:38\u001b[0m \u001b[95mMAC-ATI0414\u001b[0m \u001b[1m\u001b[90m[INFO]\u001b[0m \u001b[2;32mread input file: ../inputs/input_dfm_notebook_001.yaml\u001b[0m\n",
      "\u001b[92m2020-07-11 17:40:38\u001b[0m \u001b[95mMAC-ATI0414\u001b[0m \u001b[1m\u001b[90m[INFO]\u001b[0m \u001b[1;31mGPU was requested but not available.\u001b[0m\n",
      "\u001b[92m2020-07-11 17:40:38\u001b[0m \u001b[95mMAC-ATI0414\u001b[0m \u001b[1m\u001b[90m[INFO]\u001b[0m \u001b[1;32mpytorch will use: cpu\u001b[0m\n",
      "\u001b[92m2020-07-11 17:40:38\u001b[0m \u001b[95mMAC-ATI0414\u001b[0m \u001b[1m\u001b[90m[INFO]\u001b[0m \u001b[2;32mread CSV file: ../dataset/dataset-string-similarity_test.txt\u001b[0m\n",
      "\u001b[92m2020-07-11 17:40:38\u001b[0m \u001b[95mMAC-ATI0414\u001b[0m \u001b[1m\u001b[90m[INFO]\u001b[0m \u001b[1;32mnumber of labels, True: 4998 and False: 4997\u001b[0m\n",
      "\u001b[92m2020-07-11 17:40:38\u001b[0m \u001b[95mMAC-ATI0414\u001b[0m \u001b[1m\u001b[90m[INFO]\u001b[0m \u001b[2;32mskipping 0 lines\u001b[0m\n"
     ]
    },
    {
     "name": "stderr",
     "output_type": "stream",
     "text": [
      "                                                    "
     ]
    },
    {
     "name": "stdout",
     "output_type": "stream",
     "text": [
      "\u001b[92m2020-07-11 17:40:38\u001b[0m \u001b[95mMAC-ATI0414\u001b[0m \u001b[1m\u001b[90m[INFO]\u001b[0m \u001b[2;32msave test-data-class: /Users/khosseini/myJobs/ATI/Projects/2019/DeezyMatch/examples/queries/test/queries.df\u001b[0m\n"
     ]
    },
    {
     "name": "stderr",
     "output_type": "stream",
     "text": [
      "                                                     "
     ]
    },
    {
     "name": "stdout",
     "output_type": "stream",
     "text": [
      "--- 3.960181951522827 seconds ---\n"
     ]
    },
    {
     "name": "stderr",
     "output_type": "stream",
     "text": [
      "\r"
     ]
    }
   ],
   "source": [
    "from DeezyMatch import inference as dm_inference\n",
    "\n",
    "# generate vectors for queries and candidates\n",
    "dm_inference(input_file_path=\"../inputs/input_dfm_notebook_001.yaml\",\n",
    "             dataset_path=\"../dataset/dataset-string-similarity_test.txt\", \n",
    "             pretrained_model_path=\"./models/finetuned_test001/finetuned_test001.model\", \n",
    "             pretrained_vocab_path=\"./models/finetuned_test001/finetuned_test001.vocab\",\n",
    "             inference_mode=\"vect\",\n",
    "             query_candidate_mode=\"q\",\n",
    "             scenario=\"test\")"
   ]
  },
  {
   "cell_type": "markdown",
   "metadata": {},
   "source": [
    "## Generate candidate vectors"
   ]
  },
  {
   "cell_type": "code",
   "execution_count": 5,
   "metadata": {},
   "outputs": [
    {
     "name": "stdout",
     "output_type": "stream",
     "text": [
      "\u001b[92m2020-07-11 17:40:42\u001b[0m \u001b[95mMAC-ATI0414\u001b[0m \u001b[1m\u001b[90m[INFO]\u001b[0m \u001b[2;32mread input file: ../inputs/input_dfm_notebook_001.yaml\u001b[0m\n",
      "\u001b[92m2020-07-11 17:40:42\u001b[0m \u001b[95mMAC-ATI0414\u001b[0m \u001b[1m\u001b[90m[INFO]\u001b[0m \u001b[1;31mGPU was requested but not available.\u001b[0m\n",
      "\u001b[92m2020-07-11 17:40:42\u001b[0m \u001b[95mMAC-ATI0414\u001b[0m \u001b[1m\u001b[90m[INFO]\u001b[0m \u001b[1;32mpytorch will use: cpu\u001b[0m\n",
      "\u001b[92m2020-07-11 17:40:42\u001b[0m \u001b[95mMAC-ATI0414\u001b[0m \u001b[1m\u001b[90m[INFO]\u001b[0m \u001b[2;32mread CSV file: ../dataset/dataset-string-similarity_test.txt\u001b[0m\n",
      "\u001b[92m2020-07-11 17:40:42\u001b[0m \u001b[95mMAC-ATI0414\u001b[0m \u001b[1m\u001b[90m[INFO]\u001b[0m \u001b[1;32mnumber of labels, True: 4998 and False: 4997\u001b[0m\n"
     ]
    },
    {
     "name": "stderr",
     "output_type": "stream",
     "text": [
      "                                                    "
     ]
    },
    {
     "name": "stdout",
     "output_type": "stream",
     "text": [
      "\u001b[92m2020-07-11 17:40:42\u001b[0m \u001b[95mMAC-ATI0414\u001b[0m \u001b[1m\u001b[90m[INFO]\u001b[0m \u001b[2;32mskipping 0 lines\u001b[0m\n",
      "\u001b[92m2020-07-11 17:40:42\u001b[0m \u001b[95mMAC-ATI0414\u001b[0m \u001b[1m\u001b[90m[INFO]\u001b[0m \u001b[2;32msave test-data-class: /Users/khosseini/myJobs/ATI/Projects/2019/DeezyMatch/examples/candidates/test/candidates.df\u001b[0m\n"
     ]
    },
    {
     "name": "stderr",
     "output_type": "stream",
     "text": [
      "                                                     "
     ]
    },
    {
     "name": "stdout",
     "output_type": "stream",
     "text": [
      "--- 3.7040398120880127 seconds ---\n"
     ]
    },
    {
     "name": "stderr",
     "output_type": "stream",
     "text": [
      "\r"
     ]
    }
   ],
   "source": [
    "from DeezyMatch import inference as dm_inference\n",
    "\n",
    "# generate vectors for queries and candidates\n",
    "# Note the only difference compared to the previous command is query_candidate_mode=\"c\"\n",
    "dm_inference(input_file_path=\"../inputs/input_dfm_notebook_001.yaml\",\n",
    "             dataset_path=\"../dataset/dataset-string-similarity_test.txt\", \n",
    "             pretrained_model_path=\"./models/finetuned_test001/finetuned_test001.model\", \n",
    "             pretrained_vocab_path=\"./models/finetuned_test001/finetuned_test001.vocab\",\n",
    "             inference_mode=\"vect\",\n",
    "             query_candidate_mode=\"c\",\n",
    "             scenario=\"test\")"
   ]
  },
  {
   "cell_type": "markdown",
   "metadata": {},
   "source": [
    "## Combine vector representations"
   ]
  },
  {
   "cell_type": "code",
   "execution_count": 6,
   "metadata": {
    "scrolled": true
   },
   "outputs": [
    {
     "name": "stdout",
     "output_type": "stream",
     "text": [
      "\u001b[92m2020-07-11 17:40:46\u001b[0m \u001b[95mMAC-ATI0414\u001b[0m \u001b[1m\u001b[90m[INFO]\u001b[0m \u001b[2;32mread input file: queries/test/input_dfm_notebook_001.yaml\u001b[0m\n",
      "\u001b[92m2020-07-11 17:40:46\u001b[0m \u001b[95mMAC-ATI0414\u001b[0m \u001b[1m\u001b[90m[INFO]\u001b[0m \u001b[1;31mGPU was requested but not available.\u001b[0m\n",
      "\u001b[92m2020-07-11 17:40:46\u001b[0m \u001b[95mMAC-ATI0414\u001b[0m \u001b[1m\u001b[90m[INFO]\u001b[0m \u001b[1;32mpytorch will use: cpu\u001b[0m\n",
      "\n",
      "\n",
      "-- Combine vectors\n",
      "Reading vectors from queries/test/embed_queries/rnn_fwd*\n",
      "0000000 queries/test/embed_queries/rnn_fwd_0\n",
      "0000010 queries/test/embed_queries/rnn_fwd_10\n",
      "0000020 queries/test/embed_queries/rnn_fwd_20\n",
      "0000030 queries/test/embed_queries/rnn_fwd_30\n",
      "\n",
      "\n",
      "-- Combine IDs\n",
      "0000000 queries/test/embed_queries/rnn_indxs_0\n",
      "0000010 queries/test/embed_queries/rnn_indxs_10\n",
      "0000020 queries/test/embed_queries/rnn_indxs_20\n",
      "0000030 queries/test/embed_queries/rnn_indxs_30\n",
      "\n",
      "\u001b[92m2020-07-11 17:40:46\u001b[0m \u001b[95mMAC-ATI0414\u001b[0m \u001b[1m\u001b[90m[INFO]\u001b[0m \u001b[2;32mread input file: queries/test/input_dfm_notebook_001.yaml\u001b[0m\n",
      "\u001b[92m2020-07-11 17:40:46\u001b[0m \u001b[95mMAC-ATI0414\u001b[0m \u001b[1m\u001b[90m[INFO]\u001b[0m \u001b[1;31mGPU was requested but not available.\u001b[0m\n",
      "\u001b[92m2020-07-11 17:40:46\u001b[0m \u001b[95mMAC-ATI0414\u001b[0m \u001b[1m\u001b[90m[INFO]\u001b[0m \u001b[1;32mpytorch will use: cpu\u001b[0m\n",
      "\n",
      "\n",
      "-- Combine vectors\n",
      "Reading vectors from queries/test/embed_queries/rnn_bwd*\n",
      "0000000 queries/test/embed_queries/rnn_bwd_0\n",
      "0000010 queries/test/embed_queries/rnn_bwd_10\n",
      "0000020 queries/test/embed_queries/rnn_bwd_20\n",
      "0000030 queries/test/embed_queries/rnn_bwd_30\n",
      "\n",
      "\n",
      "-- Combine IDs\n",
      "0000000 queries/test/embed_queries/rnn_indxs_0\n",
      "0000010 queries/test/embed_queries/rnn_indxs_10\n",
      "0000020 queries/test/embed_queries/rnn_indxs_20\n",
      "0000030 queries/test/embed_queries/rnn_indxs_30\n",
      "\n",
      "\u001b[92m2020-07-11 17:40:46\u001b[0m \u001b[95mMAC-ATI0414\u001b[0m \u001b[1m\u001b[90m[INFO]\u001b[0m \u001b[2;32mread input file: queries/test/input_dfm_notebook_001.yaml\u001b[0m\n",
      "\u001b[92m2020-07-11 17:40:46\u001b[0m \u001b[95mMAC-ATI0414\u001b[0m \u001b[1m\u001b[90m[INFO]\u001b[0m \u001b[1;31mGPU was requested but not available.\u001b[0m\n",
      "\u001b[92m2020-07-11 17:40:46\u001b[0m \u001b[95mMAC-ATI0414\u001b[0m \u001b[1m\u001b[90m[INFO]\u001b[0m \u001b[1;32mpytorch will use: cpu\u001b[0m\n",
      "\n",
      "\n",
      "-- Combine vectors\n",
      "Reading vectors from candidates/test/embed_candidates/rnn_fwd*\n",
      "0000000 candidates/test/embed_candidates/rnn_fwd_0\n",
      "0000010 candidates/test/embed_candidates/rnn_fwd_10\n",
      "0000020 candidates/test/embed_candidates/rnn_fwd_20\n",
      "0000030 candidates/test/embed_candidates/rnn_fwd_30\n",
      "\n",
      "\n",
      "-- Combine IDs\n",
      "0000000 candidates/test/embed_candidates/rnn_indxs_0\n",
      "0000010 candidates/test/embed_candidates/rnn_indxs_10\n",
      "0000020 candidates/test/embed_candidates/rnn_indxs_20\n",
      "0000030 candidates/test/embed_candidates/rnn_indxs_30\n",
      "\n",
      "\u001b[92m2020-07-11 17:40:46\u001b[0m \u001b[95mMAC-ATI0414\u001b[0m \u001b[1m\u001b[90m[INFO]\u001b[0m \u001b[2;32mread input file: queries/test/input_dfm_notebook_001.yaml\u001b[0m\n",
      "\u001b[92m2020-07-11 17:40:46\u001b[0m \u001b[95mMAC-ATI0414\u001b[0m \u001b[1m\u001b[90m[INFO]\u001b[0m \u001b[1;31mGPU was requested but not available.\u001b[0m\n",
      "\u001b[92m2020-07-11 17:40:46\u001b[0m \u001b[95mMAC-ATI0414\u001b[0m \u001b[1m\u001b[90m[INFO]\u001b[0m \u001b[1;32mpytorch will use: cpu\u001b[0m\n",
      "\n",
      "\n",
      "-- Combine vectors\n",
      "Reading vectors from candidates/test/embed_candidates/rnn_bwd*\n",
      "0000000 candidates/test/embed_candidates/rnn_bwd_0\n",
      "0000010 candidates/test/embed_candidates/rnn_bwd_10\n",
      "0000020 candidates/test/embed_candidates/rnn_bwd_20\n",
      "0000030 candidates/test/embed_candidates/rnn_bwd_30\n",
      "\n",
      "\n",
      "-- Combine IDs\n",
      "0000000 candidates/test/embed_candidates/rnn_indxs_0\n",
      "0000010 candidates/test/embed_candidates/rnn_indxs_10\n",
      "0000020 candidates/test/embed_candidates/rnn_indxs_20\n",
      "0000030 candidates/test/embed_candidates/rnn_indxs_30\n",
      "\n",
      "--- 134.08913207054138 seconds ---\n"
     ]
    }
   ],
   "source": [
    "from DeezyMatch import combine_vecs\n",
    "\n",
    "# combine vectors\n",
    "combine_vecs(qc_modes=['q', 'c'], \n",
    "             rnn_passes=['fwd', 'bwd'], \n",
    "             input_scenario='test', \n",
    "             output_scenario='test', \n",
    "             print_every=10)"
   ]
  },
  {
   "cell_type": "markdown",
   "metadata": {},
   "source": [
    "## CandidateRanker"
   ]
  },
  {
   "cell_type": "code",
   "execution_count": 7,
   "metadata": {
    "scrolled": true
   },
   "outputs": [
    {
     "name": "stderr",
     "output_type": "stream",
     "text": [
      "s2 padding:   0%|          | 0/4 [00:00<?, ?it/s]"
     ]
    },
    {
     "name": "stdout",
     "output_type": "stream",
     "text": [
      "\u001b[92m2020-07-11 17:40:47\u001b[0m \u001b[95mMAC-ATI0414\u001b[0m \u001b[1m\u001b[90m[INFO]\u001b[0m \u001b[2;32mread input file: ./combined/test/input_dfm_notebook_001.yaml\u001b[0m\n",
      "\u001b[92m2020-07-11 17:40:47\u001b[0m \u001b[95mMAC-ATI0414\u001b[0m \u001b[1m\u001b[90m[INFO]\u001b[0m \u001b[1;31mGPU was requested but not available.\u001b[0m\n",
      "\u001b[92m2020-07-11 17:40:47\u001b[0m \u001b[95mMAC-ATI0414\u001b[0m \u001b[1m\u001b[90m[INFO]\u001b[0m \u001b[1;32mpytorch will use: cpu\u001b[0m\n",
      "Is faiss_id_candis already trained? True\n",
      "=========== Start the search for 0 la dom nxy\n",
      "ID: 0/9995 -- Number of found candidates so far: 1, search span: 0, 4\n",
      "=========== Start the search for 1 krutoy\n"
     ]
    },
    {
     "name": "stderr",
     "output_type": "stream",
     "text": [
      "                                                 \r"
     ]
    },
    {
     "name": "stdout",
     "output_type": "stream",
     "text": [
      "ID: 1/9995 -- Number of found candidates so far: 1, search span: 0, 4\n",
      "=========== Start the search for 2 sharunyata\n",
      "ID: 2/9995 -- Number of found candidates so far: 1, search span: 0, 4\n",
      "=========== Start the search for 3 sutangcun\n",
      "ID: 3/9995 -- Number of found candidates so far: 1, search span: 0, 4\n",
      "=========== Start the search for 4 jowkār-e shafī‘\n",
      "ID: 4/9995 -- Number of found candidates so far: 1, search span: 0, 4\n"
     ]
    },
    {
     "name": "stderr",
     "output_type": "stream",
     "text": [
      "                                                 "
     ]
    },
    {
     "name": "stdout",
     "output_type": "stream",
     "text": [
      "=========== Start the search for 5 rongreiyn ban hwy h wk cxmthxng\n",
      "ID: 5/9995 -- Number of found candidates so far: 2, search span: 0, 4\n",
      "=========== Start the search for 6 同心村\n",
      "ID: 6/9995 -- Number of found candidates so far: 1, search span: 0, 4\n",
      "=========== Start the search for 7 engeskjæran\n",
      "ID: 7/9995 -- Number of found candidates so far: 1, search span: 0, 4\n",
      "=========== Start the search for 8 "
     ]
    },
    {
     "name": "stderr",
     "output_type": "stream",
     "text": [
      "                                                 \r"
     ]
    },
    {
     "name": "stdout",
     "output_type": "stream",
     "text": [
      "izumo-zaki\n",
      "ID: 8/9995 -- Number of found candidates so far: 1, search span: 0, 4\n",
      "=========== Start the search for 9 داشت پنجشیر\n",
      "ID: 9/9995 -- Number of found candidates so far: 1, search span: 0, 4\n",
      "=========== Start the search for 10 qermez khalifeh-ye `olya\n",
      "ID: 10/9995 -- Number of found candidates so far: 1, search span: 0, 4\n",
      "=========== Start the search for 11 კირენია\n"
     ]
    },
    {
     "name": "stderr",
     "output_type": "stream",
     "text": [
      "length s2:   0%|          | 0/4 [00:00<?, ?it/s] "
     ]
    },
    {
     "name": "stdout",
     "output_type": "stream",
     "text": [
      "ID: 11/9995 -- Number of found candidates so far: 1, search span: 0, 4\n",
      "=========== Start the search for 12 ozero pogoreloe\n",
      "ID: 12/9995 -- Number of found candidates so far: 1, search span: 0, 4\n",
      "=========== Start the search for 13 anfijld\n",
      "ID: 13/9995 -- Number of found candidates so far: 1, search span: 0, 4\n",
      "=========== Start the search for 14 qanât el-manzala\n",
      "ID: 14/9995 -- Number of found candidates so far: 1, search span: 0, 4\n",
      "=========== Start the search for 15 starnay\n"
     ]
    },
    {
     "name": "stderr",
     "output_type": "stream",
     "text": [
      "                                                 \r"
     ]
    },
    {
     "name": "stdout",
     "output_type": "stream",
     "text": [
      "ID: 15/9995 -- Number of found candidates so far: 1, search span: 0, 4\n",
      "=========== Start the search for 16 bandar-e hūnī\n",
      "ID: 16/9995 -- Number of found candidates so far: 1, search span: 0, 4\n",
      "=========== Start the search for 17 sinbotin\n",
      "ID: 17/9995 -- Number of found candidates so far: 1, search span: 0, 4\n",
      "=========== Start the search for 18 yŏhangmyŏn-samuso\n",
      "ID: 18/9995 -- Number of found candidates so far: 1, search span: 0, 4\n",
      "=========== Start the search for 19 mājra\n"
     ]
    },
    {
     "name": "stderr",
     "output_type": "stream",
     "text": [
      "                                                 \r"
     ]
    },
    {
     "name": "stdout",
     "output_type": "stream",
     "text": [
      "ID: 19/9995 -- Number of found candidates so far: 1, search span: 0, 4\n",
      "TOTAL TIME: 1.3930339813232422\n"
     ]
    }
   ],
   "source": [
    "from DeezyMatch import candidate_ranker\n",
    "\n",
    "# Find candidates\n",
    "candidates_pd = \\\n",
    "    candidate_ranker(scenario=\"./combined/test/\", \n",
    "                     ranking_metric=\"faiss\", \n",
    "                     selection_threshold=0.51, \n",
    "                     num_candidates=1, \n",
    "                     search_size=4, \n",
    "                     output_filename=\"test_candidates_deezymatch\", \n",
    "                     pretrained_model_path=\"./models/finetuned_test001/finetuned_test001.model\", \n",
    "                     pretrained_vocab_path=\"./models/finetuned_test001/finetuned_test001.vocab\", \n",
    "                     number_test_rows=20)"
   ]
  },
  {
   "cell_type": "code",
   "execution_count": 8,
   "metadata": {},
   "outputs": [
    {
     "data": {
      "text/html": [
       "<div>\n",
       "<style scoped>\n",
       "    .dataframe tbody tr th:only-of-type {\n",
       "        vertical-align: middle;\n",
       "    }\n",
       "\n",
       "    .dataframe tbody tr th {\n",
       "        vertical-align: top;\n",
       "    }\n",
       "\n",
       "    .dataframe thead th {\n",
       "        text-align: right;\n",
       "    }\n",
       "</style>\n",
       "<table border=\"1\" class=\"dataframe\">\n",
       "  <thead>\n",
       "    <tr style=\"text-align: right;\">\n",
       "      <th></th>\n",
       "      <th>query</th>\n",
       "      <th>pred_score</th>\n",
       "      <th>faiss_distance</th>\n",
       "      <th>cosine_sim</th>\n",
       "      <th>candidate_original_ids</th>\n",
       "      <th>query_original_id</th>\n",
       "      <th>num_all_searches</th>\n",
       "    </tr>\n",
       "    <tr>\n",
       "      <th>id</th>\n",
       "      <th></th>\n",
       "      <th></th>\n",
       "      <th></th>\n",
       "      <th></th>\n",
       "      <th></th>\n",
       "      <th></th>\n",
       "      <th></th>\n",
       "    </tr>\n",
       "  </thead>\n",
       "  <tbody>\n",
       "    <tr>\n",
       "      <th>0</th>\n",
       "      <td>la dom nxy</td>\n",
       "      <td>{'la dom nxy': 0.762}</td>\n",
       "      <td>{'la dom nxy': 0.0}</td>\n",
       "      <td>{'la dom nxy': 1.0}</td>\n",
       "      <td>{'la dom nxy': 0}</td>\n",
       "      <td>0</td>\n",
       "      <td>4</td>\n",
       "    </tr>\n",
       "    <tr>\n",
       "      <th>1</th>\n",
       "      <td>krutoy</td>\n",
       "      <td>{'krutoy': 0.8526}</td>\n",
       "      <td>{'krutoy': 0.0}</td>\n",
       "      <td>{'krutoy': 1.0}</td>\n",
       "      <td>{'krutoy': 1}</td>\n",
       "      <td>1</td>\n",
       "      <td>4</td>\n",
       "    </tr>\n",
       "    <tr>\n",
       "      <th>2</th>\n",
       "      <td>sharunyata</td>\n",
       "      <td>{'sharunyata': 0.8205}</td>\n",
       "      <td>{'sharunyata': 0.0}</td>\n",
       "      <td>{'sharunyata': 1.0}</td>\n",
       "      <td>{'sharunyata': 2}</td>\n",
       "      <td>2</td>\n",
       "      <td>4</td>\n",
       "    </tr>\n",
       "    <tr>\n",
       "      <th>3</th>\n",
       "      <td>sutangcun</td>\n",
       "      <td>{'sutangcun': 0.7418}</td>\n",
       "      <td>{'sutangcun': 0.0}</td>\n",
       "      <td>{'sutangcun': 1.0}</td>\n",
       "      <td>{'sutangcun': 3}</td>\n",
       "      <td>3</td>\n",
       "      <td>4</td>\n",
       "    </tr>\n",
       "    <tr>\n",
       "      <th>4</th>\n",
       "      <td>jowkār-e shafī‘</td>\n",
       "      <td>{'jowkār-e shafī‘': 0.7983}</td>\n",
       "      <td>{'jowkār-e shafī‘': 0.0}</td>\n",
       "      <td>{'jowkār-e shafī‘': 1.0}</td>\n",
       "      <td>{'jowkār-e shafī‘': 4}</td>\n",
       "      <td>4</td>\n",
       "      <td>4</td>\n",
       "    </tr>\n",
       "    <tr>\n",
       "      <th>5</th>\n",
       "      <td>rongreiyn ban hwy h wk cxmthxng</td>\n",
       "      <td>{'rongreiyn ban hwy h wk cxmthxng': 0.7339}</td>\n",
       "      <td>{'rongreiyn ban hwy h wk cxmthxng': 0.0}</td>\n",
       "      <td>{'rongreiyn ban hwy h wk cxmthxng': 1.0}</td>\n",
       "      <td>{'rongreiyn ban hwy h wk cxmthxng': 5}</td>\n",
       "      <td>5</td>\n",
       "      <td>4</td>\n",
       "    </tr>\n",
       "    <tr>\n",
       "      <th>6</th>\n",
       "      <td>同心村</td>\n",
       "      <td>{'同心村': 0.2594}</td>\n",
       "      <td>{'同心村': 0.0}</td>\n",
       "      <td>{'同心村': 1.0}</td>\n",
       "      <td>{'同心村': 6}</td>\n",
       "      <td>6</td>\n",
       "      <td>4</td>\n",
       "    </tr>\n",
       "    <tr>\n",
       "      <th>7</th>\n",
       "      <td>engeskjæran</td>\n",
       "      <td>{'engeskjæran': 0.9486}</td>\n",
       "      <td>{'engeskjæran': 0.0}</td>\n",
       "      <td>{'engeskjæran': 1.0}</td>\n",
       "      <td>{'engeskjæran': 7}</td>\n",
       "      <td>7</td>\n",
       "      <td>4</td>\n",
       "    </tr>\n",
       "    <tr>\n",
       "      <th>8</th>\n",
       "      <td>izumo-zaki</td>\n",
       "      <td>{'izumo-zaki': 0.96}</td>\n",
       "      <td>{'izumo-zaki': 0.0}</td>\n",
       "      <td>{'izumo-zaki': 1.0}</td>\n",
       "      <td>{'izumo-zaki': 8}</td>\n",
       "      <td>8</td>\n",
       "      <td>4</td>\n",
       "    </tr>\n",
       "    <tr>\n",
       "      <th>9</th>\n",
       "      <td>داشت پنجشیر</td>\n",
       "      <td>{'داشت پنجشیر': 0.0201}</td>\n",
       "      <td>{'داشت پنجشیر': 0.0}</td>\n",
       "      <td>{'داشت پنجشیر': 1.0}</td>\n",
       "      <td>{'داشت پنجشیر': 9}</td>\n",
       "      <td>9</td>\n",
       "      <td>4</td>\n",
       "    </tr>\n",
       "    <tr>\n",
       "      <th>10</th>\n",
       "      <td>qermez khalifeh-ye `olya</td>\n",
       "      <td>{'qermez khalifeh-ye `olya': 0.9211}</td>\n",
       "      <td>{'qermez khalifeh-ye `olya': 0.0}</td>\n",
       "      <td>{'qermez khalifeh-ye `olya': 1.0}</td>\n",
       "      <td>{'qermez khalifeh-ye `olya': 10}</td>\n",
       "      <td>10</td>\n",
       "      <td>4</td>\n",
       "    </tr>\n",
       "    <tr>\n",
       "      <th>11</th>\n",
       "      <td>კირენია</td>\n",
       "      <td>{'კირენია': 0.0422}</td>\n",
       "      <td>{'კირენია': 0.0}</td>\n",
       "      <td>{'კირენია': 1.0}</td>\n",
       "      <td>{'კირენია': 11}</td>\n",
       "      <td>11</td>\n",
       "      <td>4</td>\n",
       "    </tr>\n",
       "    <tr>\n",
       "      <th>12</th>\n",
       "      <td>ozero pogoreloe</td>\n",
       "      <td>{'ozero pogoreloe': 0.8451}</td>\n",
       "      <td>{'ozero pogoreloe': 0.0}</td>\n",
       "      <td>{'ozero pogoreloe': 1.0}</td>\n",
       "      <td>{'ozero pogoreloe': 12}</td>\n",
       "      <td>12</td>\n",
       "      <td>4</td>\n",
       "    </tr>\n",
       "    <tr>\n",
       "      <th>13</th>\n",
       "      <td>anfijld</td>\n",
       "      <td>{'anfijld': 0.7445}</td>\n",
       "      <td>{'anfijld': 0.0}</td>\n",
       "      <td>{'anfijld': 1.0}</td>\n",
       "      <td>{'anfijld': 13}</td>\n",
       "      <td>13</td>\n",
       "      <td>4</td>\n",
       "    </tr>\n",
       "    <tr>\n",
       "      <th>14</th>\n",
       "      <td>qanât el-manzala</td>\n",
       "      <td>{'qanât el-manzala': 0.9472}</td>\n",
       "      <td>{'qanât el-manzala': 0.0}</td>\n",
       "      <td>{'qanât el-manzala': 1.0}</td>\n",
       "      <td>{'qanât el-manzala': 14}</td>\n",
       "      <td>14</td>\n",
       "      <td>4</td>\n",
       "    </tr>\n",
       "    <tr>\n",
       "      <th>15</th>\n",
       "      <td>starnay</td>\n",
       "      <td>{'starnay': 0.8778}</td>\n",
       "      <td>{'starnay': 0.0}</td>\n",
       "      <td>{'starnay': 1.0}</td>\n",
       "      <td>{'starnay': 15}</td>\n",
       "      <td>15</td>\n",
       "      <td>4</td>\n",
       "    </tr>\n",
       "    <tr>\n",
       "      <th>16</th>\n",
       "      <td>bandar-e hūnī</td>\n",
       "      <td>{'bandar-e hūnī': 0.7406}</td>\n",
       "      <td>{'bandar-e hūnī': 0.0}</td>\n",
       "      <td>{'bandar-e hūnī': 1.0}</td>\n",
       "      <td>{'bandar-e hūnī': 16}</td>\n",
       "      <td>16</td>\n",
       "      <td>4</td>\n",
       "    </tr>\n",
       "    <tr>\n",
       "      <th>17</th>\n",
       "      <td>sinbotin</td>\n",
       "      <td>{'sinbotin': 0.8894}</td>\n",
       "      <td>{'sinbotin': 0.0}</td>\n",
       "      <td>{'sinbotin': 1.0}</td>\n",
       "      <td>{'sinbotin': 17}</td>\n",
       "      <td>17</td>\n",
       "      <td>4</td>\n",
       "    </tr>\n",
       "    <tr>\n",
       "      <th>18</th>\n",
       "      <td>yŏhangmyŏn-samuso</td>\n",
       "      <td>{'yŏhangmyŏn-samuso': 0.9519}</td>\n",
       "      <td>{'yŏhangmyŏn-samuso': 0.0}</td>\n",
       "      <td>{'yŏhangmyŏn-samuso': 1.0}</td>\n",
       "      <td>{'yŏhangmyŏn-samuso': 18}</td>\n",
       "      <td>18</td>\n",
       "      <td>4</td>\n",
       "    </tr>\n",
       "    <tr>\n",
       "      <th>19</th>\n",
       "      <td>mājra</td>\n",
       "      <td>{'mājra': 0.7348}</td>\n",
       "      <td>{'mājra': 0.0}</td>\n",
       "      <td>{'mājra': 1.0}</td>\n",
       "      <td>{'mājra': 19}</td>\n",
       "      <td>19</td>\n",
       "      <td>4</td>\n",
       "    </tr>\n",
       "  </tbody>\n",
       "</table>\n",
       "</div>"
      ],
      "text/plain": [
       "                              query  \\\n",
       "id                                    \n",
       "0                        la dom nxy   \n",
       "1                            krutoy   \n",
       "2                        sharunyata   \n",
       "3                         sutangcun   \n",
       "4                 jowkār-e shafī‘   \n",
       "5   rongreiyn ban hwy h wk cxmthxng   \n",
       "6                               同心村   \n",
       "7                       engeskjæran   \n",
       "8                        izumo-zaki   \n",
       "9                       داشت پنجشیر   \n",
       "10         qermez khalifeh-ye `olya   \n",
       "11                          კირენია   \n",
       "12                  ozero pogoreloe   \n",
       "13                          anfijld   \n",
       "14                qanât el-manzala   \n",
       "15                          starnay   \n",
       "16                  bandar-e hūnī   \n",
       "17                         sinbotin   \n",
       "18              yŏhangmyŏn-samuso   \n",
       "19                           mājra   \n",
       "\n",
       "                                     pred_score  \\\n",
       "id                                                \n",
       "0                         {'la dom nxy': 0.762}   \n",
       "1                            {'krutoy': 0.8526}   \n",
       "2                        {'sharunyata': 0.8205}   \n",
       "3                         {'sutangcun': 0.7418}   \n",
       "4                 {'jowkār-e shafī‘': 0.7983}   \n",
       "5   {'rongreiyn ban hwy h wk cxmthxng': 0.7339}   \n",
       "6                               {'同心村': 0.2594}   \n",
       "7                       {'engeskjæran': 0.9486}   \n",
       "8                          {'izumo-zaki': 0.96}   \n",
       "9                       {'داشت پنجشیر': 0.0201}   \n",
       "10         {'qermez khalifeh-ye `olya': 0.9211}   \n",
       "11                          {'კირენია': 0.0422}   \n",
       "12                  {'ozero pogoreloe': 0.8451}   \n",
       "13                          {'anfijld': 0.7445}   \n",
       "14                {'qanât el-manzala': 0.9472}   \n",
       "15                          {'starnay': 0.8778}   \n",
       "16                  {'bandar-e hūnī': 0.7406}   \n",
       "17                         {'sinbotin': 0.8894}   \n",
       "18              {'yŏhangmyŏn-samuso': 0.9519}   \n",
       "19                           {'mājra': 0.7348}   \n",
       "\n",
       "                              faiss_distance  \\\n",
       "id                                             \n",
       "0                        {'la dom nxy': 0.0}   \n",
       "1                            {'krutoy': 0.0}   \n",
       "2                        {'sharunyata': 0.0}   \n",
       "3                         {'sutangcun': 0.0}   \n",
       "4                 {'jowkār-e shafī‘': 0.0}   \n",
       "5   {'rongreiyn ban hwy h wk cxmthxng': 0.0}   \n",
       "6                               {'同心村': 0.0}   \n",
       "7                       {'engeskjæran': 0.0}   \n",
       "8                        {'izumo-zaki': 0.0}   \n",
       "9                       {'داشت پنجشیر': 0.0}   \n",
       "10         {'qermez khalifeh-ye `olya': 0.0}   \n",
       "11                          {'კირენია': 0.0}   \n",
       "12                  {'ozero pogoreloe': 0.0}   \n",
       "13                          {'anfijld': 0.0}   \n",
       "14                {'qanât el-manzala': 0.0}   \n",
       "15                          {'starnay': 0.0}   \n",
       "16                  {'bandar-e hūnī': 0.0}   \n",
       "17                         {'sinbotin': 0.0}   \n",
       "18              {'yŏhangmyŏn-samuso': 0.0}   \n",
       "19                           {'mājra': 0.0}   \n",
       "\n",
       "                                  cosine_sim  \\\n",
       "id                                             \n",
       "0                        {'la dom nxy': 1.0}   \n",
       "1                            {'krutoy': 1.0}   \n",
       "2                        {'sharunyata': 1.0}   \n",
       "3                         {'sutangcun': 1.0}   \n",
       "4                 {'jowkār-e shafī‘': 1.0}   \n",
       "5   {'rongreiyn ban hwy h wk cxmthxng': 1.0}   \n",
       "6                               {'同心村': 1.0}   \n",
       "7                       {'engeskjæran': 1.0}   \n",
       "8                        {'izumo-zaki': 1.0}   \n",
       "9                       {'داشت پنجشیر': 1.0}   \n",
       "10         {'qermez khalifeh-ye `olya': 1.0}   \n",
       "11                          {'კირენია': 1.0}   \n",
       "12                  {'ozero pogoreloe': 1.0}   \n",
       "13                          {'anfijld': 1.0}   \n",
       "14                {'qanât el-manzala': 1.0}   \n",
       "15                          {'starnay': 1.0}   \n",
       "16                  {'bandar-e hūnī': 1.0}   \n",
       "17                         {'sinbotin': 1.0}   \n",
       "18              {'yŏhangmyŏn-samuso': 1.0}   \n",
       "19                           {'mājra': 1.0}   \n",
       "\n",
       "                    candidate_original_ids  query_original_id  \\\n",
       "id                                                              \n",
       "0                        {'la dom nxy': 0}                  0   \n",
       "1                            {'krutoy': 1}                  1   \n",
       "2                        {'sharunyata': 2}                  2   \n",
       "3                         {'sutangcun': 3}                  3   \n",
       "4                 {'jowkār-e shafī‘': 4}                  4   \n",
       "5   {'rongreiyn ban hwy h wk cxmthxng': 5}                  5   \n",
       "6                               {'同心村': 6}                  6   \n",
       "7                       {'engeskjæran': 7}                  7   \n",
       "8                        {'izumo-zaki': 8}                  8   \n",
       "9                       {'داشت پنجشیر': 9}                  9   \n",
       "10        {'qermez khalifeh-ye `olya': 10}                 10   \n",
       "11                         {'კირენია': 11}                 11   \n",
       "12                 {'ozero pogoreloe': 12}                 12   \n",
       "13                         {'anfijld': 13}                 13   \n",
       "14               {'qanât el-manzala': 14}                 14   \n",
       "15                         {'starnay': 15}                 15   \n",
       "16                 {'bandar-e hūnī': 16}                 16   \n",
       "17                        {'sinbotin': 17}                 17   \n",
       "18             {'yŏhangmyŏn-samuso': 18}                 18   \n",
       "19                          {'mājra': 19}                 19   \n",
       "\n",
       "    num_all_searches  \n",
       "id                    \n",
       "0                  4  \n",
       "1                  4  \n",
       "2                  4  \n",
       "3                  4  \n",
       "4                  4  \n",
       "5                  4  \n",
       "6                  4  \n",
       "7                  4  \n",
       "8                  4  \n",
       "9                  4  \n",
       "10                 4  \n",
       "11                 4  \n",
       "12                 4  \n",
       "13                 4  \n",
       "14                 4  \n",
       "15                 4  \n",
       "16                 4  \n",
       "17                 4  \n",
       "18                 4  \n",
       "19                 4  "
      ]
     },
     "execution_count": 8,
     "metadata": {},
     "output_type": "execute_result"
    }
   ],
   "source": [
    "candidates_pd"
   ]
  },
  {
   "cell_type": "code",
   "execution_count": null,
   "metadata": {},
   "outputs": [],
   "source": []
  }
 ],
 "metadata": {
  "kernelspec": {
   "display_name": "Python 3",
   "language": "python",
   "name": "python3"
  },
  "language_info": {
   "codemirror_mode": {
    "name": "ipython",
    "version": 3
   },
   "file_extension": ".py",
   "mimetype": "text/x-python",
   "name": "python",
   "nbconvert_exporter": "python",
   "pygments_lexer": "ipython3",
   "version": "3.7.6"
  }
 },
 "nbformat": 4,
 "nbformat_minor": 4
}
