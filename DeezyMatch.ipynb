{
 "cells": [
  {
   "cell_type": "code",
   "execution_count": null,
   "metadata": {},
   "outputs": [],
   "source": [
    "from DeezyMatch import train as dm_train\n",
    "\n",
    "# train a new model\n",
    "dm_train(input_file_path=\"input_dfm.yaml\", \n",
    "         dataset_path=\"dataset/dataset-string-similarity_test.txt\", \n",
    "         model_name=\"test001\")"
   ]
  },
  {
   "cell_type": "code",
   "execution_count": null,
   "metadata": {},
   "outputs": [],
   "source": [
    "from DeezyMatch import finetune as dm_finetune\n",
    "\n",
    "# fine-tune a pretrained model\n",
    "dm_finetune(input_file_path=\"input_dfm.yaml\", \n",
    "            dataset_path=\"dataset/dataset-string-similarity_test.txt\", \n",
    "            model_name=\"finetuned_test001\",\n",
    "            pretrained_model_path=\"./models/test001/test001.model\", \n",
    "            pretrained_vocab_path=\"./models/test001/test001.vocab\")"
   ]
  },
  {
   "cell_type": "code",
   "execution_count": null,
   "metadata": {},
   "outputs": [],
   "source": [
    "from DeezyMatch import inference as dm_inference\n",
    "\n",
    "# model inference\n",
    "dm_inference(input_file_path=\"./input_dfm.yaml\",\n",
    "             dataset_path=\"dataset/dataset-string-similarity_test.txt\", \n",
    "             pretrained_model_path=\"./models/finetuned_test001/finetuned_test001.model\", \n",
    "             pretrained_vocab_path=\"./models/finetuned_test001/finetuned_test001.vocab\")"
   ]
  },
  {
   "cell_type": "code",
   "execution_count": null,
   "metadata": {},
   "outputs": [],
   "source": [
    "# generate vectors for queries and candidates\n",
    "dm_inference(input_file_path=\"./input_dfm.yaml\",\n",
    "             dataset_path=\"dataset/dataset-string-similarity_test.txt\", \n",
    "             pretrained_model_path=\"./models/finetuned_test001/finetuned_test001.model\", \n",
    "             pretrained_vocab_path=\"./models/finetuned_test001/finetuned_test001.vocab\",\n",
    "             inference_mode=\"vect\",\n",
    "             query_candidate_mode=[\"q\", \"c\"],\n",
    "             scenario=\"test\")"
   ]
  },
  {
   "cell_type": "code",
   "execution_count": null,
   "metadata": {},
   "outputs": [],
   "source": [
    "from DeezyMatch import combine_vecs\n",
    "\n",
    "#combine vectors\n",
    "combine_vecs(qc_modes=['q', 'c'], \n",
    "             rnn_passes=['fwd', 'bwd'], \n",
    "             input_scenario='test', \n",
    "             output_scenario='test', \n",
    "             print_every=1)"
   ]
  },
  {
   "cell_type": "code",
   "execution_count": null,
   "metadata": {},
   "outputs": [],
   "source": [
    "from DeezyMatch import candidate_finder\n",
    "\n",
    "# Find candidates\n",
    "candidates_pd = \\\n",
    "    candidate_finder(scenario=\"./combined/test/\", \n",
    "                     ranking_metric=\"conf\", \n",
    "                     selection_threshold=0.51, \n",
    "                     num_candidates=1, \n",
    "                     search_size=4, \n",
    "                     output_filename=\"test_candidates_deezymatch\", \n",
    "                     pretrained_model_path=\"./models/test001/test001.model\", \n",
    "                     pretrained_vocab_path=\"./models/test001/test001.vocab\", \n",
    "                     number_test_rows=20) "
   ]
  }
 ],
 "metadata": {
  "kernelspec": {
   "display_name": "Python (py37deezy)",
   "language": "python",
   "name": "py37deezy"
  },
  "language_info": {
   "codemirror_mode": {
    "name": "ipython",
    "version": 3
   },
   "file_extension": ".py",
   "mimetype": "text/x-python",
   "name": "python",
   "nbconvert_exporter": "python",
   "pygments_lexer": "ipython3",
   "version": "3.7.7"
  }
 },
 "nbformat": 4,
 "nbformat_minor": 4
}
